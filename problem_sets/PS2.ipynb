{
 "cells": [
  {
   "cell_type": "markdown",
   "metadata": {},
   "source": [
    "# 6.S083 / 18.S190 Problem set 2: Probability and modelling recovery\n",
    "\n",
    "## Submission deadline: 11:59pm on Tuesday, April 14\n",
    "\n",
    "\n",
    "In this problem set we will look at probability distributions and how to model recovery from an infection.\n",
    "\n",
    "Note: If you are unable to get `Interact.jl` to work to create interactive visualizations, note this fact on your pset submission. Where it says to create an interactive visualization, instead write a function that creates one of the plots, and run that function for different parameter values manually, showing the resulting plots.\n",
    "\n",
    "Similarly, if you have problems running simulations for larger values of the parameters, just do what you can and make a note."
   ]
  },
  {
   "cell_type": "markdown",
   "metadata": {},
   "source": [
    "## Exercise 1: Frequencies\n",
    "\n",
    "In this exercise we will write a more general function to\n",
    "count occurrences of values in a set of data. In class we used\n",
    "as `Vector`, but that is difficult to use with data that jumps around a lot.\n",
    "\n",
    "1. Write a function `counts` that accepts a vector `data` and calculates the number of times each value in `data` occurs.\n",
    "\n",
    "    To do so, use a **dictionary** called `counts`.  \n",
    "    A dictionary maps a **key** to a **value**.\n",
    "    We want to map integers to integers, so we create an empty dictionary with\n",
    "\n",
    "    ```jl\n",
    "    d = Dict{Int, Int}()\n",
    "    ```\n",
    "\n",
    "    Use the `haskey` function to find out whether the `Dict` contains a given key or not.\n",
    "\n",
    "    Use indexing to add a new (key, value) pair, or to retrieve a value:\n",
    "\n",
    "    ```jl\n",
    "    d[3] = 1\n",
    "    d[3]\n",
    "    ```\n",
    "\n",
    "    The function should return the dictionary.\n",
    "\n",
    "2. Test that your code is correct by applying it to obtain the counts of the data vector `vv = [1, 0, 1, 0, 1000, 1, 1, 1000]`. What\n",
    "should the result be?\n",
    "\n",
    "\n",
    "The dictionary contains the information as a sequence of **pairs** mapping keys to values. This is not a particularly useful form for us. Instead we would prefer a vector of the keys and a vector of the values, sorted in order of the key.\n",
    "\n",
    "Make a new version of the `counts` function where you do the following (below). Start off by just running the following commands each in their own cell on the dictionary you got by running the previous `counts` function on the vector `vv` so that you see the result of running each command. Once you have understood what's happening at *each* step, add them to the `counts` function in a new cell.\n",
    "\n",
    "3. Extract vectors `ks` of keys and `vs` of values using the `keys()` and `values()` functions and convert the results into a vector using the `collect` function.\n",
    "\n",
    "4. Define a variable `p` as the result of running the `sortperm` on the keys. This gives a **permutation** that tells you in which order you need to take the keys to give a sorted version.\n",
    "\n",
    "5. Use indexing `ks[p]` to return the sorted keys and values vectors.  \n",
    "\n",
    "    [Here we are passing in a *vector* as the index. Julia extracts the values at the indices given in that vector]\n",
    "\n",
    "6. Test that your new `counts` function gives the correct result for the vector `v` by comparing it to the true result (that you get by doing the counting by hand!)\n",
    "\n",
    "7. Make a function `probability_distribution` that normalizes the result of `counts` to calculate the relative frequency, i.e. to give a probability distribution (i.e. such that the sum of the resulting vector is 1).\n",
    "\n",
    "    The function should return the keys (the unique data that was in the original data set, as calculated in `counts`, and the probabilities (relative frequencies).\n",
    "\n",
    "    Test that it gives the correct result for the vector `vv`.\n",
    "\n",
    "    We will use this function in the rest of the exercises."
   ]
  },
  {
   "cell_type": "code",
   "execution_count": 4,
   "metadata": {},
   "outputs": [
    {
     "data": {
      "text/plain": [
       "counts (generic function with 1 method)"
      ]
     },
     "execution_count": 4,
     "metadata": {},
     "output_type": "execute_result"
    }
   ],
   "source": [
    "function counts(data)\n",
    "    d = Dict{Int, Int}()\n",
    "    for key in data\n",
    "        if haskey(d, key)\n",
    "            d[key] += 1\n",
    "        else\n",
    "            d[key] = 1\n",
    "        end\n",
    "    end\n",
    "    return d\n",
    "end"
   ]
  },
  {
   "cell_type": "code",
   "execution_count": 5,
   "metadata": {},
   "outputs": [
    {
     "data": {
      "text/plain": [
       "Dict{Int64,Int64} with 3 entries:\n",
       "  0    => 2\n",
       "  1000 => 2\n",
       "  1    => 4"
      ]
     },
     "execution_count": 5,
     "metadata": {},
     "output_type": "execute_result"
    }
   ],
   "source": [
    "vv = [1, 0, 1, 0, 1000, 1, 1, 1000]\n",
    "d = counts(vv)"
   ]
  },
  {
   "cell_type": "code",
   "execution_count": 6,
   "metadata": {},
   "outputs": [
    {
     "data": {
      "text/plain": [
       "([0, 1, 1000], [2, 4, 2])"
      ]
     },
     "execution_count": 6,
     "metadata": {},
     "output_type": "execute_result"
    }
   ],
   "source": [
    "ks = collect(keys(d))\n",
    "vs = collect(values(d))\n",
    "p = sortperm(ks)\n",
    "ks[p], vs[p]"
   ]
  },
  {
   "cell_type": "code",
   "execution_count": 7,
   "metadata": {},
   "outputs": [
    {
     "data": {
      "text/plain": [
       "counts (generic function with 1 method)"
      ]
     },
     "execution_count": 7,
     "metadata": {},
     "output_type": "execute_result"
    }
   ],
   "source": [
    "function counts(data)\n",
    "    d = Dict{Int, Int}()\n",
    "    for key in data\n",
    "        if haskey(d, key)\n",
    "            d[key] += 1\n",
    "        else\n",
    "            d[key] = 1\n",
    "        end\n",
    "    end\n",
    "    ks = collect(keys(d))\n",
    "    vs = collect(values(d))\n",
    "    p = sortperm(ks)\n",
    "    return ks[p], vs[p]\n",
    "end"
   ]
  },
  {
   "cell_type": "code",
   "execution_count": 8,
   "metadata": {},
   "outputs": [
    {
     "data": {
      "text/plain": [
       "([0, 1, 1000], [2, 4, 2])"
      ]
     },
     "execution_count": 8,
     "metadata": {},
     "output_type": "execute_result"
    }
   ],
   "source": [
    "vv = [1, 0, 1, 0, 1000, 1, 1, 1000]\n",
    "counts(vv)"
   ]
  },
  {
   "cell_type": "code",
   "execution_count": 9,
   "metadata": {},
   "outputs": [
    {
     "data": {
      "text/plain": [
       "probability_distribution (generic function with 1 method)"
      ]
     },
     "execution_count": 9,
     "metadata": {},
     "output_type": "execute_result"
    }
   ],
   "source": [
    "function probability_distribution(data)\n",
    "    ks, vs = counts(data)\n",
    "    vs_scaled = [i/sum(vs) for i in vs]\n",
    "    return ks,vs_scaled\n",
    "end"
   ]
  },
  {
   "cell_type": "code",
   "execution_count": 10,
   "metadata": {},
   "outputs": [
    {
     "data": {
      "text/plain": [
       "([0, 1, 1000], [0.25, 0.5, 0.25])"
      ]
     },
     "execution_count": 10,
     "metadata": {},
     "output_type": "execute_result"
    }
   ],
   "source": [
    "vv = [1, 0, 1, 0, 1000, 1, 1, 1000]\n",
    "probability_distribution(vv)"
   ]
  },
  {
   "cell_type": "markdown",
   "metadata": {},
   "source": [
    "### Exercise 2: Modelling recovery\n",
    "\n",
    "In this exercise, we will investigate the simple model of recovery from an infection that was described in lectures. We\n",
    "want to study the time $\\tau$ to recover.\n",
    "\n",
    "In this model, an individual who is infected has probability $p$ to recover each day. If they recover on day $n$ then $\\tau = n$.\n",
    "We see that $\\tau$ is a random variable, so we need to study its **probability distribution**.\n",
    "\n",
    "1. Define the function `bernoulli(p)` from lectures. Recall that this generates `true` with probability $p$ and `false` with probability $(1 - p)$.\n",
    "\n",
    "2. Write a function `geometric(p)`. This should run a simulation with probability $p$ to recover and wait *until* the individual recovers, at which point it returns the time taken to recover.\n",
    "\n",
    "3. Write a function `experiment(p, N)` that runs the function from [2] `N` times and collects the results into a vector.\n",
    "\n",
    "4. Run an experiment with $p=0.25$ and $N=10,000$. Plot the resulting probability distribution, i.e. plot $P(\\tau = n)$ against $n$, where $n$ is the recovery time.\n",
    "\n",
    "5. Calculate the mean recovery time and add it to the plot using the `vline!()` function and the `ls=:dash` argument to make a dashed line.\n",
    "\n",
    "    Note that `vline!` requires a *vector* of values where you wish to draw vertical lines.\n",
    "\n",
    "6. What shape does the distribution seem to have? Can you verify that by using one or more log scales?\n",
    "\n",
    "7. Write an interactive visualization that repeats [4] for $p$ varying between $0$ and $1$ and $N$ between $0$ and $100,000$.\n",
    "\n",
    "    As you vary $p$, what do you observe? Does that make sense?\n",
    "\n",
    "    Note that you can make a range for $p$ using something like `0:0.01:1.0`, and you can make a `@manipulate` with additional sliders using a double `for` loop: `for a in 1:10, b in 1:10`.\n",
    "\n",
    "8. Fix $N = 10,000$ and calculate the *mean* time $\\langle \\tau(p) \\rangle$ to recover. Plot this as a function of $p$.\n",
    "Can you find the relationship between the two quantities?"
   ]
  },
  {
   "cell_type": "code",
   "execution_count": 11,
   "metadata": {},
   "outputs": [
    {
     "data": {
      "text/plain": [
       "bernoulli (generic function with 1 method)"
      ]
     },
     "execution_count": 11,
     "metadata": {},
     "output_type": "execute_result"
    }
   ],
   "source": [
    "function bernoulli(p)\n",
    "    x = rand()\n",
    "    return x < p\n",
    "end"
   ]
  },
  {
   "cell_type": "code",
   "execution_count": 12,
   "metadata": {},
   "outputs": [
    {
     "data": {
      "text/plain": [
       "geometric (generic function with 1 method)"
      ]
     },
     "execution_count": 12,
     "metadata": {},
     "output_type": "execute_result"
    }
   ],
   "source": [
    "function geometric(p)\n",
    "    x = rand()\n",
    "    if x < p\n",
    "        return 1\n",
    "    else\n",
    "        return 1 + geometric(p)\n",
    "    end\n",
    "end"
   ]
  },
  {
   "cell_type": "code",
   "execution_count": 13,
   "metadata": {},
   "outputs": [
    {
     "data": {
      "text/plain": [
       "experiment (generic function with 1 method)"
      ]
     },
     "execution_count": 13,
     "metadata": {},
     "output_type": "execute_result"
    }
   ],
   "source": [
    "function experiment(p, N)\n",
    "    results = zeros(N)\n",
    "    for i in 1:N\n",
    "        results[i] = geometric(p)\n",
    "    end\n",
    "    return results\n",
    "end"
   ]
  },
  {
   "cell_type": "code",
   "execution_count": 14,
   "metadata": {},
   "outputs": [
    {
     "data": {
      "text/plain": [
       "([1, 2, 3, 4, 5, 6, 7, 8, 9, 10  …  21, 22, 23, 24, 25, 26, 27, 28, 29, 30], [0.2438, 0.1894, 0.1453, 0.1038, 0.0804, 0.0587, 0.0431, 0.0336, 0.0264, 0.0192  …  0.0009, 0.0012, 0.0004, 0.0004, 0.0001, 0.0003, 0.0002, 0.0001, 0.0002, 0.0001])"
      ]
     },
     "execution_count": 14,
     "metadata": {},
     "output_type": "execute_result"
    }
   ],
   "source": [
    "p = 0.25\n",
    "N = 10000\n",
    "results = experiment(p, N)\n",
    "pdf = probability_distribution(results)"
   ]
  },
  {
   "cell_type": "code",
   "execution_count": 15,
   "metadata": {},
   "outputs": [
    {
     "ename": "UndefVarError",
     "evalue": "UndefVarError: mean not defined",
     "output_type": "error",
     "traceback": [
      "UndefVarError: mean not defined",
      "",
      "Stacktrace:",
      " [1] top-level scope at In[15]:4"
     ]
    }
   ],
   "source": [
    "using Plots\n",
    "p = plot()\n",
    "plot!(pdf)\n",
    "m = mean(results)\n",
    "vline!([m],ls=:dash)\n",
    "p"
   ]
  },
  {
   "cell_type": "code",
   "execution_count": 16,
   "metadata": {},
   "outputs": [
    {
     "data": {
      "image/svg+xml": [
       "<?xml version=\"1.0\" encoding=\"utf-8\"?>\n",
       "<svg xmlns=\"http://www.w3.org/2000/svg\" xmlns:xlink=\"http://www.w3.org/1999/xlink\" width=\"600\" height=\"400\" viewBox=\"0 0 2400 1600\">\n",
       "<defs>\n",
       "  <clipPath id=\"clip9100\">\n",
       "    <rect x=\"0\" y=\"0\" width=\"2400\" height=\"1600\"/>\n",
       "  </clipPath>\n",
       "</defs>\n",
       "<path clip-path=\"url(#clip9100)\" d=\"\n",
       "M0 1600 L2400 1600 L2400 0 L0 0  Z\n",
       "  \" fill=\"#ffffff\" fill-rule=\"evenodd\" fill-opacity=\"1\"/>\n",
       "<defs>\n",
       "  <clipPath id=\"clip9101\">\n",
       "    <rect x=\"480\" y=\"0\" width=\"1681\" height=\"1600\"/>\n",
       "  </clipPath>\n",
       "</defs>\n",
       "<path clip-path=\"url(#clip9100)\" d=\"\n",
       "M180.66 1487.47 L2352.76 1487.47 L2352.76 47.2441 L180.66 47.2441  Z\n",
       "  \" fill=\"#ffffff\" fill-rule=\"evenodd\" fill-opacity=\"1\"/>\n",
       "<defs>\n",
       "  <clipPath id=\"clip9102\">\n",
       "    <rect x=\"180\" y=\"47\" width=\"2173\" height=\"1441\"/>\n",
       "  </clipPath>\n",
       "</defs>\n",
       "<polyline clip-path=\"url(#clip9102)\" style=\"stroke:#000000; stroke-width:2; stroke-opacity:0.1; fill:none\" points=\"\n",
       "  242.135,1487.47 242.135,47.2441 \n",
       "  \"/>\n",
       "<polyline clip-path=\"url(#clip9102)\" style=\"stroke:#000000; stroke-width:2; stroke-opacity:0.1; fill:none\" points=\"\n",
       "  935.763,1487.47 935.763,47.2441 \n",
       "  \"/>\n",
       "<polyline clip-path=\"url(#clip9102)\" style=\"stroke:#000000; stroke-width:2; stroke-opacity:0.1; fill:none\" points=\"\n",
       "  1629.39,1487.47 1629.39,47.2441 \n",
       "  \"/>\n",
       "<polyline clip-path=\"url(#clip9102)\" style=\"stroke:#000000; stroke-width:2; stroke-opacity:0.1; fill:none\" points=\"\n",
       "  2323.02,1487.47 2323.02,47.2441 \n",
       "  \"/>\n",
       "<polyline clip-path=\"url(#clip9102)\" style=\"stroke:#000000; stroke-width:2; stroke-opacity:0.1; fill:none\" points=\"\n",
       "  180.66,1447.27 2352.76,1447.27 \n",
       "  \"/>\n",
       "<polyline clip-path=\"url(#clip9102)\" style=\"stroke:#000000; stroke-width:2; stroke-opacity:0.1; fill:none\" points=\"\n",
       "  180.66,1168.5 2352.76,1168.5 \n",
       "  \"/>\n",
       "<polyline clip-path=\"url(#clip9102)\" style=\"stroke:#000000; stroke-width:2; stroke-opacity:0.1; fill:none\" points=\"\n",
       "  180.66,889.738 2352.76,889.738 \n",
       "  \"/>\n",
       "<polyline clip-path=\"url(#clip9102)\" style=\"stroke:#000000; stroke-width:2; stroke-opacity:0.1; fill:none\" points=\"\n",
       "  180.66,610.971 2352.76,610.971 \n",
       "  \"/>\n",
       "<polyline clip-path=\"url(#clip9102)\" style=\"stroke:#000000; stroke-width:2; stroke-opacity:0.1; fill:none\" points=\"\n",
       "  180.66,332.205 2352.76,332.205 \n",
       "  \"/>\n",
       "<polyline clip-path=\"url(#clip9102)\" style=\"stroke:#000000; stroke-width:2; stroke-opacity:0.1; fill:none\" points=\"\n",
       "  180.66,53.4383 2352.76,53.4383 \n",
       "  \"/>\n",
       "<polyline clip-path=\"url(#clip9100)\" style=\"stroke:#000000; stroke-width:4; stroke-opacity:1; fill:none\" points=\"\n",
       "  180.66,1487.47 2352.76,1487.47 \n",
       "  \"/>\n",
       "<polyline clip-path=\"url(#clip9100)\" style=\"stroke:#000000; stroke-width:4; stroke-opacity:1; fill:none\" points=\"\n",
       "  180.66,1487.47 180.66,47.2441 \n",
       "  \"/>\n",
       "<polyline clip-path=\"url(#clip9100)\" style=\"stroke:#000000; stroke-width:4; stroke-opacity:1; fill:none\" points=\"\n",
       "  242.135,1487.47 242.135,1470.19 \n",
       "  \"/>\n",
       "<polyline clip-path=\"url(#clip9100)\" style=\"stroke:#000000; stroke-width:4; stroke-opacity:1; fill:none\" points=\"\n",
       "  935.763,1487.47 935.763,1470.19 \n",
       "  \"/>\n",
       "<polyline clip-path=\"url(#clip9100)\" style=\"stroke:#000000; stroke-width:4; stroke-opacity:1; fill:none\" points=\"\n",
       "  1629.39,1487.47 1629.39,1470.19 \n",
       "  \"/>\n",
       "<polyline clip-path=\"url(#clip9100)\" style=\"stroke:#000000; stroke-width:4; stroke-opacity:1; fill:none\" points=\"\n",
       "  2323.02,1487.47 2323.02,1470.19 \n",
       "  \"/>\n",
       "<polyline clip-path=\"url(#clip9100)\" style=\"stroke:#000000; stroke-width:4; stroke-opacity:1; fill:none\" points=\"\n",
       "  180.66,1447.27 206.725,1447.27 \n",
       "  \"/>\n",
       "<polyline clip-path=\"url(#clip9100)\" style=\"stroke:#000000; stroke-width:4; stroke-opacity:1; fill:none\" points=\"\n",
       "  180.66,1168.5 206.725,1168.5 \n",
       "  \"/>\n",
       "<polyline clip-path=\"url(#clip9100)\" style=\"stroke:#000000; stroke-width:4; stroke-opacity:1; fill:none\" points=\"\n",
       "  180.66,889.738 206.725,889.738 \n",
       "  \"/>\n",
       "<polyline clip-path=\"url(#clip9100)\" style=\"stroke:#000000; stroke-width:4; stroke-opacity:1; fill:none\" points=\"\n",
       "  180.66,610.971 206.725,610.971 \n",
       "  \"/>\n",
       "<polyline clip-path=\"url(#clip9100)\" style=\"stroke:#000000; stroke-width:4; stroke-opacity:1; fill:none\" points=\"\n",
       "  180.66,332.205 206.725,332.205 \n",
       "  \"/>\n",
       "<polyline clip-path=\"url(#clip9100)\" style=\"stroke:#000000; stroke-width:4; stroke-opacity:1; fill:none\" points=\"\n",
       "  180.66,53.4383 206.725,53.4383 \n",
       "  \"/>\n",
       "<g clip-path=\"url(#clip9100)\">\n",
       "<text style=\"fill:#000000; fill-opacity:1; font-family:Arial,Helvetica Neue,Helvetica,sans-serif; font-size:48px; text-anchor:start;\" transform=\"rotate(0, 188.192, 1562.48)\" x=\"188.192\" y=\"1562.48\">10</text>\n",
       "</g>\n",
       "<g clip-path=\"url(#clip9100)\">\n",
       "<text style=\"fill:#000000; fill-opacity:1; font-family:Arial,Helvetica Neue,Helvetica,sans-serif; font-size:38px; text-anchor:start;\" transform=\"rotate(0, 241.717, 1535.07)\" x=\"241.717\" y=\"1535.07\">0.0</text>\n",
       "</g>\n",
       "<g clip-path=\"url(#clip9100)\">\n",
       "<text style=\"fill:#000000; fill-opacity:1; font-family:Arial,Helvetica Neue,Helvetica,sans-serif; font-size:48px; text-anchor:start;\" transform=\"rotate(0, 881.82, 1562.48)\" x=\"881.82\" y=\"1562.48\">10</text>\n",
       "</g>\n",
       "<g clip-path=\"url(#clip9100)\">\n",
       "<text style=\"fill:#000000; fill-opacity:1; font-family:Arial,Helvetica Neue,Helvetica,sans-serif; font-size:38px; text-anchor:start;\" transform=\"rotate(0, 935.345, 1535.07)\" x=\"935.345\" y=\"1535.07\">0.5</text>\n",
       "</g>\n",
       "<g clip-path=\"url(#clip9100)\">\n",
       "<text style=\"fill:#000000; fill-opacity:1; font-family:Arial,Helvetica Neue,Helvetica,sans-serif; font-size:48px; text-anchor:start;\" transform=\"rotate(0, 1575.45, 1562.48)\" x=\"1575.45\" y=\"1562.48\">10</text>\n",
       "</g>\n",
       "<g clip-path=\"url(#clip9100)\">\n",
       "<text style=\"fill:#000000; fill-opacity:1; font-family:Arial,Helvetica Neue,Helvetica,sans-serif; font-size:38px; text-anchor:start;\" transform=\"rotate(0, 1628.97, 1535.07)\" x=\"1628.97\" y=\"1535.07\">1.0</text>\n",
       "</g>\n",
       "<g clip-path=\"url(#clip9100)\">\n",
       "<text style=\"fill:#000000; fill-opacity:1; font-family:Arial,Helvetica Neue,Helvetica,sans-serif; font-size:48px; text-anchor:start;\" transform=\"rotate(0, 2269.08, 1562.48)\" x=\"2269.08\" y=\"1562.48\">10</text>\n",
       "</g>\n",
       "<g clip-path=\"url(#clip9100)\">\n",
       "<text style=\"fill:#000000; fill-opacity:1; font-family:Arial,Helvetica Neue,Helvetica,sans-serif; font-size:38px; text-anchor:start;\" transform=\"rotate(0, 2322.6, 1535.07)\" x=\"2322.6\" y=\"1535.07\">1.5</text>\n",
       "</g>\n",
       "<g clip-path=\"url(#clip9100)\">\n",
       "<text style=\"fill:#000000; fill-opacity:1; font-family:Arial,Helvetica Neue,Helvetica,sans-serif; font-size:48px; text-anchor:end;\" transform=\"rotate(0, 156.66, 1464.77)\" x=\"156.66\" y=\"1464.77\">0.00</text>\n",
       "</g>\n",
       "<g clip-path=\"url(#clip9100)\">\n",
       "<text style=\"fill:#000000; fill-opacity:1; font-family:Arial,Helvetica Neue,Helvetica,sans-serif; font-size:48px; text-anchor:end;\" transform=\"rotate(0, 156.66, 1186)\" x=\"156.66\" y=\"1186\">0.05</text>\n",
       "</g>\n",
       "<g clip-path=\"url(#clip9100)\">\n",
       "<text style=\"fill:#000000; fill-opacity:1; font-family:Arial,Helvetica Neue,Helvetica,sans-serif; font-size:48px; text-anchor:end;\" transform=\"rotate(0, 156.66, 907.238)\" x=\"156.66\" y=\"907.238\">0.10</text>\n",
       "</g>\n",
       "<g clip-path=\"url(#clip9100)\">\n",
       "<text style=\"fill:#000000; fill-opacity:1; font-family:Arial,Helvetica Neue,Helvetica,sans-serif; font-size:48px; text-anchor:end;\" transform=\"rotate(0, 156.66, 628.471)\" x=\"156.66\" y=\"628.471\">0.15</text>\n",
       "</g>\n",
       "<g clip-path=\"url(#clip9100)\">\n",
       "<text style=\"fill:#000000; fill-opacity:1; font-family:Arial,Helvetica Neue,Helvetica,sans-serif; font-size:48px; text-anchor:end;\" transform=\"rotate(0, 156.66, 349.705)\" x=\"156.66\" y=\"349.705\">0.20</text>\n",
       "</g>\n",
       "<g clip-path=\"url(#clip9100)\">\n",
       "<text style=\"fill:#000000; fill-opacity:1; font-family:Arial,Helvetica Neue,Helvetica,sans-serif; font-size:48px; text-anchor:end;\" transform=\"rotate(0, 156.66, 70.9383)\" x=\"156.66\" y=\"70.9383\">0.25</text>\n",
       "</g>\n",
       "<polyline clip-path=\"url(#clip9102)\" style=\"stroke:#009af9; stroke-width:4; stroke-opacity:1; fill:none\" points=\"\n",
       "  242.135,88.0053 659.741,391.303 904.025,637.175 1077.35,868.552 1211.79,999.014 1321.63,1120 1414.5,1206.97 1494.95,1259.94 1565.91,1300.08 1629.39,1340.22 \n",
       "  1686.81,1371.45 1739.24,1386.5 1787.46,1407.69 1832.11,1413.82 1873.68,1421.07 1912.56,1429.99 1949.08,1431.1 1983.52,1439.47 2016.09,1436.68 2047,1442.81 \n",
       "  2076.39,1442.25 2104.42,1440.58 2131.2,1445.04 2156.84,1445.04 2181.44,1446.71 2205.07,1445.6 2227.8,1446.16 2249.71,1446.71 2270.86,1446.16 2291.28,1446.71 \n",
       "  \n",
       "  \"/>\n",
       "<path clip-path=\"url(#clip9100)\" d=\"\n",
       "M1989.93 251.724 L2280.76 251.724 L2280.76 130.764 L1989.93 130.764  Z\n",
       "  \" fill=\"#ffffff\" fill-rule=\"evenodd\" fill-opacity=\"1\"/>\n",
       "<polyline clip-path=\"url(#clip9100)\" style=\"stroke:#000000; stroke-width:4; stroke-opacity:1; fill:none\" points=\"\n",
       "  1989.93,251.724 2280.76,251.724 2280.76,130.764 1989.93,130.764 1989.93,251.724 \n",
       "  \"/>\n",
       "<polyline clip-path=\"url(#clip9100)\" style=\"stroke:#009af9; stroke-width:4; stroke-opacity:1; fill:none\" points=\"\n",
       "  2013.93,191.244 2157.93,191.244 \n",
       "  \"/>\n",
       "<g clip-path=\"url(#clip9100)\">\n",
       "<text style=\"fill:#000000; fill-opacity:1; font-family:Arial,Helvetica Neue,Helvetica,sans-serif; font-size:48px; text-anchor:start;\" transform=\"rotate(0, 2181.93, 208.744)\" x=\"2181.93\" y=\"208.744\">y1</text>\n",
       "</g>\n",
       "</svg>\n"
      ]
     },
     "execution_count": 16,
     "metadata": {},
     "output_type": "execute_result"
    }
   ],
   "source": [
    "plot!(p,xscale=:log10)"
   ]
  },
  {
   "cell_type": "code",
   "execution_count": 17,
   "metadata": {},
   "outputs": [
    {
     "data": {
      "text/html": [
       "<script>\n",
       "// Immediately-invoked-function-expression to avoid global variables.\n",
       "(function() {\n",
       "    var warning_div = document.getElementById(\"webio-warning-7735568409321857482\");\n",
       "    var hide = function () {\n",
       "        var script = document.getElementById(\"webio-setup-15822627545330400376\");\n",
       "        var parent = script && script.parentElement;\n",
       "        var grandparent = parent && parent.parentElement;\n",
       "        if (grandparent) {\n",
       "            grandparent.style.display = \"none\";\n",
       "        }\n",
       "        warning_div.style.display = \"none\";\n",
       "    };\n",
       "    if (typeof Jupyter !== \"undefined\") {\n",
       "        console.log(\"WebIO detected Jupyter notebook environment.\");\n",
       "        // Jupyter notebook.\n",
       "        var extensions = (\n",
       "            Jupyter\n",
       "            && Jupyter.notebook.config.data\n",
       "            && Jupyter.notebook.config.data.load_extensions\n",
       "        );\n",
       "        if (extensions && extensions[\"webio-jupyter-notebook\"]) {\n",
       "            // Extension already loaded.\n",
       "            console.log(\"Jupyter WebIO nbextension detected; not loading ad-hoc.\");\n",
       "            hide();\n",
       "            return;\n",
       "        }\n",
       "    } else if (window.location.pathname.includes(\"/lab\")) {\n",
       "        // Guessing JupyterLa\n",
       "        console.log(\"Jupyter Lab detected; make sure the @webio/jupyter-lab-provider labextension is installed.\");\n",
       "        hide();\n",
       "        return;\n",
       "    }\n",
       "})();\n",
       "\n",
       "</script>\n",
       "<p\n",
       "    id=\"webio-warning-7735568409321857482\"\n",
       "    class=\"output_text output_stderr\"\n",
       "    style=\"padding: 1em; font-weight: bold;\"\n",
       ">\n",
       "    Unable to load WebIO. Please make sure WebIO works for your Jupyter client.\n",
       "    For troubleshooting, please see <a href=\"https://juliagizmos.github.io/WebIO.jl/latest/providers/ijulia/\">\n",
       "    the WebIO/IJulia documentation</a>.\n",
       "    <!-- TODO: link to installation docs. -->\n",
       "</p>\n"
      ],
      "text/plain": [
       "HTML{String}(\"<script>\\n// Immediately-invoked-function-expression to avoid global variables.\\n(function() {\\n    var warning_div = document.getElementById(\\\"webio-warning-7735568409321857482\\\");\\n    var hide = function () {\\n        var script = document.getElementById(\\\"webio-setup-15822627545330400376\\\");\\n        var parent = script && script.parentElement;\\n        var grandparent = parent && parent.parentElement;\\n        if (grandparent) {\\n            grandparent.style.display = \\\"none\\\";\\n        }\\n        warning_div.style.display = \\\"none\\\";\\n    };\\n    if (typeof Jupyter !== \\\"undefined\\\") {\\n        console.log(\\\"WebIO detected Jupyter notebook environment.\\\");\\n        // Jupyter notebook.\\n        var extensions = (\\n            Jupyter\\n            && Jupyter.notebook.config.data\\n            && Jupyter.notebook.config.data.load_extensions\\n        );\\n        if (extensions && extensions[\\\"webio-jupyter-notebook\\\"]) {\\n            // Extension already loaded.\\n            console.log(\\\"Jupyter WebIO nbextension detected; not loading ad-hoc.\\\");\\n            hide();\\n            return;\\n        }\\n    } else if (window.location.pathname.includes(\\\"/lab\\\")) {\\n        // Guessing JupyterLa\\n        console.log(\\\"Jupyter Lab detected; make sure the @webio/jupyter-lab-provider labextension is installed.\\\");\\n        hide();\\n        return;\\n    }\\n})();\\n\\n</script>\\n<p\\n    id=\\\"webio-warning-7735568409321857482\\\"\\n    class=\\\"output_text output_stderr\\\"\\n    style=\\\"padding: 1em; font-weight: bold;\\\"\\n>\\n    Unable to load WebIO. Please make sure WebIO works for your Jupyter client.\\n    For troubleshooting, please see <a href=\\\"https://juliagizmos.github.io/WebIO.jl/latest/providers/ijulia/\\\">\\n    the WebIO/IJulia documentation</a>.\\n    <!-- TODO: link to installation docs. -->\\n</p>\\n\")"
      ]
     },
     "metadata": {},
     "output_type": "display_data"
    },
    {
     "data": {
      "application/vnd.webio.node+json": {
       "children": [
        {
         "children": [
          {
           "children": [
            {
             "children": [
              {
               "children": [
                {
                 "children": [
                  "p"
                 ],
                 "instanceArgs": {
                  "namespace": "html",
                  "tag": "label"
                 },
                 "nodeType": "DOM",
                 "props": {
                  "className": "interact ",
                  "style": {
                   "padding": "5px 10px 0px 10px"
                  }
                 },
                 "type": "node"
                }
               ],
               "instanceArgs": {
                "namespace": "html",
                "tag": "div"
               },
               "nodeType": "DOM",
               "props": {
                "className": "interact-flex-row-left"
               },
               "type": "node"
              },
              {
               "children": [
                {
                 "children": [],
                 "instanceArgs": {
                  "namespace": "html",
                  "tag": "input"
                 },
                 "nodeType": "DOM",
                 "props": {
                  "attributes": {
                   "data-bind": "numericValue: index, valueUpdate: 'input', event: {change: function (){this.changes(this.changes()+1)}}",
                   "orient": "horizontal",
                   "type": "range"
                  },
                  "className": "slider slider is-fullwidth",
                  "max": 100,
                  "min": 1,
                  "step": 1,
                  "style": {}
                 },
                 "type": "node"
                }
               ],
               "instanceArgs": {
                "namespace": "html",
                "tag": "div"
               },
               "nodeType": "DOM",
               "props": {
                "className": "interact-flex-row-center"
               },
               "type": "node"
              },
              {
               "children": [
                {
                 "children": [],
                 "instanceArgs": {
                  "namespace": "html",
                  "tag": "p"
                 },
                 "nodeType": "DOM",
                 "props": {
                  "attributes": {
                   "data-bind": "text: formatted_val"
                  }
                 },
                 "type": "node"
                }
               ],
               "instanceArgs": {
                "namespace": "html",
                "tag": "div"
               },
               "nodeType": "DOM",
               "props": {
                "className": "interact-flex-row-right"
               },
               "type": "node"
              }
             ],
             "instanceArgs": {
              "namespace": "html",
              "tag": "div"
             },
             "nodeType": "DOM",
             "props": {
              "className": "interact-flex-row interact-widget"
             },
             "type": "node"
            }
           ],
           "instanceArgs": {
            "handlers": {
             "changes": [
              "(function (val){return (val!=this.model[\"changes\"]()) ? (this.valueFromJulia[\"changes\"]=true, this.model[\"changes\"](val)) : undefined})"
             ],
             "index": [
              "(function (val){return (val!=this.model[\"index\"]()) ? (this.valueFromJulia[\"index\"]=true, this.model[\"index\"](val)) : undefined})"
             ]
            },
            "id": "9334427951949080715",
            "imports": {
             "data": [
              {
               "name": "knockout",
               "type": "js",
               "url": "/assetserver/cb912308b570baeec2bdea4dcf17d324a53ef9a0-knockout.js"
              },
              {
               "name": "knockout_punches",
               "type": "js",
               "url": "/assetserver/a9a700823465fbeee026046afade412c0332887e-knockout_punches.js"
              },
              {
               "name": null,
               "type": "js",
               "url": "/assetserver/001903b23d05e109cad92af0b1126329832f94f5-all.js"
              },
              {
               "name": null,
               "type": "css",
               "url": "/assetserver/bc74bef61300b613e16a682448d2068ae248549c-style.css"
              },
              {
               "name": null,
               "type": "css",
               "url": "/assetserver/9dc61a5c9d02475d1af507cc4ff5dac0547e0a53-bulma_confined.min.css"
              }
             ],
             "type": "async_block"
            },
            "mount_callbacks": [
             "function () {\n    var handler = (function (ko, koPunches) {\n    ko.punches.enableAll();\n    ko.bindingHandlers.numericValue = {\n        init: function(element, valueAccessor, allBindings, data, context) {\n            var stringified = ko.observable(ko.unwrap(valueAccessor()));\n            stringified.subscribe(function(value) {\n                var val = parseFloat(value);\n                if (!isNaN(val)) {\n                    valueAccessor()(val);\n                }\n            });\n            valueAccessor().subscribe(function(value) {\n                var str = JSON.stringify(value);\n                if ((str == \"0\") && ([\"-0\", \"-0.\"].indexOf(stringified()) >= 0))\n                     return;\n                 if ([\"null\", \"\"].indexOf(str) >= 0)\n                     return;\n                stringified(str);\n            });\n            ko.applyBindingsToNode(\n                element,\n                {\n                    value: stringified,\n                    valueUpdate: allBindings.get('valueUpdate'),\n                },\n                context,\n            );\n        }\n    };\n    var json_data = {\"formatted_vals\":[\"0.01\",\"0.02\",\"0.03\",\"0.04\",\"0.05\",\"0.06\",\"0.07\",\"0.08\",\"0.09\",\"0.1\",\"0.11\",\"0.12\",\"0.13\",\"0.14\",\"0.15\",\"0.16\",\"0.17\",\"0.18\",\"0.19\",\"0.2\",\"0.21\",\"0.22\",\"0.23\",\"0.24\",\"0.25\",\"0.26\",\"0.27\",\"0.28\",\"0.29\",\"0.3\",\"0.31\",\"0.32\",\"0.33\",\"0.34\",\"0.35\",\"0.36\",\"0.37\",\"0.38\",\"0.39\",\"0.4\",\"0.41\",\"0.42\",\"0.43\",\"0.44\",\"0.45\",\"0.46\",\"0.47\",\"0.48\",\"0.49\",\"0.5\",\"0.51\",\"0.52\",\"0.53\",\"0.54\",\"0.55\",\"0.56\",\"0.57\",\"0.58\",\"0.59\",\"0.6\",\"0.61\",\"0.62\",\"0.63\",\"0.64\",\"0.65\",\"0.66\",\"0.67\",\"0.68\",\"0.69\",\"0.7\",\"0.71\",\"0.72\",\"0.73\",\"0.74\",\"0.75\",\"0.76\",\"0.77\",\"0.78\",\"0.79\",\"0.8\",\"0.81\",\"0.82\",\"0.83\",\"0.84\",\"0.85\",\"0.86\",\"0.87\",\"0.88\",\"0.89\",\"0.9\",\"0.91\",\"0.92\",\"0.93\",\"0.94\",\"0.95\",\"0.96\",\"0.97\",\"0.98\",\"0.99\",\"1.0\"],\"changes\":WebIO.getval({\"name\":\"changes\",\"scope\":\"9334427951949080715\",\"id\":\"ob_03\",\"type\":\"observable\"}),\"index\":WebIO.getval({\"name\":\"index\",\"scope\":\"9334427951949080715\",\"id\":\"ob_02\",\"type\":\"observable\"})};\n    var self = this;\n    function AppViewModel() {\n        for (var key in json_data) {\n            var el = json_data[key];\n            this[key] = Array.isArray(el) ? ko.observableArray(el) : ko.observable(el);\n        }\n        \n        [this[\"formatted_val\"]=ko.computed(    function(){\n        return this.formatted_vals()[parseInt(this.index())-(1)];\n    }\n,this)]\n        [this[\"changes\"].subscribe((function (val){!(this.valueFromJulia[\"changes\"]) ? (WebIO.setval({\"name\":\"changes\",\"scope\":\"9334427951949080715\",\"id\":\"ob_03\",\"type\":\"observable\"},val)) : undefined; return this.valueFromJulia[\"changes\"]=false}),self),this[\"index\"].subscribe((function (val){!(this.valueFromJulia[\"index\"]) ? (WebIO.setval({\"name\":\"index\",\"scope\":\"9334427951949080715\",\"id\":\"ob_02\",\"type\":\"observable\"},val)) : undefined; return this.valueFromJulia[\"index\"]=false}),self)]\n        \n    }\n    self.model = new AppViewModel();\n    self.valueFromJulia = {};\n    for (var key in json_data) {\n        self.valueFromJulia[key] = false;\n    }\n    ko.applyBindings(self.model, self.dom);\n}\n);\n    (WebIO.importBlock({\"data\":[{\"name\":\"knockout\",\"type\":\"js\",\"url\":\"/assetserver/cb912308b570baeec2bdea4dcf17d324a53ef9a0-knockout.js\"},{\"name\":\"knockout_punches\",\"type\":\"js\",\"url\":\"/assetserver/a9a700823465fbeee026046afade412c0332887e-knockout_punches.js\"}],\"type\":\"async_block\"})).then((imports) => handler.apply(this, imports));\n}\n"
            ],
            "observables": {
             "changes": {
              "id": "ob_03",
              "sync": false,
              "value": 0
             },
             "index": {
              "id": "ob_02",
              "sync": true,
              "value": 50
             }
            },
            "systemjs_options": null
           },
           "nodeType": "Scope",
           "props": {},
           "type": "node"
          }
         ],
         "instanceArgs": {
          "namespace": "html",
          "tag": "div"
         },
         "nodeType": "DOM",
         "props": {
          "className": "field interact-widget"
         },
         "type": "node"
        },
        {
         "children": [
          {
           "children": [
            {
             "children": [
              {
               "children": [
                {
                 "children": [
                  "N"
                 ],
                 "instanceArgs": {
                  "namespace": "html",
                  "tag": "label"
                 },
                 "nodeType": "DOM",
                 "props": {
                  "className": "interact ",
                  "style": {
                   "padding": "5px 10px 0px 10px"
                  }
                 },
                 "type": "node"
                }
               ],
               "instanceArgs": {
                "namespace": "html",
                "tag": "div"
               },
               "nodeType": "DOM",
               "props": {
                "className": "interact-flex-row-left"
               },
               "type": "node"
              },
              {
               "children": [
                {
                 "children": [],
                 "instanceArgs": {
                  "namespace": "html",
                  "tag": "input"
                 },
                 "nodeType": "DOM",
                 "props": {
                  "attributes": {
                   "data-bind": "numericValue: index, valueUpdate: 'input', event: {change: function (){this.changes(this.changes()+1)}}",
                   "orient": "horizontal",
                   "type": "range"
                  },
                  "className": "slider slider is-fullwidth",
                  "max": 100,
                  "min": 1,
                  "step": 1,
                  "style": {}
                 },
                 "type": "node"
                }
               ],
               "instanceArgs": {
                "namespace": "html",
                "tag": "div"
               },
               "nodeType": "DOM",
               "props": {
                "className": "interact-flex-row-center"
               },
               "type": "node"
              },
              {
               "children": [
                {
                 "children": [],
                 "instanceArgs": {
                  "namespace": "html",
                  "tag": "p"
                 },
                 "nodeType": "DOM",
                 "props": {
                  "attributes": {
                   "data-bind": "text: formatted_val"
                  }
                 },
                 "type": "node"
                }
               ],
               "instanceArgs": {
                "namespace": "html",
                "tag": "div"
               },
               "nodeType": "DOM",
               "props": {
                "className": "interact-flex-row-right"
               },
               "type": "node"
              }
             ],
             "instanceArgs": {
              "namespace": "html",
              "tag": "div"
             },
             "nodeType": "DOM",
             "props": {
              "className": "interact-flex-row interact-widget"
             },
             "type": "node"
            }
           ],
           "instanceArgs": {
            "handlers": {
             "changes": [
              "(function (val){return (val!=this.model[\"changes\"]()) ? (this.valueFromJulia[\"changes\"]=true, this.model[\"changes\"](val)) : undefined})"
             ],
             "index": [
              "(function (val){return (val!=this.model[\"index\"]()) ? (this.valueFromJulia[\"index\"]=true, this.model[\"index\"](val)) : undefined})"
             ]
            },
            "id": "8484946672421427261",
            "imports": {
             "data": [
              {
               "name": "knockout",
               "type": "js",
               "url": "/assetserver/cb912308b570baeec2bdea4dcf17d324a53ef9a0-knockout.js"
              },
              {
               "name": "knockout_punches",
               "type": "js",
               "url": "/assetserver/a9a700823465fbeee026046afade412c0332887e-knockout_punches.js"
              },
              {
               "name": null,
               "type": "js",
               "url": "/assetserver/001903b23d05e109cad92af0b1126329832f94f5-all.js"
              },
              {
               "name": null,
               "type": "css",
               "url": "/assetserver/bc74bef61300b613e16a682448d2068ae248549c-style.css"
              },
              {
               "name": null,
               "type": "css",
               "url": "/assetserver/9dc61a5c9d02475d1af507cc4ff5dac0547e0a53-bulma_confined.min.css"
              }
             ],
             "type": "async_block"
            },
            "mount_callbacks": [
             "function () {\n    var handler = (function (ko, koPunches) {\n    ko.punches.enableAll();\n    ko.bindingHandlers.numericValue = {\n        init: function(element, valueAccessor, allBindings, data, context) {\n            var stringified = ko.observable(ko.unwrap(valueAccessor()));\n            stringified.subscribe(function(value) {\n                var val = parseFloat(value);\n                if (!isNaN(val)) {\n                    valueAccessor()(val);\n                }\n            });\n            valueAccessor().subscribe(function(value) {\n                var str = JSON.stringify(value);\n                if ((str == \"0\") && ([\"-0\", \"-0.\"].indexOf(stringified()) >= 0))\n                     return;\n                 if ([\"null\", \"\"].indexOf(str) >= 0)\n                     return;\n                stringified(str);\n            });\n            ko.applyBindingsToNode(\n                element,\n                {\n                    value: stringified,\n                    valueUpdate: allBindings.get('valueUpdate'),\n                },\n                context,\n            );\n        }\n    };\n    var json_data = {\"formatted_vals\":[\"1\",\"101\",\"201\",\"301\",\"401\",\"501\",\"601\",\"701\",\"801\",\"901\",\"1001\",\"1101\",\"1201\",\"1301\",\"1401\",\"1501\",\"1601\",\"1701\",\"1801\",\"1901\",\"2001\",\"2101\",\"2201\",\"2301\",\"2401\",\"2501\",\"2601\",\"2701\",\"2801\",\"2901\",\"3001\",\"3101\",\"3201\",\"3301\",\"3401\",\"3501\",\"3601\",\"3701\",\"3801\",\"3901\",\"4001\",\"4101\",\"4201\",\"4301\",\"4401\",\"4501\",\"4601\",\"4701\",\"4801\",\"4901\",\"5001\",\"5101\",\"5201\",\"5301\",\"5401\",\"5501\",\"5601\",\"5701\",\"5801\",\"5901\",\"6001\",\"6101\",\"6201\",\"6301\",\"6401\",\"6501\",\"6601\",\"6701\",\"6801\",\"6901\",\"7001\",\"7101\",\"7201\",\"7301\",\"7401\",\"7501\",\"7601\",\"7701\",\"7801\",\"7901\",\"8001\",\"8101\",\"8201\",\"8301\",\"8401\",\"8501\",\"8601\",\"8701\",\"8801\",\"8901\",\"9001\",\"9101\",\"9201\",\"9301\",\"9401\",\"9501\",\"9601\",\"9701\",\"9801\",\"9901\"],\"changes\":WebIO.getval({\"name\":\"changes\",\"scope\":\"8484946672421427261\",\"id\":\"ob_06\",\"type\":\"observable\"}),\"index\":WebIO.getval({\"name\":\"index\",\"scope\":\"8484946672421427261\",\"id\":\"ob_05\",\"type\":\"observable\"})};\n    var self = this;\n    function AppViewModel() {\n        for (var key in json_data) {\n            var el = json_data[key];\n            this[key] = Array.isArray(el) ? ko.observableArray(el) : ko.observable(el);\n        }\n        \n        [this[\"formatted_val\"]=ko.computed(    function(){\n        return this.formatted_vals()[parseInt(this.index())-(1)];\n    }\n,this)]\n        [this[\"changes\"].subscribe((function (val){!(this.valueFromJulia[\"changes\"]) ? (WebIO.setval({\"name\":\"changes\",\"scope\":\"8484946672421427261\",\"id\":\"ob_06\",\"type\":\"observable\"},val)) : undefined; return this.valueFromJulia[\"changes\"]=false}),self),this[\"index\"].subscribe((function (val){!(this.valueFromJulia[\"index\"]) ? (WebIO.setval({\"name\":\"index\",\"scope\":\"8484946672421427261\",\"id\":\"ob_05\",\"type\":\"observable\"},val)) : undefined; return this.valueFromJulia[\"index\"]=false}),self)]\n        \n    }\n    self.model = new AppViewModel();\n    self.valueFromJulia = {};\n    for (var key in json_data) {\n        self.valueFromJulia[key] = false;\n    }\n    ko.applyBindings(self.model, self.dom);\n}\n);\n    (WebIO.importBlock({\"data\":[{\"name\":\"knockout\",\"type\":\"js\",\"url\":\"/assetserver/cb912308b570baeec2bdea4dcf17d324a53ef9a0-knockout.js\"},{\"name\":\"knockout_punches\",\"type\":\"js\",\"url\":\"/assetserver/a9a700823465fbeee026046afade412c0332887e-knockout_punches.js\"}],\"type\":\"async_block\"})).then((imports) => handler.apply(this, imports));\n}\n"
            ],
            "observables": {
             "changes": {
              "id": "ob_06",
              "sync": false,
              "value": 0
             },
             "index": {
              "id": "ob_05",
              "sync": true,
              "value": 50
             }
            },
            "systemjs_options": null
           },
           "nodeType": "Scope",
           "props": {},
           "type": "node"
          }
         ],
         "instanceArgs": {
          "namespace": "html",
          "tag": "div"
         },
         "nodeType": "DOM",
         "props": {
          "className": "field interact-widget"
         },
         "type": "node"
        },
        {
         "children": [
          {
           "children": [],
           "instanceArgs": {
            "id": "ob_12",
            "name": "obs-node"
           },
           "nodeType": "ObservableNode",
           "props": {},
           "type": "node"
          }
         ],
         "instanceArgs": {
          "handlers": {},
          "id": "6628609598634945082",
          "imports": {
           "data": [],
           "type": "async_block"
          },
          "mount_callbacks": [],
          "observables": {
           "obs-node": {
            "id": "ob_12",
            "sync": false,
            "value": {
             "children": [
              {
               "children": [],
               "instanceArgs": {
                "namespace": "html",
                "tag": "div"
               },
               "nodeType": "DOM",
               "props": {
                "setInnerHtml": "<?xml version=\"1.0\" encoding=\"utf-8\"?>\n<svg xmlns=\"http://www.w3.org/2000/svg\" xmlns:xlink=\"http://www.w3.org/1999/xlink\" width=\"600\" height=\"400\" viewBox=\"0 0 2400 1600\">\n<defs>\n  <clipPath id=\"clip9900\">\n    <rect x=\"0\" y=\"0\" width=\"2400\" height=\"1600\"/>\n  </clipPath>\n</defs>\n<path clip-path=\"url(#clip9900)\" d=\"\nM0 1600 L2400 1600 L2400 0 L0 0  Z\n  \" fill=\"#ffffff\" fill-rule=\"evenodd\" fill-opacity=\"1\"/>\n<defs>\n  <clipPath id=\"clip9901\">\n    <rect x=\"480\" y=\"0\" width=\"1681\" height=\"1600\"/>\n  </clipPath>\n</defs>\n<path clip-path=\"url(#clip9900)\" d=\"\nM153.898 1487.47 L2352.76 1487.47 L2352.76 47.2441 L153.898 47.2441  Z\n  \" fill=\"#ffffff\" fill-rule=\"evenodd\" fill-opacity=\"1\"/>\n<defs>\n  <clipPath id=\"clip9902\">\n    <rect x=\"153\" y=\"47\" width=\"2200\" height=\"1441\"/>\n  </clipPath>\n</defs>\n<polyline clip-path=\"url(#clip9902)\" style=\"stroke:#000000; stroke-width:2; stroke-opacity:0.1; fill:none\" points=\"\n  499.002,1487.47 499.002,47.2441 \n  \"/>\n<polyline clip-path=\"url(#clip9902)\" style=\"stroke:#000000; stroke-width:2; stroke-opacity:0.1; fill:none\" points=\"\n  970.455,1487.47 970.455,47.2441 \n  \"/>\n<polyline clip-path=\"url(#clip9902)\" style=\"stroke:#000000; stroke-width:2; stroke-opacity:0.1; fill:none\" points=\"\n  1441.91,1487.47 1441.91,47.2441 \n  \"/>\n<polyline clip-path=\"url(#clip9902)\" style=\"stroke:#000000; stroke-width:2; stroke-opacity:0.1; fill:none\" points=\"\n  1913.36,1487.47 1913.36,47.2441 \n  \"/>\n<polyline clip-path=\"url(#clip9902)\" style=\"stroke:#000000; stroke-width:2; stroke-opacity:0.1; fill:none\" points=\"\n  153.898,1447.84 2352.76,1447.84 \n  \"/>\n<polyline clip-path=\"url(#clip9902)\" style=\"stroke:#000000; stroke-width:2; stroke-opacity:0.1; fill:none\" points=\"\n  153.898,1171.08 2352.76,1171.08 \n  \"/>\n<polyline clip-path=\"url(#clip9902)\" style=\"stroke:#000000; stroke-width:2; stroke-opacity:0.1; fill:none\" points=\"\n  153.898,894.308 2352.76,894.308 \n  \"/>\n<polyline clip-path=\"url(#clip9902)\" style=\"stroke:#000000; stroke-width:2; stroke-opacity:0.1; fill:none\" points=\"\n  153.898,617.54 2352.76,617.54 \n  \"/>\n<polyline clip-path=\"url(#clip9902)\" style=\"stroke:#000000; stroke-width:2; stroke-opacity:0.1; fill:none\" points=\"\n  153.898,340.772 2352.76,340.772 \n  \"/>\n<polyline clip-path=\"url(#clip9902)\" style=\"stroke:#000000; stroke-width:2; stroke-opacity:0.1; fill:none\" points=\"\n  153.898,64.0049 2352.76,64.0049 \n  \"/>\n<polyline clip-path=\"url(#clip9900)\" style=\"stroke:#000000; stroke-width:4; stroke-opacity:1; fill:none\" points=\"\n  153.898,1487.47 2352.76,1487.47 \n  \"/>\n<polyline clip-path=\"url(#clip9900)\" style=\"stroke:#000000; stroke-width:4; stroke-opacity:1; fill:none\" points=\"\n  153.898,1487.47 153.898,47.2441 \n  \"/>\n<polyline clip-path=\"url(#clip9900)\" style=\"stroke:#000000; stroke-width:4; stroke-opacity:1; fill:none\" points=\"\n  499.002,1487.47 499.002,1470.19 \n  \"/>\n<polyline clip-path=\"url(#clip9900)\" style=\"stroke:#000000; stroke-width:4; stroke-opacity:1; fill:none\" points=\"\n  970.455,1487.47 970.455,1470.19 \n  \"/>\n<polyline clip-path=\"url(#clip9900)\" style=\"stroke:#000000; stroke-width:4; stroke-opacity:1; fill:none\" points=\"\n  1441.91,1487.47 1441.91,1470.19 \n  \"/>\n<polyline clip-path=\"url(#clip9900)\" style=\"stroke:#000000; stroke-width:4; stroke-opacity:1; fill:none\" points=\"\n  1913.36,1487.47 1913.36,1470.19 \n  \"/>\n<polyline clip-path=\"url(#clip9900)\" style=\"stroke:#000000; stroke-width:4; stroke-opacity:1; fill:none\" points=\"\n  153.898,1447.84 180.284,1447.84 \n  \"/>\n<polyline clip-path=\"url(#clip9900)\" style=\"stroke:#000000; stroke-width:4; stroke-opacity:1; fill:none\" points=\"\n  153.898,1171.08 180.284,1171.08 \n  \"/>\n<polyline clip-path=\"url(#clip9900)\" style=\"stroke:#000000; stroke-width:4; stroke-opacity:1; fill:none\" points=\"\n  153.898,894.308 180.284,894.308 \n  \"/>\n<polyline clip-path=\"url(#clip9900)\" style=\"stroke:#000000; stroke-width:4; stroke-opacity:1; fill:none\" points=\"\n  153.898,617.54 180.284,617.54 \n  \"/>\n<polyline clip-path=\"url(#clip9900)\" style=\"stroke:#000000; stroke-width:4; stroke-opacity:1; fill:none\" points=\"\n  153.898,340.772 180.284,340.772 \n  \"/>\n<polyline clip-path=\"url(#clip9900)\" style=\"stroke:#000000; stroke-width:4; stroke-opacity:1; fill:none\" points=\"\n  153.898,64.0049 180.284,64.0049 \n  \"/>\n<g clip-path=\"url(#clip9900)\">\n<text style=\"fill:#000000; fill-opacity:1; font-family:Arial,Helvetica Neue,Helvetica,sans-serif; font-size:48px; text-anchor:middle;\" transform=\"rotate(0, 499.002, 1541.47)\" x=\"499.002\" y=\"1541.47\">2.5</text>\n</g>\n<g clip-path=\"url(#clip9900)\">\n<text style=\"fill:#000000; fill-opacity:1; font-family:Arial,Helvetica Neue,Helvetica,sans-serif; font-size:48px; text-anchor:middle;\" transform=\"rotate(0, 970.455, 1541.47)\" x=\"970.455\" y=\"1541.47\">5.0</text>\n</g>\n<g clip-path=\"url(#clip9900)\">\n<text style=\"fill:#000000; fill-opacity:1; font-family:Arial,Helvetica Neue,Helvetica,sans-serif; font-size:48px; text-anchor:middle;\" transform=\"rotate(0, 1441.91, 1541.47)\" x=\"1441.91\" y=\"1541.47\">7.5</text>\n</g>\n<g clip-path=\"url(#clip9900)\">\n<text style=\"fill:#000000; fill-opacity:1; font-family:Arial,Helvetica Neue,Helvetica,sans-serif; font-size:48px; text-anchor:middle;\" transform=\"rotate(0, 1913.36, 1541.47)\" x=\"1913.36\" y=\"1541.47\">10.0</text>\n</g>\n<g clip-path=\"url(#clip9900)\">\n<text style=\"fill:#000000; fill-opacity:1; font-family:Arial,Helvetica Neue,Helvetica,sans-serif; font-size:48px; text-anchor:end;\" transform=\"rotate(0, 129.898, 1465.34)\" x=\"129.898\" y=\"1465.34\">0.0</text>\n</g>\n<g clip-path=\"url(#clip9900)\">\n<text style=\"fill:#000000; fill-opacity:1; font-family:Arial,Helvetica Neue,Helvetica,sans-serif; font-size:48px; text-anchor:end;\" transform=\"rotate(0, 129.898, 1188.58)\" x=\"129.898\" y=\"1188.58\">0.1</text>\n</g>\n<g clip-path=\"url(#clip9900)\">\n<text style=\"fill:#000000; fill-opacity:1; font-family:Arial,Helvetica Neue,Helvetica,sans-serif; font-size:48px; text-anchor:end;\" transform=\"rotate(0, 129.898, 911.808)\" x=\"129.898\" y=\"911.808\">0.2</text>\n</g>\n<g clip-path=\"url(#clip9900)\">\n<text style=\"fill:#000000; fill-opacity:1; font-family:Arial,Helvetica Neue,Helvetica,sans-serif; font-size:48px; text-anchor:end;\" transform=\"rotate(0, 129.898, 635.04)\" x=\"129.898\" y=\"635.04\">0.3</text>\n</g>\n<g clip-path=\"url(#clip9900)\">\n<text style=\"fill:#000000; fill-opacity:1; font-family:Arial,Helvetica Neue,Helvetica,sans-serif; font-size:48px; text-anchor:end;\" transform=\"rotate(0, 129.898, 358.272)\" x=\"129.898\" y=\"358.272\">0.4</text>\n</g>\n<g clip-path=\"url(#clip9900)\">\n<text style=\"fill:#000000; fill-opacity:1; font-family:Arial,Helvetica Neue,Helvetica,sans-serif; font-size:48px; text-anchor:end;\" transform=\"rotate(0, 129.898, 81.5049)\" x=\"129.898\" y=\"81.5049\">0.5</text>\n</g>\n<polyline clip-path=\"url(#clip9902)\" style=\"stroke:#009af9; stroke-width:4; stroke-opacity:1; fill:none\" points=\"\n  216.13,88.0053 404.711,770.748 593.292,1082.47 781.874,1273.91 970.455,1349.58 1159.04,1402.67 1347.62,1424.69 1536.2,1437.11 1724.78,1439.94 1913.36,1445.58 \n  2101.94,1445.02 2290.52,1446.71 \n  \"/>\n<path clip-path=\"url(#clip9900)\" d=\"\nM1989.93 251.724 L2280.76 251.724 L2280.76 130.764 L1989.93 130.764  Z\n  \" fill=\"#ffffff\" fill-rule=\"evenodd\" fill-opacity=\"1\"/>\n<polyline clip-path=\"url(#clip9900)\" style=\"stroke:#000000; stroke-width:4; stroke-opacity:1; fill:none\" points=\"\n  1989.93,251.724 2280.76,251.724 2280.76,130.764 1989.93,130.764 1989.93,251.724 \n  \"/>\n<polyline clip-path=\"url(#clip9900)\" style=\"stroke:#009af9; stroke-width:4; stroke-opacity:1; fill:none\" points=\"\n  2013.93,191.244 2157.93,191.244 \n  \"/>\n<g clip-path=\"url(#clip9900)\">\n<text style=\"fill:#000000; fill-opacity:1; font-family:Arial,Helvetica Neue,Helvetica,sans-serif; font-size:48px; text-anchor:start;\" transform=\"rotate(0, 2181.93, 208.744)\" x=\"2181.93\" y=\"208.744\">y1</text>\n</g>\n</svg>\n"
               },
               "type": "node"
              }
             ],
             "instanceArgs": {
              "namespace": "html",
              "tag": "div"
             },
             "nodeType": "DOM",
             "props": {
              "className": "interact-flex-row interact-widget"
             },
             "type": "node"
            }
           }
          },
          "systemjs_options": null
         },
         "nodeType": "Scope",
         "props": {},
         "type": "node"
        }
       ],
       "instanceArgs": {
        "namespace": "html",
        "tag": "div"
       },
       "nodeType": "DOM",
       "props": {},
       "type": "node"
      },
      "text/html": [
       "<div\n",
       "    class=\"webio-mountpoint\"\n",
       "    data-webio-mountpoint=\"5452185782610872297\"\n",
       ">\n",
       "    <script>\n",
       "    if (window.require && require.defined && require.defined(\"nbextensions/webio-jupyter-notebook\")) {\n",
       "        console.log(\"Jupyter WebIO extension detected, not mounting.\");\n",
       "    } else if (window.WebIO) {\n",
       "        WebIO.mount(\n",
       "            document.querySelector('[data-webio-mountpoint=\"5452185782610872297\"]'),\n",
       "            {\"props\":{},\"nodeType\":\"DOM\",\"type\":\"node\",\"instanceArgs\":{\"namespace\":\"html\",\"tag\":\"div\"},\"children\":[{\"props\":{\"className\":\"field interact-widget\"},\"nodeType\":\"DOM\",\"type\":\"node\",\"instanceArgs\":{\"namespace\":\"html\",\"tag\":\"div\"},\"children\":[{\"props\":{},\"nodeType\":\"Scope\",\"type\":\"node\",\"instanceArgs\":{\"imports\":{\"data\":[{\"name\":\"knockout\",\"type\":\"js\",\"url\":\"\\/assetserver\\/cb912308b570baeec2bdea4dcf17d324a53ef9a0-knockout.js\"},{\"name\":\"knockout_punches\",\"type\":\"js\",\"url\":\"\\/assetserver\\/a9a700823465fbeee026046afade412c0332887e-knockout_punches.js\"},{\"name\":null,\"type\":\"js\",\"url\":\"\\/assetserver\\/001903b23d05e109cad92af0b1126329832f94f5-all.js\"},{\"name\":null,\"type\":\"css\",\"url\":\"\\/assetserver\\/bc74bef61300b613e16a682448d2068ae248549c-style.css\"},{\"name\":null,\"type\":\"css\",\"url\":\"\\/assetserver\\/9dc61a5c9d02475d1af507cc4ff5dac0547e0a53-bulma_confined.min.css\"}],\"type\":\"async_block\"},\"id\":\"9334427951949080715\",\"handlers\":{\"changes\":[\"(function (val){return (val!=this.model[\\\"changes\\\"]()) ? (this.valueFromJulia[\\\"changes\\\"]=true, this.model[\\\"changes\\\"](val)) : undefined})\"],\"index\":[\"(function (val){return (val!=this.model[\\\"index\\\"]()) ? (this.valueFromJulia[\\\"index\\\"]=true, this.model[\\\"index\\\"](val)) : undefined})\"]},\"systemjs_options\":null,\"mount_callbacks\":[\"function () {\\n    var handler = (function (ko, koPunches) {\\n    ko.punches.enableAll();\\n    ko.bindingHandlers.numericValue = {\\n        init: function(element, valueAccessor, allBindings, data, context) {\\n            var stringified = ko.observable(ko.unwrap(valueAccessor()));\\n            stringified.subscribe(function(value) {\\n                var val = parseFloat(value);\\n                if (!isNaN(val)) {\\n                    valueAccessor()(val);\\n                }\\n            });\\n            valueAccessor().subscribe(function(value) {\\n                var str = JSON.stringify(value);\\n                if ((str == \\\"0\\\") && ([\\\"-0\\\", \\\"-0.\\\"].indexOf(stringified()) >= 0))\\n                     return;\\n                 if ([\\\"null\\\", \\\"\\\"].indexOf(str) >= 0)\\n                     return;\\n                stringified(str);\\n            });\\n            ko.applyBindingsToNode(\\n                element,\\n                {\\n                    value: stringified,\\n                    valueUpdate: allBindings.get('valueUpdate'),\\n                },\\n                context,\\n            );\\n        }\\n    };\\n    var json_data = {\\\"formatted_vals\\\":[\\\"0.01\\\",\\\"0.02\\\",\\\"0.03\\\",\\\"0.04\\\",\\\"0.05\\\",\\\"0.06\\\",\\\"0.07\\\",\\\"0.08\\\",\\\"0.09\\\",\\\"0.1\\\",\\\"0.11\\\",\\\"0.12\\\",\\\"0.13\\\",\\\"0.14\\\",\\\"0.15\\\",\\\"0.16\\\",\\\"0.17\\\",\\\"0.18\\\",\\\"0.19\\\",\\\"0.2\\\",\\\"0.21\\\",\\\"0.22\\\",\\\"0.23\\\",\\\"0.24\\\",\\\"0.25\\\",\\\"0.26\\\",\\\"0.27\\\",\\\"0.28\\\",\\\"0.29\\\",\\\"0.3\\\",\\\"0.31\\\",\\\"0.32\\\",\\\"0.33\\\",\\\"0.34\\\",\\\"0.35\\\",\\\"0.36\\\",\\\"0.37\\\",\\\"0.38\\\",\\\"0.39\\\",\\\"0.4\\\",\\\"0.41\\\",\\\"0.42\\\",\\\"0.43\\\",\\\"0.44\\\",\\\"0.45\\\",\\\"0.46\\\",\\\"0.47\\\",\\\"0.48\\\",\\\"0.49\\\",\\\"0.5\\\",\\\"0.51\\\",\\\"0.52\\\",\\\"0.53\\\",\\\"0.54\\\",\\\"0.55\\\",\\\"0.56\\\",\\\"0.57\\\",\\\"0.58\\\",\\\"0.59\\\",\\\"0.6\\\",\\\"0.61\\\",\\\"0.62\\\",\\\"0.63\\\",\\\"0.64\\\",\\\"0.65\\\",\\\"0.66\\\",\\\"0.67\\\",\\\"0.68\\\",\\\"0.69\\\",\\\"0.7\\\",\\\"0.71\\\",\\\"0.72\\\",\\\"0.73\\\",\\\"0.74\\\",\\\"0.75\\\",\\\"0.76\\\",\\\"0.77\\\",\\\"0.78\\\",\\\"0.79\\\",\\\"0.8\\\",\\\"0.81\\\",\\\"0.82\\\",\\\"0.83\\\",\\\"0.84\\\",\\\"0.85\\\",\\\"0.86\\\",\\\"0.87\\\",\\\"0.88\\\",\\\"0.89\\\",\\\"0.9\\\",\\\"0.91\\\",\\\"0.92\\\",\\\"0.93\\\",\\\"0.94\\\",\\\"0.95\\\",\\\"0.96\\\",\\\"0.97\\\",\\\"0.98\\\",\\\"0.99\\\",\\\"1.0\\\"],\\\"changes\\\":WebIO.getval({\\\"name\\\":\\\"changes\\\",\\\"scope\\\":\\\"9334427951949080715\\\",\\\"id\\\":\\\"ob_03\\\",\\\"type\\\":\\\"observable\\\"}),\\\"index\\\":WebIO.getval({\\\"name\\\":\\\"index\\\",\\\"scope\\\":\\\"9334427951949080715\\\",\\\"id\\\":\\\"ob_02\\\",\\\"type\\\":\\\"observable\\\"})};\\n    var self = this;\\n    function AppViewModel() {\\n        for (var key in json_data) {\\n            var el = json_data[key];\\n            this[key] = Array.isArray(el) ? ko.observableArray(el) : ko.observable(el);\\n        }\\n        \\n        [this[\\\"formatted_val\\\"]=ko.computed(    function(){\\n        return this.formatted_vals()[parseInt(this.index())-(1)];\\n    }\\n,this)]\\n        [this[\\\"changes\\\"].subscribe((function (val){!(this.valueFromJulia[\\\"changes\\\"]) ? (WebIO.setval({\\\"name\\\":\\\"changes\\\",\\\"scope\\\":\\\"9334427951949080715\\\",\\\"id\\\":\\\"ob_03\\\",\\\"type\\\":\\\"observable\\\"},val)) : undefined; return this.valueFromJulia[\\\"changes\\\"]=false}),self),this[\\\"index\\\"].subscribe((function (val){!(this.valueFromJulia[\\\"index\\\"]) ? (WebIO.setval({\\\"name\\\":\\\"index\\\",\\\"scope\\\":\\\"9334427951949080715\\\",\\\"id\\\":\\\"ob_02\\\",\\\"type\\\":\\\"observable\\\"},val)) : undefined; return this.valueFromJulia[\\\"index\\\"]=false}),self)]\\n        \\n    }\\n    self.model = new AppViewModel();\\n    self.valueFromJulia = {};\\n    for (var key in json_data) {\\n        self.valueFromJulia[key] = false;\\n    }\\n    ko.applyBindings(self.model, self.dom);\\n}\\n);\\n    (WebIO.importBlock({\\\"data\\\":[{\\\"name\\\":\\\"knockout\\\",\\\"type\\\":\\\"js\\\",\\\"url\\\":\\\"\\/assetserver\\/cb912308b570baeec2bdea4dcf17d324a53ef9a0-knockout.js\\\"},{\\\"name\\\":\\\"knockout_punches\\\",\\\"type\\\":\\\"js\\\",\\\"url\\\":\\\"\\/assetserver\\/a9a700823465fbeee026046afade412c0332887e-knockout_punches.js\\\"}],\\\"type\\\":\\\"async_block\\\"})).then((imports) => handler.apply(this, imports));\\n}\\n\"],\"observables\":{\"changes\":{\"sync\":false,\"id\":\"ob_03\",\"value\":0},\"index\":{\"sync\":true,\"id\":\"ob_02\",\"value\":50}}},\"children\":[{\"props\":{\"className\":\"interact-flex-row interact-widget\"},\"nodeType\":\"DOM\",\"type\":\"node\",\"instanceArgs\":{\"namespace\":\"html\",\"tag\":\"div\"},\"children\":[{\"props\":{\"className\":\"interact-flex-row-left\"},\"nodeType\":\"DOM\",\"type\":\"node\",\"instanceArgs\":{\"namespace\":\"html\",\"tag\":\"div\"},\"children\":[{\"props\":{\"className\":\"interact \",\"style\":{\"padding\":\"5px 10px 0px 10px\"}},\"nodeType\":\"DOM\",\"type\":\"node\",\"instanceArgs\":{\"namespace\":\"html\",\"tag\":\"label\"},\"children\":[\"p\"]}]},{\"props\":{\"className\":\"interact-flex-row-center\"},\"nodeType\":\"DOM\",\"type\":\"node\",\"instanceArgs\":{\"namespace\":\"html\",\"tag\":\"div\"},\"children\":[{\"props\":{\"max\":100,\"min\":1,\"attributes\":{\"type\":\"range\",\"data-bind\":\"numericValue: index, valueUpdate: 'input', event: {change: function (){this.changes(this.changes()+1)}}\",\"orient\":\"horizontal\"},\"step\":1,\"className\":\"slider slider is-fullwidth\",\"style\":{}},\"nodeType\":\"DOM\",\"type\":\"node\",\"instanceArgs\":{\"namespace\":\"html\",\"tag\":\"input\"},\"children\":[]}]},{\"props\":{\"className\":\"interact-flex-row-right\"},\"nodeType\":\"DOM\",\"type\":\"node\",\"instanceArgs\":{\"namespace\":\"html\",\"tag\":\"div\"},\"children\":[{\"props\":{\"attributes\":{\"data-bind\":\"text: formatted_val\"}},\"nodeType\":\"DOM\",\"type\":\"node\",\"instanceArgs\":{\"namespace\":\"html\",\"tag\":\"p\"},\"children\":[]}]}]}]}]},{\"props\":{\"className\":\"field interact-widget\"},\"nodeType\":\"DOM\",\"type\":\"node\",\"instanceArgs\":{\"namespace\":\"html\",\"tag\":\"div\"},\"children\":[{\"props\":{},\"nodeType\":\"Scope\",\"type\":\"node\",\"instanceArgs\":{\"imports\":{\"data\":[{\"name\":\"knockout\",\"type\":\"js\",\"url\":\"\\/assetserver\\/cb912308b570baeec2bdea4dcf17d324a53ef9a0-knockout.js\"},{\"name\":\"knockout_punches\",\"type\":\"js\",\"url\":\"\\/assetserver\\/a9a700823465fbeee026046afade412c0332887e-knockout_punches.js\"},{\"name\":null,\"type\":\"js\",\"url\":\"\\/assetserver\\/001903b23d05e109cad92af0b1126329832f94f5-all.js\"},{\"name\":null,\"type\":\"css\",\"url\":\"\\/assetserver\\/bc74bef61300b613e16a682448d2068ae248549c-style.css\"},{\"name\":null,\"type\":\"css\",\"url\":\"\\/assetserver\\/9dc61a5c9d02475d1af507cc4ff5dac0547e0a53-bulma_confined.min.css\"}],\"type\":\"async_block\"},\"id\":\"8484946672421427261\",\"handlers\":{\"changes\":[\"(function (val){return (val!=this.model[\\\"changes\\\"]()) ? (this.valueFromJulia[\\\"changes\\\"]=true, this.model[\\\"changes\\\"](val)) : undefined})\"],\"index\":[\"(function (val){return (val!=this.model[\\\"index\\\"]()) ? (this.valueFromJulia[\\\"index\\\"]=true, this.model[\\\"index\\\"](val)) : undefined})\"]},\"systemjs_options\":null,\"mount_callbacks\":[\"function () {\\n    var handler = (function (ko, koPunches) {\\n    ko.punches.enableAll();\\n    ko.bindingHandlers.numericValue = {\\n        init: function(element, valueAccessor, allBindings, data, context) {\\n            var stringified = ko.observable(ko.unwrap(valueAccessor()));\\n            stringified.subscribe(function(value) {\\n                var val = parseFloat(value);\\n                if (!isNaN(val)) {\\n                    valueAccessor()(val);\\n                }\\n            });\\n            valueAccessor().subscribe(function(value) {\\n                var str = JSON.stringify(value);\\n                if ((str == \\\"0\\\") && ([\\\"-0\\\", \\\"-0.\\\"].indexOf(stringified()) >= 0))\\n                     return;\\n                 if ([\\\"null\\\", \\\"\\\"].indexOf(str) >= 0)\\n                     return;\\n                stringified(str);\\n            });\\n            ko.applyBindingsToNode(\\n                element,\\n                {\\n                    value: stringified,\\n                    valueUpdate: allBindings.get('valueUpdate'),\\n                },\\n                context,\\n            );\\n        }\\n    };\\n    var json_data = {\\\"formatted_vals\\\":[\\\"1\\\",\\\"101\\\",\\\"201\\\",\\\"301\\\",\\\"401\\\",\\\"501\\\",\\\"601\\\",\\\"701\\\",\\\"801\\\",\\\"901\\\",\\\"1001\\\",\\\"1101\\\",\\\"1201\\\",\\\"1301\\\",\\\"1401\\\",\\\"1501\\\",\\\"1601\\\",\\\"1701\\\",\\\"1801\\\",\\\"1901\\\",\\\"2001\\\",\\\"2101\\\",\\\"2201\\\",\\\"2301\\\",\\\"2401\\\",\\\"2501\\\",\\\"2601\\\",\\\"2701\\\",\\\"2801\\\",\\\"2901\\\",\\\"3001\\\",\\\"3101\\\",\\\"3201\\\",\\\"3301\\\",\\\"3401\\\",\\\"3501\\\",\\\"3601\\\",\\\"3701\\\",\\\"3801\\\",\\\"3901\\\",\\\"4001\\\",\\\"4101\\\",\\\"4201\\\",\\\"4301\\\",\\\"4401\\\",\\\"4501\\\",\\\"4601\\\",\\\"4701\\\",\\\"4801\\\",\\\"4901\\\",\\\"5001\\\",\\\"5101\\\",\\\"5201\\\",\\\"5301\\\",\\\"5401\\\",\\\"5501\\\",\\\"5601\\\",\\\"5701\\\",\\\"5801\\\",\\\"5901\\\",\\\"6001\\\",\\\"6101\\\",\\\"6201\\\",\\\"6301\\\",\\\"6401\\\",\\\"6501\\\",\\\"6601\\\",\\\"6701\\\",\\\"6801\\\",\\\"6901\\\",\\\"7001\\\",\\\"7101\\\",\\\"7201\\\",\\\"7301\\\",\\\"7401\\\",\\\"7501\\\",\\\"7601\\\",\\\"7701\\\",\\\"7801\\\",\\\"7901\\\",\\\"8001\\\",\\\"8101\\\",\\\"8201\\\",\\\"8301\\\",\\\"8401\\\",\\\"8501\\\",\\\"8601\\\",\\\"8701\\\",\\\"8801\\\",\\\"8901\\\",\\\"9001\\\",\\\"9101\\\",\\\"9201\\\",\\\"9301\\\",\\\"9401\\\",\\\"9501\\\",\\\"9601\\\",\\\"9701\\\",\\\"9801\\\",\\\"9901\\\"],\\\"changes\\\":WebIO.getval({\\\"name\\\":\\\"changes\\\",\\\"scope\\\":\\\"8484946672421427261\\\",\\\"id\\\":\\\"ob_06\\\",\\\"type\\\":\\\"observable\\\"}),\\\"index\\\":WebIO.getval({\\\"name\\\":\\\"index\\\",\\\"scope\\\":\\\"8484946672421427261\\\",\\\"id\\\":\\\"ob_05\\\",\\\"type\\\":\\\"observable\\\"})};\\n    var self = this;\\n    function AppViewModel() {\\n        for (var key in json_data) {\\n            var el = json_data[key];\\n            this[key] = Array.isArray(el) ? ko.observableArray(el) : ko.observable(el);\\n        }\\n        \\n        [this[\\\"formatted_val\\\"]=ko.computed(    function(){\\n        return this.formatted_vals()[parseInt(this.index())-(1)];\\n    }\\n,this)]\\n        [this[\\\"changes\\\"].subscribe((function (val){!(this.valueFromJulia[\\\"changes\\\"]) ? (WebIO.setval({\\\"name\\\":\\\"changes\\\",\\\"scope\\\":\\\"8484946672421427261\\\",\\\"id\\\":\\\"ob_06\\\",\\\"type\\\":\\\"observable\\\"},val)) : undefined; return this.valueFromJulia[\\\"changes\\\"]=false}),self),this[\\\"index\\\"].subscribe((function (val){!(this.valueFromJulia[\\\"index\\\"]) ? (WebIO.setval({\\\"name\\\":\\\"index\\\",\\\"scope\\\":\\\"8484946672421427261\\\",\\\"id\\\":\\\"ob_05\\\",\\\"type\\\":\\\"observable\\\"},val)) : undefined; return this.valueFromJulia[\\\"index\\\"]=false}),self)]\\n        \\n    }\\n    self.model = new AppViewModel();\\n    self.valueFromJulia = {};\\n    for (var key in json_data) {\\n        self.valueFromJulia[key] = false;\\n    }\\n    ko.applyBindings(self.model, self.dom);\\n}\\n);\\n    (WebIO.importBlock({\\\"data\\\":[{\\\"name\\\":\\\"knockout\\\",\\\"type\\\":\\\"js\\\",\\\"url\\\":\\\"\\/assetserver\\/cb912308b570baeec2bdea4dcf17d324a53ef9a0-knockout.js\\\"},{\\\"name\\\":\\\"knockout_punches\\\",\\\"type\\\":\\\"js\\\",\\\"url\\\":\\\"\\/assetserver\\/a9a700823465fbeee026046afade412c0332887e-knockout_punches.js\\\"}],\\\"type\\\":\\\"async_block\\\"})).then((imports) => handler.apply(this, imports));\\n}\\n\"],\"observables\":{\"changes\":{\"sync\":false,\"id\":\"ob_06\",\"value\":0},\"index\":{\"sync\":true,\"id\":\"ob_05\",\"value\":50}}},\"children\":[{\"props\":{\"className\":\"interact-flex-row interact-widget\"},\"nodeType\":\"DOM\",\"type\":\"node\",\"instanceArgs\":{\"namespace\":\"html\",\"tag\":\"div\"},\"children\":[{\"props\":{\"className\":\"interact-flex-row-left\"},\"nodeType\":\"DOM\",\"type\":\"node\",\"instanceArgs\":{\"namespace\":\"html\",\"tag\":\"div\"},\"children\":[{\"props\":{\"className\":\"interact \",\"style\":{\"padding\":\"5px 10px 0px 10px\"}},\"nodeType\":\"DOM\",\"type\":\"node\",\"instanceArgs\":{\"namespace\":\"html\",\"tag\":\"label\"},\"children\":[\"N\"]}]},{\"props\":{\"className\":\"interact-flex-row-center\"},\"nodeType\":\"DOM\",\"type\":\"node\",\"instanceArgs\":{\"namespace\":\"html\",\"tag\":\"div\"},\"children\":[{\"props\":{\"max\":100,\"min\":1,\"attributes\":{\"type\":\"range\",\"data-bind\":\"numericValue: index, valueUpdate: 'input', event: {change: function (){this.changes(this.changes()+1)}}\",\"orient\":\"horizontal\"},\"step\":1,\"className\":\"slider slider is-fullwidth\",\"style\":{}},\"nodeType\":\"DOM\",\"type\":\"node\",\"instanceArgs\":{\"namespace\":\"html\",\"tag\":\"input\"},\"children\":[]}]},{\"props\":{\"className\":\"interact-flex-row-right\"},\"nodeType\":\"DOM\",\"type\":\"node\",\"instanceArgs\":{\"namespace\":\"html\",\"tag\":\"div\"},\"children\":[{\"props\":{\"attributes\":{\"data-bind\":\"text: formatted_val\"}},\"nodeType\":\"DOM\",\"type\":\"node\",\"instanceArgs\":{\"namespace\":\"html\",\"tag\":\"p\"},\"children\":[]}]}]}]}]},{\"props\":{},\"nodeType\":\"Scope\",\"type\":\"node\",\"instanceArgs\":{\"imports\":{\"data\":[],\"type\":\"async_block\"},\"id\":\"2900571373539048679\",\"handlers\":{},\"systemjs_options\":null,\"mount_callbacks\":[],\"observables\":{\"obs-node\":{\"sync\":false,\"id\":\"ob_10\",\"value\":{\"props\":{\"className\":\"interact-flex-row interact-widget\"},\"nodeType\":\"DOM\",\"type\":\"node\",\"instanceArgs\":{\"namespace\":\"html\",\"tag\":\"div\"},\"children\":[{\"props\":{\"setInnerHtml\":\"<?xml version=\\\"1.0\\\" encoding=\\\"utf-8\\\"?>\\n<svg xmlns=\\\"http:\\/\\/www.w3.org\\/2000\\/svg\\\" xmlns:xlink=\\\"http:\\/\\/www.w3.org\\/1999\\/xlink\\\" width=\\\"600\\\" height=\\\"400\\\" viewBox=\\\"0 0 2400 1600\\\">\\n<defs>\\n  <clipPath id=\\\"clip9500\\\">\\n    <rect x=\\\"0\\\" y=\\\"0\\\" width=\\\"2400\\\" height=\\\"1600\\\"\\/>\\n  <\\/clipPath>\\n<\\/defs>\\n<path clip-path=\\\"url(#clip9500)\\\" d=\\\"\\nM0 1600 L2400 1600 L2400 0 L0 0  Z\\n  \\\" fill=\\\"#ffffff\\\" fill-rule=\\\"evenodd\\\" fill-opacity=\\\"1\\\"\\/>\\n<defs>\\n  <clipPath id=\\\"clip9501\\\">\\n    <rect x=\\\"480\\\" y=\\\"0\\\" width=\\\"1681\\\" height=\\\"1600\\\"\\/>\\n  <\\/clipPath>\\n<\\/defs>\\n<path clip-path=\\\"url(#clip9500)\\\" d=\\\"\\nM153.898 1487.47 L2352.76 1487.47 L2352.76 47.2441 L153.898 47.2441  Z\\n  \\\" fill=\\\"#ffffff\\\" fill-rule=\\\"evenodd\\\" fill-opacity=\\\"1\\\"\\/>\\n<defs>\\n  <clipPath id=\\\"clip9502\\\">\\n    <rect x=\\\"153\\\" y=\\\"47\\\" width=\\\"2200\\\" height=\\\"1441\\\"\\/>\\n  <\\/clipPath>\\n<\\/defs>\\n<polyline clip-path=\\\"url(#clip9502)\\\" style=\\\"stroke:#000000; stroke-width:2; stroke-opacity:0.1; fill:none\\\" points=\\\"\\n  499.002,1487.47 499.002,47.2441 \\n  \\\"\\/>\\n<polyline clip-path=\\\"url(#clip9502)\\\" style=\\\"stroke:#000000; stroke-width:2; stroke-opacity:0.1; fill:none\\\" points=\\\"\\n  970.455,1487.47 970.455,47.2441 \\n  \\\"\\/>\\n<polyline clip-path=\\\"url(#clip9502)\\\" style=\\\"stroke:#000000; stroke-width:2; stroke-opacity:0.1; fill:none\\\" points=\\\"\\n  1441.91,1487.47 1441.91,47.2441 \\n  \\\"\\/>\\n<polyline clip-path=\\\"url(#clip9502)\\\" style=\\\"stroke:#000000; stroke-width:2; stroke-opacity:0.1; fill:none\\\" points=\\\"\\n  1913.36,1487.47 1913.36,47.2441 \\n  \\\"\\/>\\n<polyline clip-path=\\\"url(#clip9502)\\\" style=\\\"stroke:#000000; stroke-width:2; stroke-opacity:0.1; fill:none\\\" points=\\\"\\n  153.898,1447.84 2352.76,1447.84 \\n  \\\"\\/>\\n<polyline clip-path=\\\"url(#clip9502)\\\" style=\\\"stroke:#000000; stroke-width:2; stroke-opacity:0.1; fill:none\\\" points=\\\"\\n  153.898,1171.08 2352.76,1171.08 \\n  \\\"\\/>\\n<polyline clip-path=\\\"url(#clip9502)\\\" style=\\\"stroke:#000000; stroke-width:2; stroke-opacity:0.1; fill:none\\\" points=\\\"\\n  153.898,894.308 2352.76,894.308 \\n  \\\"\\/>\\n<polyline clip-path=\\\"url(#clip9502)\\\" style=\\\"stroke:#000000; stroke-width:2; stroke-opacity:0.1; fill:none\\\" points=\\\"\\n  153.898,617.54 2352.76,617.54 \\n  \\\"\\/>\\n<polyline clip-path=\\\"url(#clip9502)\\\" style=\\\"stroke:#000000; stroke-width:2; stroke-opacity:0.1; fill:none\\\" points=\\\"\\n  153.898,340.772 2352.76,340.772 \\n  \\\"\\/>\\n<polyline clip-path=\\\"url(#clip9502)\\\" style=\\\"stroke:#000000; stroke-width:2; stroke-opacity:0.1; fill:none\\\" points=\\\"\\n  153.898,64.0049 2352.76,64.0049 \\n  \\\"\\/>\\n<polyline clip-path=\\\"url(#clip9500)\\\" style=\\\"stroke:#000000; stroke-width:4; stroke-opacity:1; fill:none\\\" points=\\\"\\n  153.898,1487.47 2352.76,1487.47 \\n  \\\"\\/>\\n<polyline clip-path=\\\"url(#clip9500)\\\" style=\\\"stroke:#000000; stroke-width:4; stroke-opacity:1; fill:none\\\" points=\\\"\\n  153.898,1487.47 153.898,47.2441 \\n  \\\"\\/>\\n<polyline clip-path=\\\"url(#clip9500)\\\" style=\\\"stroke:#000000; stroke-width:4; stroke-opacity:1; fill:none\\\" points=\\\"\\n  499.002,1487.47 499.002,1470.19 \\n  \\\"\\/>\\n<polyline clip-path=\\\"url(#clip9500)\\\" style=\\\"stroke:#000000; stroke-width:4; stroke-opacity:1; fill:none\\\" points=\\\"\\n  970.455,1487.47 970.455,1470.19 \\n  \\\"\\/>\\n<polyline clip-path=\\\"url(#clip9500)\\\" style=\\\"stroke:#000000; stroke-width:4; stroke-opacity:1; fill:none\\\" points=\\\"\\n  1441.91,1487.47 1441.91,1470.19 \\n  \\\"\\/>\\n<polyline clip-path=\\\"url(#clip9500)\\\" style=\\\"stroke:#000000; stroke-width:4; stroke-opacity:1; fill:none\\\" points=\\\"\\n  1913.36,1487.47 1913.36,1470.19 \\n  \\\"\\/>\\n<polyline clip-path=\\\"url(#clip9500)\\\" style=\\\"stroke:#000000; stroke-width:4; stroke-opacity:1; fill:none\\\" points=\\\"\\n  153.898,1447.84 180.284,1447.84 \\n  \\\"\\/>\\n<polyline clip-path=\\\"url(#clip9500)\\\" style=\\\"stroke:#000000; stroke-width:4; stroke-opacity:1; fill:none\\\" points=\\\"\\n  153.898,1171.08 180.284,1171.08 \\n  \\\"\\/>\\n<polyline clip-path=\\\"url(#clip9500)\\\" style=\\\"stroke:#000000; stroke-width:4; stroke-opacity:1; fill:none\\\" points=\\\"\\n  153.898,894.308 180.284,894.308 \\n  \\\"\\/>\\n<polyline clip-path=\\\"url(#clip9500)\\\" style=\\\"stroke:#000000; stroke-width:4; stroke-opacity:1; fill:none\\\" points=\\\"\\n  153.898,617.54 180.284,617.54 \\n  \\\"\\/>\\n<polyline clip-path=\\\"url(#clip9500)\\\" style=\\\"stroke:#000000; stroke-width:4; stroke-opacity:1; fill:none\\\" points=\\\"\\n  153.898,340.772 180.284,340.772 \\n  \\\"\\/>\\n<polyline clip-path=\\\"url(#clip9500)\\\" style=\\\"stroke:#000000; stroke-width:4; stroke-opacity:1; fill:none\\\" points=\\\"\\n  153.898,64.0049 180.284,64.0049 \\n  \\\"\\/>\\n<g clip-path=\\\"url(#clip9500)\\\">\\n<text style=\\\"fill:#000000; fill-opacity:1; font-family:Arial,Helvetica Neue,Helvetica,sans-serif; font-size:48px; text-anchor:middle;\\\" transform=\\\"rotate(0, 499.002, 1541.47)\\\" x=\\\"499.002\\\" y=\\\"1541.47\\\">2.5<\\/text>\\n<\\/g>\\n<g clip-path=\\\"url(#clip9500)\\\">\\n<text style=\\\"fill:#000000; fill-opacity:1; font-family:Arial,Helvetica Neue,Helvetica,sans-serif; font-size:48px; text-anchor:middle;\\\" transform=\\\"rotate(0, 970.455, 1541.47)\\\" x=\\\"970.455\\\" y=\\\"1541.47\\\">5.0<\\/text>\\n<\\/g>\\n<g clip-path=\\\"url(#clip9500)\\\">\\n<text style=\\\"fill:#000000; fill-opacity:1; font-family:Arial,Helvetica Neue,Helvetica,sans-serif; font-size:48px; text-anchor:middle;\\\" transform=\\\"rotate(0, 1441.91, 1541.47)\\\" x=\\\"1441.91\\\" y=\\\"1541.47\\\">7.5<\\/text>\\n<\\/g>\\n<g clip-path=\\\"url(#clip9500)\\\">\\n<text style=\\\"fill:#000000; fill-opacity:1; font-family:Arial,Helvetica Neue,Helvetica,sans-serif; font-size:48px; text-anchor:middle;\\\" transform=\\\"rotate(0, 1913.36, 1541.47)\\\" x=\\\"1913.36\\\" y=\\\"1541.47\\\">10.0<\\/text>\\n<\\/g>\\n<g clip-path=\\\"url(#clip9500)\\\">\\n<text style=\\\"fill:#000000; fill-opacity:1; font-family:Arial,Helvetica Neue,Helvetica,sans-serif; font-size:48px; text-anchor:end;\\\" transform=\\\"rotate(0, 129.898, 1465.34)\\\" x=\\\"129.898\\\" y=\\\"1465.34\\\">0.0<\\/text>\\n<\\/g>\\n<g clip-path=\\\"url(#clip9500)\\\">\\n<text style=\\\"fill:#000000; fill-opacity:1; font-family:Arial,Helvetica Neue,Helvetica,sans-serif; font-size:48px; text-anchor:end;\\\" transform=\\\"rotate(0, 129.898, 1188.58)\\\" x=\\\"129.898\\\" y=\\\"1188.58\\\">0.1<\\/text>\\n<\\/g>\\n<g clip-path=\\\"url(#clip9500)\\\">\\n<text style=\\\"fill:#000000; fill-opacity:1; font-family:Arial,Helvetica Neue,Helvetica,sans-serif; font-size:48px; text-anchor:end;\\\" transform=\\\"rotate(0, 129.898, 911.808)\\\" x=\\\"129.898\\\" y=\\\"911.808\\\">0.2<\\/text>\\n<\\/g>\\n<g clip-path=\\\"url(#clip9500)\\\">\\n<text style=\\\"fill:#000000; fill-opacity:1; font-family:Arial,Helvetica Neue,Helvetica,sans-serif; font-size:48px; text-anchor:end;\\\" transform=\\\"rotate(0, 129.898, 635.04)\\\" x=\\\"129.898\\\" y=\\\"635.04\\\">0.3<\\/text>\\n<\\/g>\\n<g clip-path=\\\"url(#clip9500)\\\">\\n<text style=\\\"fill:#000000; fill-opacity:1; font-family:Arial,Helvetica Neue,Helvetica,sans-serif; font-size:48px; text-anchor:end;\\\" transform=\\\"rotate(0, 129.898, 358.272)\\\" x=\\\"129.898\\\" y=\\\"358.272\\\">0.4<\\/text>\\n<\\/g>\\n<g clip-path=\\\"url(#clip9500)\\\">\\n<text style=\\\"fill:#000000; fill-opacity:1; font-family:Arial,Helvetica Neue,Helvetica,sans-serif; font-size:48px; text-anchor:end;\\\" transform=\\\"rotate(0, 129.898, 81.5049)\\\" x=\\\"129.898\\\" y=\\\"81.5049\\\">0.5<\\/text>\\n<\\/g>\\n<polyline clip-path=\\\"url(#clip9502)\\\" style=\\\"stroke:#009af9; stroke-width:4; stroke-opacity:1; fill:none\\\" points=\\\"\\n  216.13,88.0053 404.711,770.748 593.292,1082.47 781.874,1273.91 970.455,1349.58 1159.04,1402.67 1347.62,1424.69 1536.2,1437.11 1724.78,1439.94 1913.36,1445.58 \\n  2101.94,1445.02 2290.52,1446.71 \\n  \\\"\\/>\\n<path clip-path=\\\"url(#clip9500)\\\" d=\\\"\\nM1989.93 251.724 L2280.76 251.724 L2280.76 130.764 L1989.93 130.764  Z\\n  \\\" fill=\\\"#ffffff\\\" fill-rule=\\\"evenodd\\\" fill-opacity=\\\"1\\\"\\/>\\n<polyline clip-path=\\\"url(#clip9500)\\\" style=\\\"stroke:#000000; stroke-width:4; stroke-opacity:1; fill:none\\\" points=\\\"\\n  1989.93,251.724 2280.76,251.724 2280.76,130.764 1989.93,130.764 1989.93,251.724 \\n  \\\"\\/>\\n<polyline clip-path=\\\"url(#clip9500)\\\" style=\\\"stroke:#009af9; stroke-width:4; stroke-opacity:1; fill:none\\\" points=\\\"\\n  2013.93,191.244 2157.93,191.244 \\n  \\\"\\/>\\n<g clip-path=\\\"url(#clip9500)\\\">\\n<text style=\\\"fill:#000000; fill-opacity:1; font-family:Arial,Helvetica Neue,Helvetica,sans-serif; font-size:48px; text-anchor:start;\\\" transform=\\\"rotate(0, 2181.93, 208.744)\\\" x=\\\"2181.93\\\" y=\\\"208.744\\\">y1<\\/text>\\n<\\/g>\\n<\\/svg>\\n\"},\"nodeType\":\"DOM\",\"type\":\"node\",\"instanceArgs\":{\"namespace\":\"html\",\"tag\":\"div\"},\"children\":[]}]}}}},\"children\":[{\"props\":{},\"nodeType\":\"ObservableNode\",\"type\":\"node\",\"instanceArgs\":{\"id\":\"ob_10\",\"name\":\"obs-node\"},\"children\":[]}]}]},\n",
       "            window,\n",
       "        );\n",
       "    } else {\n",
       "        document\n",
       "            .querySelector('[data-webio-mountpoint=\"5452185782610872297\"]')\n",
       "            .innerHTML = (\n",
       "                '<div style=\"padding: 1em; background-color: #f8d6da; border: 1px solid #f5c6cb\">' +\n",
       "                '<p><strong>WebIO not detected.</strong></p>' +\n",
       "                '<p>Please read ' +\n",
       "                '<a href=\"https://juliagizmos.github.io/WebIO.jl/latest/troubleshooting/not-detected/\" target=\"_blank\">the troubleshooting guide</a> ' +\n",
       "                'for more information on how to resolve this issue.</p>' +\n",
       "                '<p><a href=\"https://juliagizmos.github.io/WebIO.jl/latest/troubleshooting/not-detected/\" target=\"_blank\">https://juliagizmos.github.io/WebIO.jl/latest/troubleshooting/not-detected/</a></p>' +\n",
       "                '</div>'\n",
       "            );\n",
       "    }\n",
       "    </script>\n",
       "</div>\n"
      ],
      "text/plain": [
       "Node{WebIO.DOM}(WebIO.DOM(:html, :div), Any[Node{WebIO.DOM}(WebIO.DOM(:html, :div), Any[Scope(Node{WebIO.DOM}(WebIO.DOM(:html, :div), Any[Node{WebIO.DOM}(WebIO.DOM(:html, :div), Any[Node{WebIO.DOM}(WebIO.DOM(:html, :label), Any[\"p\"], Dict{Symbol,Any}(:className => \"interact \",:style => Dict{Any,Any}(:padding => \"5px 10px 0px 10px\")))], Dict{Symbol,Any}(:className => \"interact-flex-row-left\")), Node{WebIO.DOM}(WebIO.DOM(:html, :div), Any[Node{WebIO.DOM}(WebIO.DOM(:html, :input), Any[], Dict{Symbol,Any}(:max => 100,:min => 1,:attributes => Dict{Any,Any}(:type => \"range\",Symbol(\"data-bind\") => \"numericValue: index, valueUpdate: 'input', event: {change: function (){this.changes(this.changes()+1)}}\",\"orient\" => \"horizontal\"),:step => 1,:className => \"slider slider is-fullwidth\",:style => Dict{Any,Any}()))], Dict{Symbol,Any}(:className => \"interact-flex-row-center\")), Node{WebIO.DOM}(WebIO.DOM(:html, :div), Any[Node{WebIO.DOM}(WebIO.DOM(:html, :p), Any[], Dict{Symbol,Any}(:attributes => Dict(\"data-bind\" => \"text: formatted_val\")))], Dict{Symbol,Any}(:className => \"interact-flex-row-right\"))], Dict{Symbol,Any}(:className => \"interact-flex-row interact-widget\")), Dict{String,Tuple{Observables.AbstractObservable,Union{Nothing, Bool}}}(\"changes\" => (Observable{Int64} with 1 listeners. Value:\n",
       "0, nothing),\"index\" => (Observable{Any} with 2 listeners. Value:\n",
       "50, nothing)), Set(String[]), nothing, Asset[Asset(\"js\", \"knockout\", \"/Users/anniebryan/.julia/packages/Knockout/IP1uR/src/../assets/knockout.js\"), Asset(\"js\", \"knockout_punches\", \"/Users/anniebryan/.julia/packages/Knockout/IP1uR/src/../assets/knockout_punches.js\"), Asset(\"js\", nothing, \"/Users/anniebryan/.julia/packages/InteractBase/9mFwe/src/../assets/all.js\"), Asset(\"css\", nothing, \"/Users/anniebryan/.julia/packages/InteractBase/9mFwe/src/../assets/style.css\"), Asset(\"css\", nothing, \"/Users/anniebryan/.julia/packages/Interact/SbgIk/src/../assets/bulma_confined.min.css\")], Dict{Any,Any}(\"changes\" => Any[WebIO.JSString(\"(function (val){return (val!=this.model[\\\"changes\\\"]()) ? (this.valueFromJulia[\\\"changes\\\"]=true, this.model[\\\"changes\\\"](val)) : undefined})\")],\"index\" => Any[WebIO.JSString(\"(function (val){return (val!=this.model[\\\"index\\\"]()) ? (this.valueFromJulia[\\\"index\\\"]=true, this.model[\\\"index\\\"](val)) : undefined})\")]), WebIO.ConnectionPool(Channel{Any}(sz_max:32,sz_curr:0), Set(AbstractConnection[]), Base.GenericCondition{Base.AlwaysLockedST}(Base.InvasiveLinkedList{Task}(Task (runnable) @0x00000001379d9f90, Task (runnable) @0x00000001379d9f90), Base.AlwaysLockedST(1))), WebIO.JSString[WebIO.JSString(\"function () {\\n    var handler = (function (ko, koPunches) {\\n    ko.punches.enableAll();\\n    ko.bindingHandlers.numericValue = {\\n        init: function(element, valueAccessor, allBindings, data, context) {\\n            var stringified = ko.observable(ko.unwrap(valueAccessor()));\\n            stringified.subscribe(function(value) {\\n                var val = parseFloat(value);\\n                if (!isNaN(val)) {\\n                    valueAccessor()(val);\\n                }\\n            });\\n            valueAccessor().subscribe(function(value) {\\n                var str = JSON.stringify(value);\\n                if ((str == \\\"0\\\") && ([\\\"-0\\\", \\\"-0.\\\"].indexOf(stringified()) >= 0))\\n                     return;\\n                 if ([\\\"null\\\", \\\"\\\"].indexOf(str) >= 0)\\n                     return;\\n                stringified(str);\\n            });\\n            ko.applyBindingsToNode(\\n                element,\\n                {\\n                    value: stringified,\\n                    valueUpdate: allBindings.get('valueUpdate'),\\n                },\\n                context,\\n            );\\n        }\\n    };\\n    var json_data = {\\\"formatted_vals\\\":[\\\"0.01\\\",\\\"0.02\\\",\\\"0.03\\\",\\\"0.04\\\",\\\"0.05\\\",\\\"0.06\\\",\\\"0.07\\\",\\\"0.08\\\",\\\"0.09\\\",\\\"0.1\\\",\\\"0.11\\\",\\\"0.12\\\",\\\"0.13\\\",\\\"0.14\\\",\\\"0.15\\\",\\\"0.16\\\",\\\"0.17\\\",\\\"0.18\\\",\\\"0.19\\\",\\\"0.2\\\",\\\"0.21\\\",\\\"0.22\\\",\\\"0.23\\\",\\\"0.24\\\",\\\"0.25\\\",\\\"0.26\\\",\\\"0.27\\\",\\\"0.28\\\",\\\"0.29\\\",\\\"0.3\\\",\\\"0.31\\\",\\\"0.32\\\",\\\"0.33\\\",\\\"0.34\\\",\\\"0.35\\\",\\\"0.36\\\",\\\"0.37\\\",\\\"0.38\\\",\\\"0.39\\\",\\\"0.4\\\",\\\"0.41\\\",\\\"0.42\\\",\\\"0.43\\\",\\\"0.44\\\",\\\"0.45\\\",\\\"0.46\\\",\\\"0.47\\\",\\\"0.48\\\",\\\"0.49\\\",\\\"0.5\\\",\\\"0.51\\\",\\\"0.52\\\",\\\"0.53\\\",\\\"0.54\\\",\\\"0.55\\\",\\\"0.56\\\",\\\"0.57\\\",\\\"0.58\\\",\\\"0.59\\\",\\\"0.6\\\",\\\"0.61\\\",\\\"0.62\\\",\\\"0.63\\\",\\\"0.64\\\",\\\"0.65\\\",\\\"0.66\\\",\\\"0.67\\\",\\\"0.68\\\",\\\"0.69\\\",\\\"0.7\\\",\\\"0.71\\\",\\\"0.72\\\",\\\"0.73\\\",\\\"0.74\\\",\\\"0.75\\\",\\\"0.76\\\",\\\"0.77\\\",\\\"0.78\\\",\\\"0.79\\\",\\\"0.8\\\",\\\"0.81\\\",\\\"0.82\\\",\\\"0.83\\\",\\\"0.84\\\",\\\"0.85\\\",\\\"0.86\\\",\\\"0.87\\\",\\\"0.88\\\",\\\"0.89\\\",\\\"0.9\\\",\\\"0.91\\\",\\\"0.92\\\",\\\"0.93\\\",\\\"0.94\\\",\\\"0.95\\\",\\\"0.96\\\",\\\"0.97\\\",\\\"0.98\\\",\\\"0.99\\\",\\\"1.0\\\"],\\\"changes\\\":WebIO.getval({\\\"name\\\":\\\"changes\\\",\\\"scope\\\":\\\"9334427951949080715\\\",\\\"id\\\":\\\"ob_03\\\",\\\"type\\\":\\\"observable\\\"}),\\\"index\\\":WebIO.getval({\\\"name\\\":\\\"index\\\",\\\"scope\\\":\\\"9334427951949080715\\\",\\\"id\\\":\\\"ob_02\\\",\\\"type\\\":\\\"observable\\\"})};\\n    var self = this;\\n    function AppViewModel() {\\n        for (var key in json_data) {\\n            var el = json_data[key];\\n            this[key] = Array.isArray(el) ? ko.observableArray(el) : ko.observable(el);\\n        }\\n        \\n        [this[\\\"formatted_val\\\"]=ko.computed(    function(){\\n        return this.formatted_vals()[parseInt(this.index())-(1)];\\n    }\\n,this)]\\n        [this[\\\"changes\\\"].subscribe((function (val){!(this.valueFromJulia[\\\"changes\\\"]) ? (WebIO.setval({\\\"name\\\":\\\"changes\\\",\\\"scope\\\":\\\"9334427951949080715\\\",\\\"id\\\":\\\"ob_03\\\",\\\"type\\\":\\\"observable\\\"},val)) : undefined; return this.valueFromJulia[\\\"changes\\\"]=false}),self),this[\\\"index\\\"].subscribe((function (val){!(this.valueFromJulia[\\\"index\\\"]) ? (WebIO.setval({\\\"name\\\":\\\"index\\\",\\\"scope\\\":\\\"9334427951949080715\\\",\\\"id\\\":\\\"ob_02\\\",\\\"type\\\":\\\"observable\\\"},val)) : undefined; return this.valueFromJulia[\\\"index\\\"]=false}),self)]\\n        \\n    }\\n    self.model = new AppViewModel();\\n    self.valueFromJulia = {};\\n    for (var key in json_data) {\\n        self.valueFromJulia[key] = false;\\n    }\\n    ko.applyBindings(self.model, self.dom);\\n}\\n);\\n    (WebIO.importBlock({\\\"data\\\":[{\\\"name\\\":\\\"knockout\\\",\\\"type\\\":\\\"js\\\",\\\"url\\\":\\\"/assetserver/cb912308b570baeec2bdea4dcf17d324a53ef9a0-knockout.js\\\"},{\\\"name\\\":\\\"knockout_punches\\\",\\\"type\\\":\\\"js\\\",\\\"url\\\":\\\"/assetserver/a9a700823465fbeee026046afade412c0332887e-knockout_punches.js\\\"}],\\\"type\\\":\\\"async_block\\\"})).then((imports) => handler.apply(this, imports));\\n}\\n\")])], Dict{Symbol,Any}(:className => \"field interact-widget\")), Node{WebIO.DOM}(WebIO.DOM(:html, :div), Any[Scope(Node{WebIO.DOM}(WebIO.DOM(:html, :div), Any[Node{WebIO.DOM}(WebIO.DOM(:html, :div), Any[Node{WebIO.DOM}(WebIO.DOM(:html, :label), Any[\"N\"], Dict{Symbol,Any}(:className => \"interact \",:style => Dict{Any,Any}(:padding => \"5px 10px 0px 10px\")))], Dict{Symbol,Any}(:className => \"interact-flex-row-left\")), Node{WebIO.DOM}(WebIO.DOM(:html, :div), Any[Node{WebIO.DOM}(WebIO.DOM(:html, :input), Any[], Dict{Symbol,Any}(:max => 100,:min => 1,:attributes => Dict{Any,Any}(:type => \"range\",Symbol(\"data-bind\") => \"numericValue: index, valueUpdate: 'input', event: {change: function (){this.changes(this.changes()+1)}}\",\"orient\" => \"horizontal\"),:step => 1,:className => \"slider slider is-fullwidth\",:style => Dict{Any,Any}()))], Dict{Symbol,Any}(:className => \"interact-flex-row-center\")), Node{WebIO.DOM}(WebIO.DOM(:html, :div), Any[Node{WebIO.DOM}(WebIO.DOM(:html, :p), Any[], Dict{Symbol,Any}(:attributes => Dict(\"data-bind\" => \"text: formatted_val\")))], Dict{Symbol,Any}(:className => \"interact-flex-row-right\"))], Dict{Symbol,Any}(:className => \"interact-flex-row interact-widget\")), Dict{String,Tuple{Observables.AbstractObservable,Union{Nothing, Bool}}}(\"changes\" => (Observable{Int64} with 1 listeners. Value:\n",
       "0, nothing),\"index\" => (Observable{Any} with 2 listeners. Value:\n",
       "50, nothing)), Set(String[]), nothing, Asset[Asset(\"js\", \"knockout\", \"/Users/anniebryan/.julia/packages/Knockout/IP1uR/src/../assets/knockout.js\"), Asset(\"js\", \"knockout_punches\", \"/Users/anniebryan/.julia/packages/Knockout/IP1uR/src/../assets/knockout_punches.js\"), Asset(\"js\", nothing, \"/Users/anniebryan/.julia/packages/InteractBase/9mFwe/src/../assets/all.js\"), Asset(\"css\", nothing, \"/Users/anniebryan/.julia/packages/InteractBase/9mFwe/src/../assets/style.css\"), Asset(\"css\", nothing, \"/Users/anniebryan/.julia/packages/Interact/SbgIk/src/../assets/bulma_confined.min.css\")], Dict{Any,Any}(\"changes\" => Any[WebIO.JSString(\"(function (val){return (val!=this.model[\\\"changes\\\"]()) ? (this.valueFromJulia[\\\"changes\\\"]=true, this.model[\\\"changes\\\"](val)) : undefined})\")],\"index\" => Any[WebIO.JSString(\"(function (val){return (val!=this.model[\\\"index\\\"]()) ? (this.valueFromJulia[\\\"index\\\"]=true, this.model[\\\"index\\\"](val)) : undefined})\")]), WebIO.ConnectionPool(Channel{Any}(sz_max:32,sz_curr:0), Set(AbstractConnection[]), Base.GenericCondition{Base.AlwaysLockedST}(Base.InvasiveLinkedList{Task}(Task (runnable) @0x000000013485c250, Task (runnable) @0x000000013485c250), Base.AlwaysLockedST(1))), WebIO.JSString[WebIO.JSString(\"function () {\\n    var handler = (function (ko, koPunches) {\\n    ko.punches.enableAll();\\n    ko.bindingHandlers.numericValue = {\\n        init: function(element, valueAccessor, allBindings, data, context) {\\n            var stringified = ko.observable(ko.unwrap(valueAccessor()));\\n            stringified.subscribe(function(value) {\\n                var val = parseFloat(value);\\n                if (!isNaN(val)) {\\n                    valueAccessor()(val);\\n                }\\n            });\\n            valueAccessor().subscribe(function(value) {\\n                var str = JSON.stringify(value);\\n                if ((str == \\\"0\\\") && ([\\\"-0\\\", \\\"-0.\\\"].indexOf(stringified()) >= 0))\\n                     return;\\n                 if ([\\\"null\\\", \\\"\\\"].indexOf(str) >= 0)\\n                     return;\\n                stringified(str);\\n            });\\n            ko.applyBindingsToNode(\\n                element,\\n                {\\n                    value: stringified,\\n                    valueUpdate: allBindings.get('valueUpdate'),\\n                },\\n                context,\\n            );\\n        }\\n    };\\n    var json_data = {\\\"formatted_vals\\\":[\\\"1\\\",\\\"101\\\",\\\"201\\\",\\\"301\\\",\\\"401\\\",\\\"501\\\",\\\"601\\\",\\\"701\\\",\\\"801\\\",\\\"901\\\",\\\"1001\\\",\\\"1101\\\",\\\"1201\\\",\\\"1301\\\",\\\"1401\\\",\\\"1501\\\",\\\"1601\\\",\\\"1701\\\",\\\"1801\\\",\\\"1901\\\",\\\"2001\\\",\\\"2101\\\",\\\"2201\\\",\\\"2301\\\",\\\"2401\\\",\\\"2501\\\",\\\"2601\\\",\\\"2701\\\",\\\"2801\\\",\\\"2901\\\",\\\"3001\\\",\\\"3101\\\",\\\"3201\\\",\\\"3301\\\",\\\"3401\\\",\\\"3501\\\",\\\"3601\\\",\\\"3701\\\",\\\"3801\\\",\\\"3901\\\",\\\"4001\\\",\\\"4101\\\",\\\"4201\\\",\\\"4301\\\",\\\"4401\\\",\\\"4501\\\",\\\"4601\\\",\\\"4701\\\",\\\"4801\\\",\\\"4901\\\",\\\"5001\\\",\\\"5101\\\",\\\"5201\\\",\\\"5301\\\",\\\"5401\\\",\\\"5501\\\",\\\"5601\\\",\\\"5701\\\",\\\"5801\\\",\\\"5901\\\",\\\"6001\\\",\\\"6101\\\",\\\"6201\\\",\\\"6301\\\",\\\"6401\\\",\\\"6501\\\",\\\"6601\\\",\\\"6701\\\",\\\"6801\\\",\\\"6901\\\",\\\"7001\\\",\\\"7101\\\",\\\"7201\\\",\\\"7301\\\",\\\"7401\\\",\\\"7501\\\",\\\"7601\\\",\\\"7701\\\",\\\"7801\\\",\\\"7901\\\",\\\"8001\\\",\\\"8101\\\",\\\"8201\\\",\\\"8301\\\",\\\"8401\\\",\\\"8501\\\",\\\"8601\\\",\\\"8701\\\",\\\"8801\\\",\\\"8901\\\",\\\"9001\\\",\\\"9101\\\",\\\"9201\\\",\\\"9301\\\",\\\"9401\\\",\\\"9501\\\",\\\"9601\\\",\\\"9701\\\",\\\"9801\\\",\\\"9901\\\"],\\\"changes\\\":WebIO.getval({\\\"name\\\":\\\"changes\\\",\\\"scope\\\":\\\"8484946672421427261\\\",\\\"id\\\":\\\"ob_06\\\",\\\"type\\\":\\\"observable\\\"}),\\\"index\\\":WebIO.getval({\\\"name\\\":\\\"index\\\",\\\"scope\\\":\\\"8484946672421427261\\\",\\\"id\\\":\\\"ob_05\\\",\\\"type\\\":\\\"observable\\\"})};\\n    var self = this;\\n    function AppViewModel() {\\n        for (var key in json_data) {\\n            var el = json_data[key];\\n            this[key] = Array.isArray(el) ? ko.observableArray(el) : ko.observable(el);\\n        }\\n        \\n        [this[\\\"formatted_val\\\"]=ko.computed(    function(){\\n        return this.formatted_vals()[parseInt(this.index())-(1)];\\n    }\\n,this)]\\n        [this[\\\"changes\\\"].subscribe((function (val){!(this.valueFromJulia[\\\"changes\\\"]) ? (WebIO.setval({\\\"name\\\":\\\"changes\\\",\\\"scope\\\":\\\"8484946672421427261\\\",\\\"id\\\":\\\"ob_06\\\",\\\"type\\\":\\\"observable\\\"},val)) : undefined; return this.valueFromJulia[\\\"changes\\\"]=false}),self),this[\\\"index\\\"].subscribe((function (val){!(this.valueFromJulia[\\\"index\\\"]) ? (WebIO.setval({\\\"name\\\":\\\"index\\\",\\\"scope\\\":\\\"8484946672421427261\\\",\\\"id\\\":\\\"ob_05\\\",\\\"type\\\":\\\"observable\\\"},val)) : undefined; return this.valueFromJulia[\\\"index\\\"]=false}),self)]\\n        \\n    }\\n    self.model = new AppViewModel();\\n    self.valueFromJulia = {};\\n    for (var key in json_data) {\\n        self.valueFromJulia[key] = false;\\n    }\\n    ko.applyBindings(self.model, self.dom);\\n}\\n);\\n    (WebIO.importBlock({\\\"data\\\":[{\\\"name\\\":\\\"knockout\\\",\\\"type\\\":\\\"js\\\",\\\"url\\\":\\\"/assetserver/cb912308b570baeec2bdea4dcf17d324a53ef9a0-knockout.js\\\"},{\\\"name\\\":\\\"knockout_punches\\\",\\\"type\\\":\\\"js\\\",\\\"url\\\":\\\"/assetserver/a9a700823465fbeee026046afade412c0332887e-knockout_punches.js\\\"}],\\\"type\\\":\\\"async_block\\\"})).then((imports) => handler.apply(this, imports));\\n}\\n\")])], Dict{Symbol,Any}(:className => \"field interact-widget\")), Observable{Any} with 0 listeners. Value:\n",
       "Node{WebIO.DOM}(WebIO.DOM(:html, :div), Any[Plot{Plots.GRBackend() n=1}], Dict{Symbol,Any}(:className => \"interact-flex-row interact-widget\"))], Dict{Symbol,Any}())"
      ]
     },
     "execution_count": 17,
     "metadata": {
      "application/vnd.webio.node+json": {
       "kernelId": "4d115337-4608-445b-823b-bef4c6686c86"
      }
     },
     "output_type": "execute_result"
    }
   ],
   "source": [
    "using Interact\n",
    "\n",
    "@manipulate for p = 0.01:0.01:1, N = 1:100:10000\n",
    "    results = experiment(p, N)\n",
    "    pdf = probability_distribution(results)\n",
    "    plot(pdf)\n",
    "end"
   ]
  },
  {
   "cell_type": "code",
   "execution_count": 18,
   "metadata": {},
   "outputs": [
    {
     "data": {
      "text/plain": [
       "τ (generic function with 2 methods)"
      ]
     },
     "execution_count": 18,
     "metadata": {},
     "output_type": "execute_result"
    }
   ],
   "source": [
    "function τ(p, N=10000)\n",
    "    results = experiment(p, N)\n",
    "    return mean(results)\n",
    "end"
   ]
  },
  {
   "cell_type": "code",
   "execution_count": 19,
   "metadata": {},
   "outputs": [
    {
     "ename": "UndefVarError",
     "evalue": "UndefVarError: mean not defined",
     "output_type": "error",
     "traceback": [
      "UndefVarError: mean not defined",
      "",
      "Stacktrace:",
      " [1] τ(::Float64, ::Int64) at ./In[18]:3",
      " [2] τ at ./In[18]:2 [inlined]",
      " [3] iterate at ./generator.jl:47 [inlined]",
      " [4] collect(::Base.Generator{StepRangeLen{Float64,Base.TwicePrecision{Float64},Base.TwicePrecision{Float64}},typeof(τ)}) at ./array.jl:665",
      " [5] top-level scope at In[19]:2"
     ]
    }
   ],
   "source": [
    "probabilities = 0.01:0.01:1\n",
    "means = [τ(p) for p in probabilities]\n",
    "p = plot()\n",
    "plot!(probabilities, means)\n",
    "xlabel!(\"Probability of recovering at any given time\")\n",
    "ylabel!(\"Mean Time to Recover\")\n",
    "title!(\"Inverse Relationship\")\n",
    "p"
   ]
  },
  {
   "cell_type": "markdown",
   "metadata": {},
   "source": [
    "### Exercise 3: More efficient geometric distributions\n",
    "\n",
    "Let's use the notation $P_n := \\mathbb{P}(\\tau = n)$ for the probability to recover on the $n$th step.\n",
    "\n",
    "Probability theory tells us that in the limit of an infinite number of trials, we have the exact results $P_1 = p$, that $P_2 = p (1-p)$, and in general $P_n = p (1 - p)^{n-1}$.\n",
    "\n",
    "1. Fix $p = 0.25$. Make a vector of the values $P_n$ for $n=1, \\dots, 50$. You must use a loop or similar construction; do *not* do this by hand!\n",
    "\n",
    "2. Plot $P_n$ as a function of $n$. Compare it to the result from the previous exercise (i.e. plot them both on the same graph).\n",
    "\n",
    "    How could we measure the *error*, i.e. the distance between the two graphs? What do you think determines it?\n",
    "\n",
    "\n",
    "If $p$ is *small*, say $p=0.001$, then the algorithm we used in\n",
    "Exercise 2 to sample from geometric distribution will be very slow, since it just sits there calculating a lot of `false`s!\n",
    "(The average amount of time taken is what you hopefully found in [1.8])\n",
    "\n",
    "Let's make a better algorithm. Think of each probability $P_n$ as a \"bin\" of length $P_n$. If we lay those bins next to each other starting from $P_1$ on the left, then $P_2$, etc., there will be an *infinite* number of bins filling up the interval between $0$ and $1$. (In principle there is no upper limit on how many days it will take to recover, although the probability becomes *very* small.)\n",
    "\n",
    "Now suppose we take a uniform random number $r$ between $0$ and $1$. That will fall into one of the bins. If it falls into the bin corresponding to $P_n$, then we return $n$ as the recovery time!\n",
    "\n",
    "3. To draw this picture, we need to add up the lengths of the lines from 1 to $n$ for each $n$, i.e. calculate the **cumulative sum**. Write a function `cumulative_sum`, which returns a new vector. (Of course, you should only do this for a finite number of values! Say those that you found in [2]. )\n",
    "\n",
    "4. Plot the resulting values on a horizontal line. Generate a few random points and plot those. Convince yourself that the probability that a point hits a bin is equal to the length of that bin.\n",
    "\n",
    "5. Calculate analytically the sum of $P_1$ up to $P_n$. (Hint: This should be a calculation that you did in high school or in Calculus I.)\n",
    "\n",
    "6. Use the result of [5] to find analytically which bin $n$ a given value of $r \\in [0, 1]$ falls into using the inequality $P_{n+1} \\le r \\le P_n$.\n",
    "\n",
    "7. Implement this using the `floor` function."
   ]
  },
  {
   "cell_type": "code",
   "execution_count": 20,
   "metadata": {},
   "outputs": [
    {
     "data": {
      "text/plain": [
       "get_p_vals (generic function with 2 methods)"
      ]
     },
     "execution_count": 20,
     "metadata": {},
     "output_type": "execute_result"
    }
   ],
   "source": [
    "function get_p_vals(N, p = 0.25)\n",
    "    p_vals = zeros(N)\n",
    "    p_vals[1] = p\n",
    "    for n in 2:N\n",
    "        p_vals[n] = p_vals[n-1]*(1-p)\n",
    "    end\n",
    "    return p_vals\n",
    "end"
   ]
  },
  {
   "cell_type": "code",
   "execution_count": 21,
   "metadata": {},
   "outputs": [
    {
     "data": {
      "text/plain": [
       "50-element Array{Float64,1}:\n",
       " 0.25\n",
       " 0.1875\n",
       " 0.140625\n",
       " 0.10546875\n",
       " 0.0791015625\n",
       " 0.059326171875\n",
       " 0.04449462890625\n",
       " 0.0333709716796875\n",
       " 0.025028228759765625\n",
       " 0.01877117156982422\n",
       " 0.014078378677368164\n",
       " 0.010558784008026123\n",
       " 0.007919088006019592\n",
       " ⋮\n",
       " 4.4695934051722205e-6\n",
       " 3.3521950538791656e-6\n",
       " 2.514146290409374e-6\n",
       " 1.8856097178070307e-6\n",
       " 1.414207288355273e-6\n",
       " 1.0606554662664548e-6\n",
       " 7.954915996998411e-7\n",
       " 5.966186997748809e-7\n",
       " 4.4746402483116066e-7\n",
       " 3.355980186233705e-7\n",
       " 2.5169851396752785e-7\n",
       " 1.8877388547564587e-7"
      ]
     },
     "execution_count": 21,
     "metadata": {},
     "output_type": "execute_result"
    }
   ],
   "source": [
    "get_p_vals(50)"
   ]
  },
  {
   "cell_type": "code",
   "execution_count": 22,
   "metadata": {},
   "outputs": [
    {
     "data": {
      "image/svg+xml": [
       "<?xml version=\"1.0\" encoding=\"utf-8\"?>\n",
       "<svg xmlns=\"http://www.w3.org/2000/svg\" xmlns:xlink=\"http://www.w3.org/1999/xlink\" width=\"600\" height=\"400\" viewBox=\"0 0 2400 1600\">\n",
       "<defs>\n",
       "  <clipPath id=\"clip0300\">\n",
       "    <rect x=\"0\" y=\"0\" width=\"2400\" height=\"1600\"/>\n",
       "  </clipPath>\n",
       "</defs>\n",
       "<path clip-path=\"url(#clip0300)\" d=\"\n",
       "M0 1600 L2400 1600 L2400 0 L0 0  Z\n",
       "  \" fill=\"#ffffff\" fill-rule=\"evenodd\" fill-opacity=\"1\"/>\n",
       "<defs>\n",
       "  <clipPath id=\"clip0301\">\n",
       "    <rect x=\"480\" y=\"0\" width=\"1681\" height=\"1600\"/>\n",
       "  </clipPath>\n",
       "</defs>\n",
       "<path clip-path=\"url(#clip0300)\" d=\"\n",
       "M180.66 1487.47 L2352.76 1487.47 L2352.76 47.2441 L180.66 47.2441  Z\n",
       "  \" fill=\"#ffffff\" fill-rule=\"evenodd\" fill-opacity=\"1\"/>\n",
       "<defs>\n",
       "  <clipPath id=\"clip0302\">\n",
       "    <rect x=\"180\" y=\"47\" width=\"2173\" height=\"1441\"/>\n",
       "  </clipPath>\n",
       "</defs>\n",
       "<polyline clip-path=\"url(#clip0302)\" style=\"stroke:#000000; stroke-width:2; stroke-opacity:0.1; fill:none\" points=\"\n",
       "  200.315,1487.47 200.315,47.2441 \n",
       "  \"/>\n",
       "<polyline clip-path=\"url(#clip0302)\" style=\"stroke:#000000; stroke-width:2; stroke-opacity:0.1; fill:none\" points=\"\n",
       "  618.509,1487.47 618.509,47.2441 \n",
       "  \"/>\n",
       "<polyline clip-path=\"url(#clip0302)\" style=\"stroke:#000000; stroke-width:2; stroke-opacity:0.1; fill:none\" points=\"\n",
       "  1036.7,1487.47 1036.7,47.2441 \n",
       "  \"/>\n",
       "<polyline clip-path=\"url(#clip0302)\" style=\"stroke:#000000; stroke-width:2; stroke-opacity:0.1; fill:none\" points=\"\n",
       "  1454.9,1487.47 1454.9,47.2441 \n",
       "  \"/>\n",
       "<polyline clip-path=\"url(#clip0302)\" style=\"stroke:#000000; stroke-width:2; stroke-opacity:0.1; fill:none\" points=\"\n",
       "  1873.09,1487.47 1873.09,47.2441 \n",
       "  \"/>\n",
       "<polyline clip-path=\"url(#clip0302)\" style=\"stroke:#000000; stroke-width:2; stroke-opacity:0.1; fill:none\" points=\"\n",
       "  2291.28,1487.47 2291.28,47.2441 \n",
       "  \"/>\n",
       "<polyline clip-path=\"url(#clip0302)\" style=\"stroke:#000000; stroke-width:2; stroke-opacity:0.1; fill:none\" points=\"\n",
       "  180.66,1446.71 2352.76,1446.71 \n",
       "  \"/>\n",
       "<polyline clip-path=\"url(#clip0302)\" style=\"stroke:#000000; stroke-width:2; stroke-opacity:0.1; fill:none\" points=\"\n",
       "  180.66,1174.97 2352.76,1174.97 \n",
       "  \"/>\n",
       "<polyline clip-path=\"url(#clip0302)\" style=\"stroke:#000000; stroke-width:2; stroke-opacity:0.1; fill:none\" points=\"\n",
       "  180.66,903.231 2352.76,903.231 \n",
       "  \"/>\n",
       "<polyline clip-path=\"url(#clip0302)\" style=\"stroke:#000000; stroke-width:2; stroke-opacity:0.1; fill:none\" points=\"\n",
       "  180.66,631.489 2352.76,631.489 \n",
       "  \"/>\n",
       "<polyline clip-path=\"url(#clip0302)\" style=\"stroke:#000000; stroke-width:2; stroke-opacity:0.1; fill:none\" points=\"\n",
       "  180.66,359.747 2352.76,359.747 \n",
       "  \"/>\n",
       "<polyline clip-path=\"url(#clip0302)\" style=\"stroke:#000000; stroke-width:2; stroke-opacity:0.1; fill:none\" points=\"\n",
       "  180.66,88.0053 2352.76,88.0053 \n",
       "  \"/>\n",
       "<polyline clip-path=\"url(#clip0300)\" style=\"stroke:#000000; stroke-width:4; stroke-opacity:1; fill:none\" points=\"\n",
       "  180.66,1487.47 2352.76,1487.47 \n",
       "  \"/>\n",
       "<polyline clip-path=\"url(#clip0300)\" style=\"stroke:#000000; stroke-width:4; stroke-opacity:1; fill:none\" points=\"\n",
       "  180.66,1487.47 180.66,47.2441 \n",
       "  \"/>\n",
       "<polyline clip-path=\"url(#clip0300)\" style=\"stroke:#000000; stroke-width:4; stroke-opacity:1; fill:none\" points=\"\n",
       "  200.315,1487.47 200.315,1470.19 \n",
       "  \"/>\n",
       "<polyline clip-path=\"url(#clip0300)\" style=\"stroke:#000000; stroke-width:4; stroke-opacity:1; fill:none\" points=\"\n",
       "  618.509,1487.47 618.509,1470.19 \n",
       "  \"/>\n",
       "<polyline clip-path=\"url(#clip0300)\" style=\"stroke:#000000; stroke-width:4; stroke-opacity:1; fill:none\" points=\"\n",
       "  1036.7,1487.47 1036.7,1470.19 \n",
       "  \"/>\n",
       "<polyline clip-path=\"url(#clip0300)\" style=\"stroke:#000000; stroke-width:4; stroke-opacity:1; fill:none\" points=\"\n",
       "  1454.9,1487.47 1454.9,1470.19 \n",
       "  \"/>\n",
       "<polyline clip-path=\"url(#clip0300)\" style=\"stroke:#000000; stroke-width:4; stroke-opacity:1; fill:none\" points=\"\n",
       "  1873.09,1487.47 1873.09,1470.19 \n",
       "  \"/>\n",
       "<polyline clip-path=\"url(#clip0300)\" style=\"stroke:#000000; stroke-width:4; stroke-opacity:1; fill:none\" points=\"\n",
       "  2291.28,1487.47 2291.28,1470.19 \n",
       "  \"/>\n",
       "<polyline clip-path=\"url(#clip0300)\" style=\"stroke:#000000; stroke-width:4; stroke-opacity:1; fill:none\" points=\"\n",
       "  180.66,1446.71 206.725,1446.71 \n",
       "  \"/>\n",
       "<polyline clip-path=\"url(#clip0300)\" style=\"stroke:#000000; stroke-width:4; stroke-opacity:1; fill:none\" points=\"\n",
       "  180.66,1174.97 206.725,1174.97 \n",
       "  \"/>\n",
       "<polyline clip-path=\"url(#clip0300)\" style=\"stroke:#000000; stroke-width:4; stroke-opacity:1; fill:none\" points=\"\n",
       "  180.66,903.231 206.725,903.231 \n",
       "  \"/>\n",
       "<polyline clip-path=\"url(#clip0300)\" style=\"stroke:#000000; stroke-width:4; stroke-opacity:1; fill:none\" points=\"\n",
       "  180.66,631.489 206.725,631.489 \n",
       "  \"/>\n",
       "<polyline clip-path=\"url(#clip0300)\" style=\"stroke:#000000; stroke-width:4; stroke-opacity:1; fill:none\" points=\"\n",
       "  180.66,359.747 206.725,359.747 \n",
       "  \"/>\n",
       "<polyline clip-path=\"url(#clip0300)\" style=\"stroke:#000000; stroke-width:4; stroke-opacity:1; fill:none\" points=\"\n",
       "  180.66,88.0053 206.725,88.0053 \n",
       "  \"/>\n",
       "<g clip-path=\"url(#clip0300)\">\n",
       "<text style=\"fill:#000000; fill-opacity:1; font-family:Arial,Helvetica Neue,Helvetica,sans-serif; font-size:48px; text-anchor:middle;\" transform=\"rotate(0, 200.315, 1541.47)\" x=\"200.315\" y=\"1541.47\">0</text>\n",
       "</g>\n",
       "<g clip-path=\"url(#clip0300)\">\n",
       "<text style=\"fill:#000000; fill-opacity:1; font-family:Arial,Helvetica Neue,Helvetica,sans-serif; font-size:48px; text-anchor:middle;\" transform=\"rotate(0, 618.509, 1541.47)\" x=\"618.509\" y=\"1541.47\">10</text>\n",
       "</g>\n",
       "<g clip-path=\"url(#clip0300)\">\n",
       "<text style=\"fill:#000000; fill-opacity:1; font-family:Arial,Helvetica Neue,Helvetica,sans-serif; font-size:48px; text-anchor:middle;\" transform=\"rotate(0, 1036.7, 1541.47)\" x=\"1036.7\" y=\"1541.47\">20</text>\n",
       "</g>\n",
       "<g clip-path=\"url(#clip0300)\">\n",
       "<text style=\"fill:#000000; fill-opacity:1; font-family:Arial,Helvetica Neue,Helvetica,sans-serif; font-size:48px; text-anchor:middle;\" transform=\"rotate(0, 1454.9, 1541.47)\" x=\"1454.9\" y=\"1541.47\">30</text>\n",
       "</g>\n",
       "<g clip-path=\"url(#clip0300)\">\n",
       "<text style=\"fill:#000000; fill-opacity:1; font-family:Arial,Helvetica Neue,Helvetica,sans-serif; font-size:48px; text-anchor:middle;\" transform=\"rotate(0, 1873.09, 1541.47)\" x=\"1873.09\" y=\"1541.47\">40</text>\n",
       "</g>\n",
       "<g clip-path=\"url(#clip0300)\">\n",
       "<text style=\"fill:#000000; fill-opacity:1; font-family:Arial,Helvetica Neue,Helvetica,sans-serif; font-size:48px; text-anchor:middle;\" transform=\"rotate(0, 2291.28, 1541.47)\" x=\"2291.28\" y=\"1541.47\">50</text>\n",
       "</g>\n",
       "<g clip-path=\"url(#clip0300)\">\n",
       "<text style=\"fill:#000000; fill-opacity:1; font-family:Arial,Helvetica Neue,Helvetica,sans-serif; font-size:48px; text-anchor:end;\" transform=\"rotate(0, 156.66, 1464.21)\" x=\"156.66\" y=\"1464.21\">0.00</text>\n",
       "</g>\n",
       "<g clip-path=\"url(#clip0300)\">\n",
       "<text style=\"fill:#000000; fill-opacity:1; font-family:Arial,Helvetica Neue,Helvetica,sans-serif; font-size:48px; text-anchor:end;\" transform=\"rotate(0, 156.66, 1192.47)\" x=\"156.66\" y=\"1192.47\">0.05</text>\n",
       "</g>\n",
       "<g clip-path=\"url(#clip0300)\">\n",
       "<text style=\"fill:#000000; fill-opacity:1; font-family:Arial,Helvetica Neue,Helvetica,sans-serif; font-size:48px; text-anchor:end;\" transform=\"rotate(0, 156.66, 920.731)\" x=\"156.66\" y=\"920.731\">0.10</text>\n",
       "</g>\n",
       "<g clip-path=\"url(#clip0300)\">\n",
       "<text style=\"fill:#000000; fill-opacity:1; font-family:Arial,Helvetica Neue,Helvetica,sans-serif; font-size:48px; text-anchor:end;\" transform=\"rotate(0, 156.66, 648.989)\" x=\"156.66\" y=\"648.989\">0.15</text>\n",
       "</g>\n",
       "<g clip-path=\"url(#clip0300)\">\n",
       "<text style=\"fill:#000000; fill-opacity:1; font-family:Arial,Helvetica Neue,Helvetica,sans-serif; font-size:48px; text-anchor:end;\" transform=\"rotate(0, 156.66, 377.247)\" x=\"156.66\" y=\"377.247\">0.20</text>\n",
       "</g>\n",
       "<g clip-path=\"url(#clip0300)\">\n",
       "<text style=\"fill:#000000; fill-opacity:1; font-family:Arial,Helvetica Neue,Helvetica,sans-serif; font-size:48px; text-anchor:end;\" transform=\"rotate(0, 156.66, 105.505)\" x=\"156.66\" y=\"105.505\">0.25</text>\n",
       "</g>\n",
       "<polyline clip-path=\"url(#clip0302)\" style=\"stroke:#009af9; stroke-width:4; stroke-opacity:1; fill:none\" points=\"\n",
       "  242.135,88.0053 283.954,427.683 325.773,682.441 367.593,873.509 409.412,1016.81 451.231,1124.29 493.051,1204.89 534.87,1265.35 576.689,1310.69 618.509,1344.7 \n",
       "  660.328,1370.2 702.147,1389.33 743.967,1403.68 785.786,1414.44 827.605,1422.51 869.425,1428.56 911.244,1433.1 953.063,1436.5 994.883,1439.05 1036.7,1440.97 \n",
       "  1078.52,1442.41 1120.34,1443.48 1162.16,1444.29 1203.98,1444.9 1245.8,1445.35 1287.62,1445.69 1329.44,1445.95 1371.26,1446.14 1413.08,1446.28 1454.9,1446.39 \n",
       "  1496.71,1446.47 1538.53,1446.53 1580.35,1446.58 1622.17,1446.61 1663.99,1446.64 1705.81,1446.66 1747.63,1446.67 1789.45,1446.68 1831.27,1446.69 1873.09,1446.7 \n",
       "  1914.91,1446.7 1956.73,1446.7 1998.55,1446.71 2040.37,1446.71 2082.18,1446.71 2124,1446.71 2165.82,1446.71 2207.64,1446.71 2249.46,1446.71 2291.28,1446.71 \n",
       "  \n",
       "  \"/>\n",
       "<path clip-path=\"url(#clip0300)\" d=\"\n",
       "M1989.93 251.724 L2280.76 251.724 L2280.76 130.764 L1989.93 130.764  Z\n",
       "  \" fill=\"#ffffff\" fill-rule=\"evenodd\" fill-opacity=\"1\"/>\n",
       "<polyline clip-path=\"url(#clip0300)\" style=\"stroke:#000000; stroke-width:4; stroke-opacity:1; fill:none\" points=\"\n",
       "  1989.93,251.724 2280.76,251.724 2280.76,130.764 1989.93,130.764 1989.93,251.724 \n",
       "  \"/>\n",
       "<polyline clip-path=\"url(#clip0300)\" style=\"stroke:#009af9; stroke-width:4; stroke-opacity:1; fill:none\" points=\"\n",
       "  2013.93,191.244 2157.93,191.244 \n",
       "  \"/>\n",
       "<g clip-path=\"url(#clip0300)\">\n",
       "<text style=\"fill:#000000; fill-opacity:1; font-family:Arial,Helvetica Neue,Helvetica,sans-serif; font-size:48px; text-anchor:start;\" transform=\"rotate(0, 2181.93, 208.744)\" x=\"2181.93\" y=\"208.744\">y1</text>\n",
       "</g>\n",
       "</svg>\n"
      ]
     },
     "execution_count": 22,
     "metadata": {},
     "output_type": "execute_result"
    }
   ],
   "source": [
    "plot(get_p_vals(50))"
   ]
  },
  {
   "cell_type": "code",
   "execution_count": 23,
   "metadata": {},
   "outputs": [
    {
     "ename": "UndefVarError",
     "evalue": "UndefVarError: mean not defined",
     "output_type": "error",
     "traceback": [
      "UndefVarError: mean not defined",
      "",
      "Stacktrace:",
      " [1] τ(::Float64, ::Int64) at ./In[18]:3",
      " [2] τ at ./In[18]:2 [inlined]",
      " [3] iterate at ./generator.jl:47 [inlined]",
      " [4] collect(::Base.Generator{StepRangeLen{Float64,Base.TwicePrecision{Float64},Base.TwicePrecision{Float64}},typeof(τ)}) at ./array.jl:665",
      " [5] top-level scope at In[23]:3"
     ]
    }
   ],
   "source": [
    "p = plot()\n",
    "probabilities = 0.01:0.01:1\n",
    "means = [τ(p) for p in probabilities]\n",
    "\n",
    "plot!(means, probabilities)\n",
    "plot!(get_p_vals(100))"
   ]
  },
  {
   "cell_type": "code",
   "execution_count": 24,
   "metadata": {},
   "outputs": [
    {
     "data": {
      "text/plain": [
       "cumulative_sum (generic function with 1 method)"
      ]
     },
     "execution_count": 24,
     "metadata": {},
     "output_type": "execute_result"
    }
   ],
   "source": [
    "function cumulative_sum(N)\n",
    "    p_vals = get_p_vals(N)\n",
    "    c_vals = zeros(N)\n",
    "    for n in 1:N\n",
    "        c_vals[n] = sum(p_vals[1:n])\n",
    "    end\n",
    "    return c_vals\n",
    "end"
   ]
  },
  {
   "cell_type": "code",
   "execution_count": 25,
   "metadata": {},
   "outputs": [
    {
     "data": {
      "image/svg+xml": [
       "<?xml version=\"1.0\" encoding=\"utf-8\"?>\n",
       "<svg xmlns=\"http://www.w3.org/2000/svg\" xmlns:xlink=\"http://www.w3.org/1999/xlink\" width=\"600\" height=\"400\" viewBox=\"0 0 2400 1600\">\n",
       "<defs>\n",
       "  <clipPath id=\"clip0700\">\n",
       "    <rect x=\"0\" y=\"0\" width=\"2400\" height=\"1600\"/>\n",
       "  </clipPath>\n",
       "</defs>\n",
       "<path clip-path=\"url(#clip0700)\" d=\"\n",
       "M0 1600 L2400 1600 L2400 0 L0 0  Z\n",
       "  \" fill=\"#ffffff\" fill-rule=\"evenodd\" fill-opacity=\"1\"/>\n",
       "<defs>\n",
       "  <clipPath id=\"clip0701\">\n",
       "    <rect x=\"480\" y=\"0\" width=\"1681\" height=\"1600\"/>\n",
       "  </clipPath>\n",
       "</defs>\n",
       "<path clip-path=\"url(#clip0700)\" d=\"\n",
       "M153.898 1487.47 L2352.76 1487.47 L2352.76 47.2441 L153.898 47.2441  Z\n",
       "  \" fill=\"#ffffff\" fill-rule=\"evenodd\" fill-opacity=\"1\"/>\n",
       "<defs>\n",
       "  <clipPath id=\"clip0702\">\n",
       "    <rect x=\"153\" y=\"47\" width=\"2200\" height=\"1441\"/>\n",
       "  </clipPath>\n",
       "</defs>\n",
       "<polyline clip-path=\"url(#clip0702)\" style=\"stroke:#000000; stroke-width:2; stroke-opacity:0.1; fill:none\" points=\"\n",
       "  195.176,1487.47 195.176,47.2441 \n",
       "  \"/>\n",
       "<polyline clip-path=\"url(#clip0702)\" style=\"stroke:#000000; stroke-width:2; stroke-opacity:0.1; fill:none\" points=\"\n",
       "  719.013,1487.47 719.013,47.2441 \n",
       "  \"/>\n",
       "<polyline clip-path=\"url(#clip0702)\" style=\"stroke:#000000; stroke-width:2; stroke-opacity:0.1; fill:none\" points=\"\n",
       "  1242.85,1487.47 1242.85,47.2441 \n",
       "  \"/>\n",
       "<polyline clip-path=\"url(#clip0702)\" style=\"stroke:#000000; stroke-width:2; stroke-opacity:0.1; fill:none\" points=\"\n",
       "  1766.69,1487.47 1766.69,47.2441 \n",
       "  \"/>\n",
       "<polyline clip-path=\"url(#clip0702)\" style=\"stroke:#000000; stroke-width:2; stroke-opacity:0.1; fill:none\" points=\"\n",
       "  2290.52,1487.47 2290.52,47.2441 \n",
       "  \"/>\n",
       "<polyline clip-path=\"url(#clip0702)\" style=\"stroke:#000000; stroke-width:2; stroke-opacity:0.1; fill:none\" points=\"\n",
       "  153.898,1174.97 2352.76,1174.97 \n",
       "  \"/>\n",
       "<polyline clip-path=\"url(#clip0702)\" style=\"stroke:#000000; stroke-width:2; stroke-opacity:0.1; fill:none\" points=\"\n",
       "  153.898,812.65 2352.76,812.65 \n",
       "  \"/>\n",
       "<polyline clip-path=\"url(#clip0702)\" style=\"stroke:#000000; stroke-width:2; stroke-opacity:0.1; fill:none\" points=\"\n",
       "  153.898,450.328 2352.76,450.328 \n",
       "  \"/>\n",
       "<polyline clip-path=\"url(#clip0702)\" style=\"stroke:#000000; stroke-width:2; stroke-opacity:0.1; fill:none\" points=\"\n",
       "  153.898,88.0053 2352.76,88.0053 \n",
       "  \"/>\n",
       "<polyline clip-path=\"url(#clip0700)\" style=\"stroke:#000000; stroke-width:4; stroke-opacity:1; fill:none\" points=\"\n",
       "  153.898,1487.47 2352.76,1487.47 \n",
       "  \"/>\n",
       "<polyline clip-path=\"url(#clip0700)\" style=\"stroke:#000000; stroke-width:4; stroke-opacity:1; fill:none\" points=\"\n",
       "  153.898,1487.47 153.898,47.2441 \n",
       "  \"/>\n",
       "<polyline clip-path=\"url(#clip0700)\" style=\"stroke:#000000; stroke-width:4; stroke-opacity:1; fill:none\" points=\"\n",
       "  195.176,1487.47 195.176,1470.19 \n",
       "  \"/>\n",
       "<polyline clip-path=\"url(#clip0700)\" style=\"stroke:#000000; stroke-width:4; stroke-opacity:1; fill:none\" points=\"\n",
       "  719.013,1487.47 719.013,1470.19 \n",
       "  \"/>\n",
       "<polyline clip-path=\"url(#clip0700)\" style=\"stroke:#000000; stroke-width:4; stroke-opacity:1; fill:none\" points=\"\n",
       "  1242.85,1487.47 1242.85,1470.19 \n",
       "  \"/>\n",
       "<polyline clip-path=\"url(#clip0700)\" style=\"stroke:#000000; stroke-width:4; stroke-opacity:1; fill:none\" points=\"\n",
       "  1766.69,1487.47 1766.69,1470.19 \n",
       "  \"/>\n",
       "<polyline clip-path=\"url(#clip0700)\" style=\"stroke:#000000; stroke-width:4; stroke-opacity:1; fill:none\" points=\"\n",
       "  2290.52,1487.47 2290.52,1470.19 \n",
       "  \"/>\n",
       "<polyline clip-path=\"url(#clip0700)\" style=\"stroke:#000000; stroke-width:4; stroke-opacity:1; fill:none\" points=\"\n",
       "  153.898,1174.97 180.284,1174.97 \n",
       "  \"/>\n",
       "<polyline clip-path=\"url(#clip0700)\" style=\"stroke:#000000; stroke-width:4; stroke-opacity:1; fill:none\" points=\"\n",
       "  153.898,812.65 180.284,812.65 \n",
       "  \"/>\n",
       "<polyline clip-path=\"url(#clip0700)\" style=\"stroke:#000000; stroke-width:4; stroke-opacity:1; fill:none\" points=\"\n",
       "  153.898,450.328 180.284,450.328 \n",
       "  \"/>\n",
       "<polyline clip-path=\"url(#clip0700)\" style=\"stroke:#000000; stroke-width:4; stroke-opacity:1; fill:none\" points=\"\n",
       "  153.898,88.0053 180.284,88.0053 \n",
       "  \"/>\n",
       "<g clip-path=\"url(#clip0700)\">\n",
       "<text style=\"fill:#000000; fill-opacity:1; font-family:Arial,Helvetica Neue,Helvetica,sans-serif; font-size:48px; text-anchor:middle;\" transform=\"rotate(0, 195.176, 1541.47)\" x=\"195.176\" y=\"1541.47\">0</text>\n",
       "</g>\n",
       "<g clip-path=\"url(#clip0700)\">\n",
       "<text style=\"fill:#000000; fill-opacity:1; font-family:Arial,Helvetica Neue,Helvetica,sans-serif; font-size:48px; text-anchor:middle;\" transform=\"rotate(0, 719.013, 1541.47)\" x=\"719.013\" y=\"1541.47\">25</text>\n",
       "</g>\n",
       "<g clip-path=\"url(#clip0700)\">\n",
       "<text style=\"fill:#000000; fill-opacity:1; font-family:Arial,Helvetica Neue,Helvetica,sans-serif; font-size:48px; text-anchor:middle;\" transform=\"rotate(0, 1242.85, 1541.47)\" x=\"1242.85\" y=\"1541.47\">50</text>\n",
       "</g>\n",
       "<g clip-path=\"url(#clip0700)\">\n",
       "<text style=\"fill:#000000; fill-opacity:1; font-family:Arial,Helvetica Neue,Helvetica,sans-serif; font-size:48px; text-anchor:middle;\" transform=\"rotate(0, 1766.69, 1541.47)\" x=\"1766.69\" y=\"1541.47\">75</text>\n",
       "</g>\n",
       "<g clip-path=\"url(#clip0700)\">\n",
       "<text style=\"fill:#000000; fill-opacity:1; font-family:Arial,Helvetica Neue,Helvetica,sans-serif; font-size:48px; text-anchor:middle;\" transform=\"rotate(0, 2290.52, 1541.47)\" x=\"2290.52\" y=\"1541.47\">100</text>\n",
       "</g>\n",
       "<g clip-path=\"url(#clip0700)\">\n",
       "<text style=\"fill:#000000; fill-opacity:1; font-family:Arial,Helvetica Neue,Helvetica,sans-serif; font-size:48px; text-anchor:end;\" transform=\"rotate(0, 129.898, 1192.47)\" x=\"129.898\" y=\"1192.47\">0.4</text>\n",
       "</g>\n",
       "<g clip-path=\"url(#clip0700)\">\n",
       "<text style=\"fill:#000000; fill-opacity:1; font-family:Arial,Helvetica Neue,Helvetica,sans-serif; font-size:48px; text-anchor:end;\" transform=\"rotate(0, 129.898, 830.15)\" x=\"129.898\" y=\"830.15\">0.6</text>\n",
       "</g>\n",
       "<g clip-path=\"url(#clip0700)\">\n",
       "<text style=\"fill:#000000; fill-opacity:1; font-family:Arial,Helvetica Neue,Helvetica,sans-serif; font-size:48px; text-anchor:end;\" transform=\"rotate(0, 129.898, 467.828)\" x=\"129.898\" y=\"467.828\">0.8</text>\n",
       "</g>\n",
       "<g clip-path=\"url(#clip0700)\">\n",
       "<text style=\"fill:#000000; fill-opacity:1; font-family:Arial,Helvetica Neue,Helvetica,sans-serif; font-size:48px; text-anchor:end;\" transform=\"rotate(0, 129.898, 105.505)\" x=\"129.898\" y=\"105.505\">1.0</text>\n",
       "</g>\n",
       "<polyline clip-path=\"url(#clip0702)\" style=\"stroke:#009af9; stroke-width:4; stroke-opacity:1; fill:none\" points=\"\n",
       "  216.13,1446.71 237.083,1107.04 258.037,852.279 278.99,661.21 299.944,517.909 320.897,410.433 341.851,329.826 362.804,269.371 383.758,224.03 404.711,190.024 \n",
       "  425.665,164.519 446.618,145.391 467.572,131.044 488.525,120.285 509.478,112.215 530.432,106.162 551.385,101.623 572.339,98.2187 593.292,95.6653 614.246,93.7503 \n",
       "  635.199,92.3141 656.153,91.2369 677.106,90.429 698.06,89.8231 719.013,89.3687 739.967,89.0278 760.92,88.7722 781.874,88.5805 802.827,88.4367 823.781,88.3289 \n",
       "  844.734,88.248 865.688,88.1873 886.641,88.1418 907.595,88.1077 928.548,88.0821 949.502,88.0629 970.455,88.0485 991.408,88.0377 1012.36,88.0296 1033.32,88.0236 \n",
       "  1054.27,88.019 1075.22,88.0156 1096.18,88.013 1117.13,88.0111 1138.08,88.0097 1159.04,88.0086 1179.99,88.0078 1200.94,88.0072 1221.9,88.0067 1242.85,88.0064 \n",
       "  1263.8,88.0061 1284.76,88.0059 1305.71,88.0058 1326.66,88.0057 1347.62,88.0056 1368.57,88.0055 1389.52,88.0055 1410.48,88.0054 1431.43,88.0054 1452.38,88.0054 \n",
       "  1473.34,88.0054 1494.29,88.0054 1515.25,88.0054 1536.2,88.0054 1557.15,88.0054 1578.11,88.0053 1599.06,88.0053 1620.01,88.0053 1640.97,88.0053 1661.92,88.0053 \n",
       "  1682.87,88.0053 1703.83,88.0053 1724.78,88.0053 1745.73,88.0053 1766.69,88.0053 1787.64,88.0053 1808.59,88.0053 1829.55,88.0053 1850.5,88.0053 1871.45,88.0053 \n",
       "  1892.41,88.0053 1913.36,88.0053 1934.31,88.0053 1955.27,88.0053 1976.22,88.0053 1997.18,88.0053 2018.13,88.0053 2039.08,88.0053 2060.04,88.0053 2080.99,88.0053 \n",
       "  2101.94,88.0053 2122.9,88.0053 2143.85,88.0053 2164.8,88.0053 2185.76,88.0053 2206.71,88.0053 2227.66,88.0053 2248.62,88.0053 2269.57,88.0053 2290.52,88.0053 \n",
       "  \n",
       "  \"/>\n",
       "<path clip-path=\"url(#clip0700)\" d=\"\n",
       "M1989.93 251.724 L2280.76 251.724 L2280.76 130.764 L1989.93 130.764  Z\n",
       "  \" fill=\"#ffffff\" fill-rule=\"evenodd\" fill-opacity=\"1\"/>\n",
       "<polyline clip-path=\"url(#clip0700)\" style=\"stroke:#000000; stroke-width:4; stroke-opacity:1; fill:none\" points=\"\n",
       "  1989.93,251.724 2280.76,251.724 2280.76,130.764 1989.93,130.764 1989.93,251.724 \n",
       "  \"/>\n",
       "<polyline clip-path=\"url(#clip0700)\" style=\"stroke:#009af9; stroke-width:4; stroke-opacity:1; fill:none\" points=\"\n",
       "  2013.93,191.244 2157.93,191.244 \n",
       "  \"/>\n",
       "<g clip-path=\"url(#clip0700)\">\n",
       "<text style=\"fill:#000000; fill-opacity:1; font-family:Arial,Helvetica Neue,Helvetica,sans-serif; font-size:48px; text-anchor:start;\" transform=\"rotate(0, 2181.93, 208.744)\" x=\"2181.93\" y=\"208.744\">y1</text>\n",
       "</g>\n",
       "</svg>\n"
      ]
     },
     "execution_count": 25,
     "metadata": {},
     "output_type": "execute_result"
    }
   ],
   "source": [
    "plot(cumulative_sum(100))"
   ]
  },
  {
   "cell_type": "markdown",
   "metadata": {},
   "source": [
    "### Exercise 4: A simple infection model\n",
    "\n",
    "In this exercise we will investigate a *highly* simplified model of the process of infection and recovery.  (In the next problem set we will develop a much better model.)\n",
    "\n",
    "The model is as follows: An individual starts in state `S` (\"susceptible\"). When they are in state `S`, they have a probability $p_E$ to become exposed (state `E`) at each step. Once they are exposed, they have probability $p_I$ to become infectious (state `I`). When they are infectious, they have a probability $p_R$ to recover at each step.\n",
    "\n",
    "Let's denote by $\\tau_S$ the length of time spent in state `S`, and similarly for $\\tau_E$ and $\\tau_I$.\n",
    "\n",
    "1. How does the total time $\\tau_\\text{total}$ to go from `S` to `R` relate to these times? What is the relation with the geometric random variables from the previous exercises?\n",
    "\n",
    "2. Write a function `total_time(p_E, p_I, p_R)` that calculates the total time to go from state `S` to state `R`.\n",
    "\n",
    "3. Run a Monte Carlo simulation to calculate and plot the probability distribution of $\\tau_\\text{total}$ for $p_E = 0.25$, $p_I = 0.1$ and $p_R = 0.05$.  \n",
    "\n",
    "4. What happens to the probability distribution of the total time as you add more states, say `E_1`, `E_2`? You may suppose that the probability to move to the next state is the same value $p$ for all states. How could you use $s$ such states?\n",
    "\n",
    "    [This is a visual representation of a famous theorem that we will discuss in class.]\n",
    "\n",
    "5. **Extra credit:** Write a simulation that runs $N$ individuals and keeps track at each step of how many people are in which state. Plot the resulting graph of the number of people in the `S`,  `I`, `E` and `R` states as a function of time."
   ]
  },
  {
   "cell_type": "markdown",
   "metadata": {},
   "source": [
    "$\\tau_{\\text{total}}$ to go from `S` to `R` will be equal to the sum of the individual times between each state from `S` to `R`.\n",
    "\n",
    "$\\tau_{\\text{total}} = \\tau_S + \\tau_E + \\tau_I$"
   ]
  },
  {
   "cell_type": "code",
   "execution_count": 46,
   "metadata": {},
   "outputs": [
    {
     "data": {
      "text/plain": [
       "total_time (generic function with 1 method)"
      ]
     },
     "execution_count": 46,
     "metadata": {},
     "output_type": "execute_result"
    }
   ],
   "source": [
    "function total_time(p_E, p_I, p_R)\n",
    "    time = 1\n",
    "    x = rand()\n",
    "    while x > p_E\n",
    "        time += 1\n",
    "        x = rand()\n",
    "    end\n",
    "    time += 1\n",
    "    x = rand()\n",
    "    while x > p_I\n",
    "        time += 1\n",
    "        x = rand()\n",
    "    end\n",
    "    time += 1\n",
    "    x = rand()\n",
    "    while x > p_R\n",
    "        time += 1\n",
    "        x = rand()\n",
    "    end\n",
    "    return time\n",
    "end"
   ]
  },
  {
   "cell_type": "code",
   "execution_count": 49,
   "metadata": {},
   "outputs": [
    {
     "name": "stdout",
     "output_type": "stream",
     "text": [
      "m = 34.034757\n",
      "expected = 34.0\n"
     ]
    },
    {
     "data": {
      "image/svg+xml": [
       "<?xml version=\"1.0\" encoding=\"utf-8\"?>\n",
       "<svg xmlns=\"http://www.w3.org/2000/svg\" xmlns:xlink=\"http://www.w3.org/1999/xlink\" width=\"600\" height=\"400\" viewBox=\"0 0 2400 1600\">\n",
       "<defs>\n",
       "  <clipPath id=\"clip7100\">\n",
       "    <rect x=\"0\" y=\"0\" width=\"2400\" height=\"1600\"/>\n",
       "  </clipPath>\n",
       "</defs>\n",
       "<path clip-path=\"url(#clip7100)\" d=\"\n",
       "M0 1600 L2400 1600 L2400 0 L0 0  Z\n",
       "  \" fill=\"#ffffff\" fill-rule=\"evenodd\" fill-opacity=\"1\"/>\n",
       "<defs>\n",
       "  <clipPath id=\"clip7101\">\n",
       "    <rect x=\"480\" y=\"0\" width=\"1681\" height=\"1600\"/>\n",
       "  </clipPath>\n",
       "</defs>\n",
       "<path clip-path=\"url(#clip7100)\" d=\"\n",
       "M207.423 1487.47 L2352.76 1487.47 L2352.76 47.2441 L207.423 47.2441  Z\n",
       "  \" fill=\"#ffffff\" fill-rule=\"evenodd\" fill-opacity=\"1\"/>\n",
       "<defs>\n",
       "  <clipPath id=\"clip7102\">\n",
       "    <rect x=\"207\" y=\"47\" width=\"2146\" height=\"1441\"/>\n",
       "  </clipPath>\n",
       "</defs>\n",
       "<polyline clip-path=\"url(#clip7102)\" style=\"stroke:#000000; stroke-width:2; stroke-opacity:0.1; fill:none\" points=\"\n",
       "  248.986,1487.47 248.986,47.2441 \n",
       "  \"/>\n",
       "<polyline clip-path=\"url(#clip7102)\" style=\"stroke:#000000; stroke-width:2; stroke-opacity:0.1; fill:none\" points=\"\n",
       "  887.44,1487.47 887.44,47.2441 \n",
       "  \"/>\n",
       "<polyline clip-path=\"url(#clip7102)\" style=\"stroke:#000000; stroke-width:2; stroke-opacity:0.1; fill:none\" points=\"\n",
       "  1525.89,1487.47 1525.89,47.2441 \n",
       "  \"/>\n",
       "<polyline clip-path=\"url(#clip7102)\" style=\"stroke:#000000; stroke-width:2; stroke-opacity:0.1; fill:none\" points=\"\n",
       "  2164.35,1487.47 2164.35,47.2441 \n",
       "  \"/>\n",
       "<polyline clip-path=\"url(#clip7102)\" style=\"stroke:#000000; stroke-width:2; stroke-opacity:0.1; fill:none\" points=\"\n",
       "  207.423,1446.77 2352.76,1446.77 \n",
       "  \"/>\n",
       "<polyline clip-path=\"url(#clip7102)\" style=\"stroke:#000000; stroke-width:2; stroke-opacity:0.1; fill:none\" points=\"\n",
       "  207.423,1173.98 2352.76,1173.98 \n",
       "  \"/>\n",
       "<polyline clip-path=\"url(#clip7102)\" style=\"stroke:#000000; stroke-width:2; stroke-opacity:0.1; fill:none\" points=\"\n",
       "  207.423,901.19 2352.76,901.19 \n",
       "  \"/>\n",
       "<polyline clip-path=\"url(#clip7102)\" style=\"stroke:#000000; stroke-width:2; stroke-opacity:0.1; fill:none\" points=\"\n",
       "  207.423,628.401 2352.76,628.401 \n",
       "  \"/>\n",
       "<polyline clip-path=\"url(#clip7102)\" style=\"stroke:#000000; stroke-width:2; stroke-opacity:0.1; fill:none\" points=\"\n",
       "  207.423,355.611 2352.76,355.611 \n",
       "  \"/>\n",
       "<polyline clip-path=\"url(#clip7102)\" style=\"stroke:#000000; stroke-width:2; stroke-opacity:0.1; fill:none\" points=\"\n",
       "  207.423,82.8223 2352.76,82.8223 \n",
       "  \"/>\n",
       "<polyline clip-path=\"url(#clip7100)\" style=\"stroke:#000000; stroke-width:4; stroke-opacity:1; fill:none\" points=\"\n",
       "  207.423,1487.47 2352.76,1487.47 \n",
       "  \"/>\n",
       "<polyline clip-path=\"url(#clip7100)\" style=\"stroke:#000000; stroke-width:4; stroke-opacity:1; fill:none\" points=\"\n",
       "  207.423,1487.47 207.423,47.2441 \n",
       "  \"/>\n",
       "<polyline clip-path=\"url(#clip7100)\" style=\"stroke:#000000; stroke-width:4; stroke-opacity:1; fill:none\" points=\"\n",
       "  248.986,1487.47 248.986,1470.19 \n",
       "  \"/>\n",
       "<polyline clip-path=\"url(#clip7100)\" style=\"stroke:#000000; stroke-width:4; stroke-opacity:1; fill:none\" points=\"\n",
       "  887.44,1487.47 887.44,1470.19 \n",
       "  \"/>\n",
       "<polyline clip-path=\"url(#clip7100)\" style=\"stroke:#000000; stroke-width:4; stroke-opacity:1; fill:none\" points=\"\n",
       "  1525.89,1487.47 1525.89,1470.19 \n",
       "  \"/>\n",
       "<polyline clip-path=\"url(#clip7100)\" style=\"stroke:#000000; stroke-width:4; stroke-opacity:1; fill:none\" points=\"\n",
       "  2164.35,1487.47 2164.35,1470.19 \n",
       "  \"/>\n",
       "<polyline clip-path=\"url(#clip7100)\" style=\"stroke:#000000; stroke-width:4; stroke-opacity:1; fill:none\" points=\"\n",
       "  207.423,1446.77 233.167,1446.77 \n",
       "  \"/>\n",
       "<polyline clip-path=\"url(#clip7100)\" style=\"stroke:#000000; stroke-width:4; stroke-opacity:1; fill:none\" points=\"\n",
       "  207.423,1173.98 233.167,1173.98 \n",
       "  \"/>\n",
       "<polyline clip-path=\"url(#clip7100)\" style=\"stroke:#000000; stroke-width:4; stroke-opacity:1; fill:none\" points=\"\n",
       "  207.423,901.19 233.167,901.19 \n",
       "  \"/>\n",
       "<polyline clip-path=\"url(#clip7100)\" style=\"stroke:#000000; stroke-width:4; stroke-opacity:1; fill:none\" points=\"\n",
       "  207.423,628.401 233.167,628.401 \n",
       "  \"/>\n",
       "<polyline clip-path=\"url(#clip7100)\" style=\"stroke:#000000; stroke-width:4; stroke-opacity:1; fill:none\" points=\"\n",
       "  207.423,355.611 233.167,355.611 \n",
       "  \"/>\n",
       "<polyline clip-path=\"url(#clip7100)\" style=\"stroke:#000000; stroke-width:4; stroke-opacity:1; fill:none\" points=\"\n",
       "  207.423,82.8223 233.167,82.8223 \n",
       "  \"/>\n",
       "<g clip-path=\"url(#clip7100)\">\n",
       "<text style=\"fill:#000000; fill-opacity:1; font-family:Arial,Helvetica Neue,Helvetica,sans-serif; font-size:48px; text-anchor:middle;\" transform=\"rotate(0, 248.986, 1541.47)\" x=\"248.986\" y=\"1541.47\">0</text>\n",
       "</g>\n",
       "<g clip-path=\"url(#clip7100)\">\n",
       "<text style=\"fill:#000000; fill-opacity:1; font-family:Arial,Helvetica Neue,Helvetica,sans-serif; font-size:48px; text-anchor:middle;\" transform=\"rotate(0, 887.44, 1541.47)\" x=\"887.44\" y=\"1541.47\">100</text>\n",
       "</g>\n",
       "<g clip-path=\"url(#clip7100)\">\n",
       "<text style=\"fill:#000000; fill-opacity:1; font-family:Arial,Helvetica Neue,Helvetica,sans-serif; font-size:48px; text-anchor:middle;\" transform=\"rotate(0, 1525.89, 1541.47)\" x=\"1525.89\" y=\"1541.47\">200</text>\n",
       "</g>\n",
       "<g clip-path=\"url(#clip7100)\">\n",
       "<text style=\"fill:#000000; fill-opacity:1; font-family:Arial,Helvetica Neue,Helvetica,sans-serif; font-size:48px; text-anchor:middle;\" transform=\"rotate(0, 2164.35, 1541.47)\" x=\"2164.35\" y=\"1541.47\">300</text>\n",
       "</g>\n",
       "<g clip-path=\"url(#clip7100)\">\n",
       "<text style=\"fill:#000000; fill-opacity:1; font-family:Arial,Helvetica Neue,Helvetica,sans-serif; font-size:48px; text-anchor:end;\" transform=\"rotate(0, 183.423, 1464.27)\" x=\"183.423\" y=\"1464.27\">0.000</text>\n",
       "</g>\n",
       "<g clip-path=\"url(#clip7100)\">\n",
       "<text style=\"fill:#000000; fill-opacity:1; font-family:Arial,Helvetica Neue,Helvetica,sans-serif; font-size:48px; text-anchor:end;\" transform=\"rotate(0, 183.423, 1191.48)\" x=\"183.423\" y=\"1191.48\">0.005</text>\n",
       "</g>\n",
       "<g clip-path=\"url(#clip7100)\">\n",
       "<text style=\"fill:#000000; fill-opacity:1; font-family:Arial,Helvetica Neue,Helvetica,sans-serif; font-size:48px; text-anchor:end;\" transform=\"rotate(0, 183.423, 918.69)\" x=\"183.423\" y=\"918.69\">0.010</text>\n",
       "</g>\n",
       "<g clip-path=\"url(#clip7100)\">\n",
       "<text style=\"fill:#000000; fill-opacity:1; font-family:Arial,Helvetica Neue,Helvetica,sans-serif; font-size:48px; text-anchor:end;\" transform=\"rotate(0, 183.423, 645.901)\" x=\"183.423\" y=\"645.901\">0.015</text>\n",
       "</g>\n",
       "<g clip-path=\"url(#clip7100)\">\n",
       "<text style=\"fill:#000000; fill-opacity:1; font-family:Arial,Helvetica Neue,Helvetica,sans-serif; font-size:48px; text-anchor:end;\" transform=\"rotate(0, 183.423, 373.111)\" x=\"183.423\" y=\"373.111\">0.020</text>\n",
       "</g>\n",
       "<g clip-path=\"url(#clip7100)\">\n",
       "<text style=\"fill:#000000; fill-opacity:1; font-family:Arial,Helvetica Neue,Helvetica,sans-serif; font-size:48px; text-anchor:end;\" transform=\"rotate(0, 183.423, 100.322)\" x=\"183.423\" y=\"100.322\">0.025</text>\n",
       "</g>\n",
       "<polyline clip-path=\"url(#clip7102)\" style=\"stroke:#009af9; stroke-width:4; stroke-opacity:1; fill:none\" points=\"\n",
       "  268.14,1377.81 274.524,1271.04 280.909,1145.12 287.293,1003.54 293.678,860.108 300.062,735.716 306.447,609.196 312.831,512.083 319.216,406.405 325.6,315.566 \n",
       "  331.985,260.735 338.37,200.722 344.754,155.057 351.139,134.325 357.523,102.681 363.908,88.0053 370.292,89.6421 376.677,92.3154 383.061,106.828 389.446,114.63 \n",
       "  395.83,131.542 402.215,158.767 408.6,184.9 414.984,208.414 421.369,237.821 427.753,276.557 434.138,303.727 440.522,334.989 446.907,360.303 453.291,409.024 \n",
       "  459.676,436.521 466.06,459.544 472.445,508.701 478.829,532.761 485.214,571.169 491.599,616.452 497.983,641.276 504.368,676.63 510.752,712.365 517.137,728.514 \n",
       "  523.521,769.978 529.906,801.076 536.29,817.389 542.675,852.633 549.059,874.184 555.444,897.371 561.828,927.978 568.213,954.929 574.598,972.497 580.982,987.882 \n",
       "  587.367,1008.61 593.751,1034.42 600.136,1047.02 606.52,1064.1 612.905,1081.39 619.289,1098.85 625.674,1112.71 632.058,1133.55 638.443,1147.52 644.828,1165.47 \n",
       "  651.212,1169.34 657.597,1189.86 663.981,1189.91 670.366,1210.1 676.75,1223.46 683.135,1237.87 689.519,1252.54 695.904,1253.58 702.288,1265.42 708.673,1270.93 \n",
       "  715.057,1282.99 721.442,1287.13 727.827,1295.92 734.211,1300.44 740.596,1311.79 746.98,1318.5 753.365,1318.88 759.749,1333.23 766.134,1332.36 772.518,1341.85 \n",
       "  778.903,1346 785.287,1349.05 791.672,1352.82 798.056,1364.49 804.441,1362.69 810.826,1370.55 817.21,1372.41 823.595,1373.11 829.979,1380.48 836.364,1384.57 \n",
       "  842.748,1385.39 849.133,1386.59 855.517,1393.9 861.902,1393.63 868.286,1399.63 874.671,1400.18 881.056,1402.36 887.44,1404.54 893.825,1404.05 900.209,1408.9 \n",
       "  906.594,1412.12 912.978,1410.11 919.363,1412.89 925.747,1416.49 932.132,1417.09 938.516,1416.71 944.901,1421.94 951.285,1421.89 957.67,1421.45 964.055,1425.33 \n",
       "  970.439,1424.67 976.824,1426.47 983.208,1427.89 989.593,1428.22 995.977,1430.89 1002.36,1429.47 1008.75,1431.06 1015.13,1431.27 1021.52,1431.82 1027.9,1432.42 \n",
       "  1034.28,1433.57 1040.67,1433.95 1047.05,1435.97 1053.44,1436.13 1059.82,1436.4 1066.21,1437.66 1072.59,1436.13 1078.98,1438.31 1085.36,1436.73 1091.75,1438.37 \n",
       "  1098.13,1439.02 1104.51,1440.93 1110.9,1439.73 1117.28,1440.22 1123.67,1441.31 1130.05,1440.93 1136.44,1441.91 1142.82,1441.53 1149.21,1442.24 1155.59,1441.64 \n",
       "  1161.98,1441.86 1168.36,1442.79 1174.74,1442.62 1181.13,1441.97 1187.51,1442.24 1193.9,1442.84 1200.28,1443 1206.67,1443.17 1213.05,1443.06 1219.44,1444.26 \n",
       "  1225.82,1443.6 1232.21,1443.55 1238.59,1443.49 1244.97,1443.88 1251.36,1444.64 1257.74,1445.02 1264.13,1445.73 1270.51,1444.31 1276.9,1445.29 1283.28,1445.02 \n",
       "  1289.67,1445.02 1296.05,1445.13 1302.44,1445.29 1308.82,1445.24 1315.2,1445.68 1321.59,1445.51 1327.97,1445.19 1334.36,1445.35 1340.74,1445.9 1347.13,1446 \n",
       "  1353.51,1446 1359.9,1445.29 1366.28,1445.95 1372.67,1445.95 1379.05,1445.51 1385.43,1446.28 1391.82,1445.84 1398.2,1445.79 1404.59,1446.06 1410.97,1446.28 \n",
       "  1417.36,1446.44 1423.74,1446.28 1430.13,1446.33 1436.51,1446 1442.9,1446.28 1449.28,1446.33 1455.66,1446.33 1462.05,1446.44 1468.43,1446.6 1474.82,1446.33 \n",
       "  1481.2,1446.5 1487.59,1446.5 1493.97,1446.6 1500.36,1446.5 1506.74,1446.39 1513.13,1446.71 1519.51,1446.6 1525.89,1446.55 1532.28,1446.39 1538.66,1446.6 \n",
       "  1545.05,1446.5 1551.43,1446.55 1557.82,1446.6 1564.2,1446.6 1576.97,1446.6 1583.35,1446.66 1589.74,1446.55 1602.51,1446.66 1608.89,1446.5 1615.28,1446.71 \n",
       "  1621.66,1446.71 1628.05,1446.71 1634.43,1446.6 1647.2,1446.6 1653.58,1446.5 1659.97,1446.66 1666.35,1446.71 1672.74,1446.66 1679.12,1446.6 1685.51,1446.55 \n",
       "  1691.89,1446.71 1698.28,1446.66 1717.43,1446.71 1723.81,1446.71 1736.58,1446.71 1762.12,1446.71 1774.89,1446.66 1787.66,1446.66 1813.2,1446.71 1825.97,1446.71 \n",
       "  2196.27,1446.71 2292.04,1446.71 \n",
       "  \"/>\n",
       "<path clip-path=\"url(#clip7100)\" d=\"\n",
       "M1989.93 251.724 L2280.76 251.724 L2280.76 130.764 L1989.93 130.764  Z\n",
       "  \" fill=\"#ffffff\" fill-rule=\"evenodd\" fill-opacity=\"1\"/>\n",
       "<polyline clip-path=\"url(#clip7100)\" style=\"stroke:#000000; stroke-width:4; stroke-opacity:1; fill:none\" points=\"\n",
       "  1989.93,251.724 2280.76,251.724 2280.76,130.764 1989.93,130.764 1989.93,251.724 \n",
       "  \"/>\n",
       "<polyline clip-path=\"url(#clip7100)\" style=\"stroke:#009af9; stroke-width:4; stroke-opacity:1; fill:none\" points=\"\n",
       "  2013.93,191.244 2157.93,191.244 \n",
       "  \"/>\n",
       "<g clip-path=\"url(#clip7100)\">\n",
       "<text style=\"fill:#000000; fill-opacity:1; font-family:Arial,Helvetica Neue,Helvetica,sans-serif; font-size:48px; text-anchor:start;\" transform=\"rotate(0, 2181.93, 208.744)\" x=\"2181.93\" y=\"208.744\">y1</text>\n",
       "</g>\n",
       "</svg>\n"
      ]
     },
     "execution_count": 49,
     "metadata": {},
     "output_type": "execute_result"
    }
   ],
   "source": [
    "N = 1000000\n",
    "times = zeros(N)\n",
    "for i in 1:N\n",
    "    time = total_time(0.25, 0.1, 0.05)\n",
    "    times[i] = time\n",
    "end\n",
    "m = sum(times)/length(times)\n",
    "@show m\n",
    "expected = 1/0.25 + 1/0.1 + 1/0.05\n",
    "@show expected\n",
    "plot(probability_distribution(times))"
   ]
  },
  {
   "cell_type": "code",
   "execution_count": 80,
   "metadata": {},
   "outputs": [
    {
     "data": {
      "text/plain": [
       "simulation (generic function with 1 method)"
      ]
     },
     "execution_count": 80,
     "metadata": {},
     "output_type": "execute_result"
    }
   ],
   "source": [
    "function get_num(n, p)\n",
    "    num = 0\n",
    "    for i in 1:n\n",
    "        x = rand()\n",
    "        if x < p\n",
    "            num += 1\n",
    "        end\n",
    "    end\n",
    "    return n - num\n",
    "end\n",
    "\n",
    "function simulation(S, E, I, R, p_E, p_I, p_R)\n",
    "    new_S = get_num(S, p_E)\n",
    "    new_E = get_num(E, p_I)\n",
    "    new_I = get_num(I, p_R)\n",
    "    \n",
    "    return new_S, S - new_S + new_E, E - new_E + new_I, I - new_I + R\n",
    "end"
   ]
  },
  {
   "cell_type": "code",
   "execution_count": 94,
   "metadata": {},
   "outputs": [],
   "source": [
    "N = 10000\n",
    "num_time_steps = 200\n",
    "\n",
    "p_E = 0.25\n",
    "p_I = 0.1\n",
    "p_R = 0.01\n",
    "\n",
    "S_vals = zeros(num_time_steps)\n",
    "E_vals = zeros(num_time_steps)\n",
    "I_vals = zeros(num_time_steps)\n",
    "R_vals = zeros(num_time_steps)\n",
    "\n",
    "S_vals[1] = N\n",
    "\n",
    "for t in 2:num_time_steps\n",
    "    S = S_vals[t-1]\n",
    "    E = E_vals[t-1]\n",
    "    I = I_vals[t-1]\n",
    "    R = R_vals[t-1]\n",
    "    new_S, new_E, new_I, new_R = simulation(S, E, I, R, p_E, p_I, p_R)\n",
    "    S_vals[t] = new_S\n",
    "    E_vals[t] = new_E\n",
    "    I_vals[t] = new_I\n",
    "    R_vals[t] = new_R\n",
    "end"
   ]
  },
  {
   "cell_type": "code",
   "execution_count": 104,
   "metadata": {},
   "outputs": [
    {
     "data": {
      "image/svg+xml": [
       "<?xml version=\"1.0\" encoding=\"utf-8\"?>\n",
       "<svg xmlns=\"http://www.w3.org/2000/svg\" xmlns:xlink=\"http://www.w3.org/1999/xlink\" width=\"600\" height=\"400\" viewBox=\"0 0 2400 1600\">\n",
       "<defs>\n",
       "  <clipPath id=\"clip7900\">\n",
       "    <rect x=\"0\" y=\"0\" width=\"2400\" height=\"1600\"/>\n",
       "  </clipPath>\n",
       "</defs>\n",
       "<path clip-path=\"url(#clip7900)\" d=\"\n",
       "M0 1600 L2400 1600 L2400 0 L0 0  Z\n",
       "  \" fill=\"#ffffff\" fill-rule=\"evenodd\" fill-opacity=\"1\"/>\n",
       "<defs>\n",
       "  <clipPath id=\"clip7901\">\n",
       "    <rect x=\"480\" y=\"0\" width=\"1681\" height=\"1600\"/>\n",
       "  </clipPath>\n",
       "</defs>\n",
       "<path clip-path=\"url(#clip7900)\" d=\"\n",
       "M242.516 1425.62 L2352.76 1425.62 L2352.76 121.675 L242.516 121.675  Z\n",
       "  \" fill=\"#ffffff\" fill-rule=\"evenodd\" fill-opacity=\"1\"/>\n",
       "<defs>\n",
       "  <clipPath id=\"clip7902\">\n",
       "    <rect x=\"242\" y=\"121\" width=\"2111\" height=\"1305\"/>\n",
       "  </clipPath>\n",
       "</defs>\n",
       "<polyline clip-path=\"url(#clip7902)\" style=\"stroke:#000000; stroke-width:2; stroke-opacity:0.1; fill:none\" points=\"\n",
       "  292.236,1425.62 292.236,121.675 \n",
       "  \"/>\n",
       "<polyline clip-path=\"url(#clip7902)\" style=\"stroke:#000000; stroke-width:2; stroke-opacity:0.1; fill:none\" points=\"\n",
       "  792.435,1425.62 792.435,121.675 \n",
       "  \"/>\n",
       "<polyline clip-path=\"url(#clip7902)\" style=\"stroke:#000000; stroke-width:2; stroke-opacity:0.1; fill:none\" points=\"\n",
       "  1292.63,1425.62 1292.63,121.675 \n",
       "  \"/>\n",
       "<polyline clip-path=\"url(#clip7902)\" style=\"stroke:#000000; stroke-width:2; stroke-opacity:0.1; fill:none\" points=\"\n",
       "  1792.83,1425.62 1792.83,121.675 \n",
       "  \"/>\n",
       "<polyline clip-path=\"url(#clip7902)\" style=\"stroke:#000000; stroke-width:2; stroke-opacity:0.1; fill:none\" points=\"\n",
       "  2293.03,1425.62 2293.03,121.675 \n",
       "  \"/>\n",
       "<polyline clip-path=\"url(#clip7902)\" style=\"stroke:#000000; stroke-width:2; stroke-opacity:0.1; fill:none\" points=\"\n",
       "  242.516,1388.71 2352.76,1388.71 \n",
       "  \"/>\n",
       "<polyline clip-path=\"url(#clip7902)\" style=\"stroke:#000000; stroke-width:2; stroke-opacity:0.1; fill:none\" points=\"\n",
       "  242.516,1081.18 2352.76,1081.18 \n",
       "  \"/>\n",
       "<polyline clip-path=\"url(#clip7902)\" style=\"stroke:#000000; stroke-width:2; stroke-opacity:0.1; fill:none\" points=\"\n",
       "  242.516,773.647 2352.76,773.647 \n",
       "  \"/>\n",
       "<polyline clip-path=\"url(#clip7902)\" style=\"stroke:#000000; stroke-width:2; stroke-opacity:0.1; fill:none\" points=\"\n",
       "  242.516,466.113 2352.76,466.113 \n",
       "  \"/>\n",
       "<polyline clip-path=\"url(#clip7902)\" style=\"stroke:#000000; stroke-width:2; stroke-opacity:0.1; fill:none\" points=\"\n",
       "  242.516,158.579 2352.76,158.579 \n",
       "  \"/>\n",
       "<polyline clip-path=\"url(#clip7900)\" style=\"stroke:#000000; stroke-width:4; stroke-opacity:1; fill:none\" points=\"\n",
       "  242.516,1425.62 2352.76,1425.62 \n",
       "  \"/>\n",
       "<polyline clip-path=\"url(#clip7900)\" style=\"stroke:#000000; stroke-width:4; stroke-opacity:1; fill:none\" points=\"\n",
       "  242.516,1425.62 242.516,121.675 \n",
       "  \"/>\n",
       "<polyline clip-path=\"url(#clip7900)\" style=\"stroke:#000000; stroke-width:4; stroke-opacity:1; fill:none\" points=\"\n",
       "  292.236,1425.62 292.236,1409.97 \n",
       "  \"/>\n",
       "<polyline clip-path=\"url(#clip7900)\" style=\"stroke:#000000; stroke-width:4; stroke-opacity:1; fill:none\" points=\"\n",
       "  792.435,1425.62 792.435,1409.97 \n",
       "  \"/>\n",
       "<polyline clip-path=\"url(#clip7900)\" style=\"stroke:#000000; stroke-width:4; stroke-opacity:1; fill:none\" points=\"\n",
       "  1292.63,1425.62 1292.63,1409.97 \n",
       "  \"/>\n",
       "<polyline clip-path=\"url(#clip7900)\" style=\"stroke:#000000; stroke-width:4; stroke-opacity:1; fill:none\" points=\"\n",
       "  1792.83,1425.62 1792.83,1409.97 \n",
       "  \"/>\n",
       "<polyline clip-path=\"url(#clip7900)\" style=\"stroke:#000000; stroke-width:4; stroke-opacity:1; fill:none\" points=\"\n",
       "  2293.03,1425.62 2293.03,1409.97 \n",
       "  \"/>\n",
       "<polyline clip-path=\"url(#clip7900)\" style=\"stroke:#000000; stroke-width:4; stroke-opacity:1; fill:none\" points=\"\n",
       "  242.516,1388.71 267.839,1388.71 \n",
       "  \"/>\n",
       "<polyline clip-path=\"url(#clip7900)\" style=\"stroke:#000000; stroke-width:4; stroke-opacity:1; fill:none\" points=\"\n",
       "  242.516,1081.18 267.839,1081.18 \n",
       "  \"/>\n",
       "<polyline clip-path=\"url(#clip7900)\" style=\"stroke:#000000; stroke-width:4; stroke-opacity:1; fill:none\" points=\"\n",
       "  242.516,773.647 267.839,773.647 \n",
       "  \"/>\n",
       "<polyline clip-path=\"url(#clip7900)\" style=\"stroke:#000000; stroke-width:4; stroke-opacity:1; fill:none\" points=\"\n",
       "  242.516,466.113 267.839,466.113 \n",
       "  \"/>\n",
       "<polyline clip-path=\"url(#clip7900)\" style=\"stroke:#000000; stroke-width:4; stroke-opacity:1; fill:none\" points=\"\n",
       "  242.516,158.579 267.839,158.579 \n",
       "  \"/>\n",
       "<g clip-path=\"url(#clip7900)\">\n",
       "<text style=\"fill:#000000; fill-opacity:1; font-family:Arial,Helvetica Neue,Helvetica,sans-serif; font-size:48px; text-anchor:middle;\" transform=\"rotate(0, 292.236, 1479.62)\" x=\"292.236\" y=\"1479.62\">0</text>\n",
       "</g>\n",
       "<g clip-path=\"url(#clip7900)\">\n",
       "<text style=\"fill:#000000; fill-opacity:1; font-family:Arial,Helvetica Neue,Helvetica,sans-serif; font-size:48px; text-anchor:middle;\" transform=\"rotate(0, 792.435, 1479.62)\" x=\"792.435\" y=\"1479.62\">50</text>\n",
       "</g>\n",
       "<g clip-path=\"url(#clip7900)\">\n",
       "<text style=\"fill:#000000; fill-opacity:1; font-family:Arial,Helvetica Neue,Helvetica,sans-serif; font-size:48px; text-anchor:middle;\" transform=\"rotate(0, 1292.63, 1479.62)\" x=\"1292.63\" y=\"1479.62\">100</text>\n",
       "</g>\n",
       "<g clip-path=\"url(#clip7900)\">\n",
       "<text style=\"fill:#000000; fill-opacity:1; font-family:Arial,Helvetica Neue,Helvetica,sans-serif; font-size:48px; text-anchor:middle;\" transform=\"rotate(0, 1792.83, 1479.62)\" x=\"1792.83\" y=\"1479.62\">150</text>\n",
       "</g>\n",
       "<g clip-path=\"url(#clip7900)\">\n",
       "<text style=\"fill:#000000; fill-opacity:1; font-family:Arial,Helvetica Neue,Helvetica,sans-serif; font-size:48px; text-anchor:middle;\" transform=\"rotate(0, 2293.03, 1479.62)\" x=\"2293.03\" y=\"1479.62\">200</text>\n",
       "</g>\n",
       "<g clip-path=\"url(#clip7900)\">\n",
       "<text style=\"fill:#000000; fill-opacity:1; font-family:Arial,Helvetica Neue,Helvetica,sans-serif; font-size:48px; text-anchor:end;\" transform=\"rotate(0, 218.516, 1406.21)\" x=\"218.516\" y=\"1406.21\">0.00</text>\n",
       "</g>\n",
       "<g clip-path=\"url(#clip7900)\">\n",
       "<text style=\"fill:#000000; fill-opacity:1; font-family:Arial,Helvetica Neue,Helvetica,sans-serif; font-size:48px; text-anchor:end;\" transform=\"rotate(0, 218.516, 1098.68)\" x=\"218.516\" y=\"1098.68\">0.25</text>\n",
       "</g>\n",
       "<g clip-path=\"url(#clip7900)\">\n",
       "<text style=\"fill:#000000; fill-opacity:1; font-family:Arial,Helvetica Neue,Helvetica,sans-serif; font-size:48px; text-anchor:end;\" transform=\"rotate(0, 218.516, 791.147)\" x=\"218.516\" y=\"791.147\">0.50</text>\n",
       "</g>\n",
       "<g clip-path=\"url(#clip7900)\">\n",
       "<text style=\"fill:#000000; fill-opacity:1; font-family:Arial,Helvetica Neue,Helvetica,sans-serif; font-size:48px; text-anchor:end;\" transform=\"rotate(0, 218.516, 483.613)\" x=\"218.516\" y=\"483.613\">0.75</text>\n",
       "</g>\n",
       "<g clip-path=\"url(#clip7900)\">\n",
       "<text style=\"fill:#000000; fill-opacity:1; font-family:Arial,Helvetica Neue,Helvetica,sans-serif; font-size:48px; text-anchor:end;\" transform=\"rotate(0, 218.516, 176.079)\" x=\"218.516\" y=\"176.079\">1.00</text>\n",
       "</g>\n",
       "<g clip-path=\"url(#clip7900)\">\n",
       "<text style=\"fill:#000000; fill-opacity:1; font-family:Arial,Helvetica Neue,Helvetica,sans-serif; font-size:84px; text-anchor:middle;\" transform=\"rotate(0, 1297.64, 73.2)\" x=\"1297.64\" y=\"73.2\">fraction of population S/E/I/R over time</text>\n",
       "</g>\n",
       "<g clip-path=\"url(#clip7900)\">\n",
       "<text style=\"fill:#000000; fill-opacity:1; font-family:Arial,Helvetica Neue,Helvetica,sans-serif; font-size:66px; text-anchor:middle;\" transform=\"rotate(0, 1297.64, 1559.48)\" x=\"1297.64\" y=\"1559.48\">time steps</text>\n",
       "</g>\n",
       "<g clip-path=\"url(#clip7900)\">\n",
       "<text style=\"fill:#000000; fill-opacity:1; font-family:Arial,Helvetica Neue,Helvetica,sans-serif; font-size:66px; text-anchor:middle;\" transform=\"rotate(-90, 89.2861, 773.647)\" x=\"89.2861\" y=\"773.647\">fraction of population</text>\n",
       "</g>\n",
       "<polyline clip-path=\"url(#clip7902)\" style=\"stroke:#009af9; stroke-width:4; stroke-opacity:1; fill:none\" points=\"\n",
       "  302.24,158.579 312.244,469.68 322.248,693.319 332.252,867.506 342.256,999.5 352.26,1098.4 362.264,1170.49 372.268,1223.51 382.272,1270.62 392.276,1298.3 \n",
       "  402.28,1318.97 412.284,1335.2 422.288,1348.74 432.292,1359.56 442.296,1368.17 452.3,1372.6 462.304,1374.94 472.308,1378.26 482.312,1380.6 492.316,1383.3 \n",
       "  502.32,1384.53 512.324,1385.89 522.328,1387.12 532.332,1387.36 542.336,1387.73 552.34,1388.1 562.344,1388.22 572.348,1388.22 582.352,1388.22 592.356,1388.35 \n",
       "  602.36,1388.59 612.364,1388.59 622.368,1388.59 632.372,1388.59 642.375,1388.59 652.379,1388.59 662.383,1388.59 672.387,1388.59 682.391,1388.59 692.395,1388.59 \n",
       "  702.399,1388.59 712.403,1388.71 722.407,1388.71 732.411,1388.71 742.415,1388.71 752.419,1388.71 762.423,1388.71 772.427,1388.71 782.431,1388.71 792.435,1388.71 \n",
       "  802.439,1388.71 812.443,1388.71 822.447,1388.71 832.451,1388.71 842.455,1388.71 852.459,1388.71 862.463,1388.71 872.467,1388.71 882.471,1388.71 892.475,1388.71 \n",
       "  902.479,1388.71 912.483,1388.71 922.487,1388.71 932.491,1388.71 942.495,1388.71 952.499,1388.71 962.503,1388.71 972.507,1388.71 982.511,1388.71 992.515,1388.71 \n",
       "  1002.52,1388.71 1012.52,1388.71 1022.53,1388.71 1032.53,1388.71 1042.53,1388.71 1052.54,1388.71 1062.54,1388.71 1072.55,1388.71 1082.55,1388.71 1092.55,1388.71 \n",
       "  1102.56,1388.71 1112.56,1388.71 1122.57,1388.71 1132.57,1388.71 1142.57,1388.71 1152.58,1388.71 1162.58,1388.71 1172.59,1388.71 1182.59,1388.71 1192.59,1388.71 \n",
       "  1202.6,1388.71 1212.6,1388.71 1222.61,1388.71 1232.61,1388.71 1242.61,1388.71 1252.62,1388.71 1262.62,1388.71 1272.63,1388.71 1282.63,1388.71 1292.63,1388.71 \n",
       "  1302.64,1388.71 1312.64,1388.71 1322.65,1388.71 1332.65,1388.71 1342.65,1388.71 1352.66,1388.71 1362.66,1388.71 1372.67,1388.71 1382.67,1388.71 1392.67,1388.71 \n",
       "  1402.68,1388.71 1412.68,1388.71 1422.69,1388.71 1432.69,1388.71 1442.69,1388.71 1452.7,1388.71 1462.7,1388.71 1472.71,1388.71 1482.71,1388.71 1492.71,1388.71 \n",
       "  1502.72,1388.71 1512.72,1388.71 1522.73,1388.71 1532.73,1388.71 1542.73,1388.71 1552.74,1388.71 1562.74,1388.71 1572.75,1388.71 1582.75,1388.71 1592.75,1388.71 \n",
       "  1602.76,1388.71 1612.76,1388.71 1622.77,1388.71 1632.77,1388.71 1642.77,1388.71 1652.78,1388.71 1662.78,1388.71 1672.79,1388.71 1682.79,1388.71 1692.79,1388.71 \n",
       "  1702.8,1388.71 1712.8,1388.71 1722.81,1388.71 1732.81,1388.71 1742.81,1388.71 1752.82,1388.71 1762.82,1388.71 1772.83,1388.71 1782.83,1388.71 1792.83,1388.71 \n",
       "  1802.84,1388.71 1812.84,1388.71 1822.85,1388.71 1832.85,1388.71 1842.85,1388.71 1852.86,1388.71 1862.86,1388.71 1872.86,1388.71 1882.87,1388.71 1892.87,1388.71 \n",
       "  1902.88,1388.71 1912.88,1388.71 1922.88,1388.71 1932.89,1388.71 1942.89,1388.71 1952.9,1388.71 1962.9,1388.71 1972.9,1388.71 1982.91,1388.71 1992.91,1388.71 \n",
       "  2002.92,1388.71 2012.92,1388.71 2022.92,1388.71 2032.93,1388.71 2042.93,1388.71 2052.94,1388.71 2062.94,1388.71 2072.94,1388.71 2082.95,1388.71 2092.95,1388.71 \n",
       "  2102.96,1388.71 2112.96,1388.71 2122.96,1388.71 2132.97,1388.71 2142.97,1388.71 2152.98,1388.71 2162.98,1388.71 2172.98,1388.71 2182.99,1388.71 2192.99,1388.71 \n",
       "  2203,1388.71 2213,1388.71 2223,1388.71 2233.01,1388.71 2243.01,1388.71 2253.02,1388.71 2263.02,1388.71 2273.02,1388.71 2283.03,1388.71 2293.03,1388.71 \n",
       "  \n",
       "  \"/>\n",
       "<polyline clip-path=\"url(#clip7902)\" style=\"stroke:#e26f46; stroke-width:4; stroke-opacity:1; fill:none\" points=\"\n",
       "  302.24,1388.71 312.244,1077.61 322.248,881.53 332.252,756.794 342.256,686.061 352.26,655.431 362.264,654.939 372.268,676.343 382.272,701.684 392.276,740.433 \n",
       "  402.28,780.29 412.284,828.019 422.288,869.597 432.292,913.267 442.296,952.632 452.3,991.996 462.304,1033.7 472.308,1064.94 482.312,1093.24 492.316,1119.31 \n",
       "  502.32,1148.47 512.324,1172.33 522.328,1191.65 532.332,1209.48 542.336,1227.32 552.34,1241.84 562.344,1257.21 572.348,1269.51 582.352,1282.43 592.356,1294.61 \n",
       "  602.36,1303.59 612.364,1311.71 622.368,1320.81 632.372,1326.59 642.375,1332.01 652.379,1337.79 662.383,1343.69 672.387,1348.24 682.391,1353.78 692.395,1356.98 \n",
       "  702.399,1360.05 712.403,1362.64 722.407,1365.1 732.411,1366.82 742.415,1369.28 752.419,1372.35 762.423,1373.58 772.427,1373.95 782.431,1375.18 792.435,1376.66 \n",
       "  802.439,1378.01 812.443,1379 822.447,1379.37 832.451,1379.98 842.455,1380.84 852.459,1381.95 862.463,1382.19 872.467,1382.56 882.471,1382.93 892.475,1383.3 \n",
       "  902.479,1383.67 912.483,1384.41 922.487,1384.53 932.491,1384.66 942.495,1385.15 952.499,1385.39 962.503,1385.76 972.507,1386.01 982.511,1386.01 992.515,1386.5 \n",
       "  1002.52,1386.99 1012.52,1387.36 1022.53,1387.61 1032.53,1387.85 1042.53,1387.98 1052.54,1388.1 1062.54,1388.1 1072.55,1388.1 1082.55,1388.22 1092.55,1388.22 \n",
       "  1102.56,1388.22 1112.56,1388.35 1122.57,1388.35 1132.57,1388.47 1142.57,1388.47 1152.58,1388.47 1162.58,1388.47 1172.59,1388.47 1182.59,1388.47 1192.59,1388.47 \n",
       "  1202.6,1388.47 1212.6,1388.47 1222.61,1388.47 1232.61,1388.47 1242.61,1388.47 1252.62,1388.47 1262.62,1388.47 1272.63,1388.47 1282.63,1388.47 1292.63,1388.47 \n",
       "  1302.64,1388.47 1312.64,1388.47 1322.65,1388.47 1332.65,1388.47 1342.65,1388.47 1352.66,1388.47 1362.66,1388.47 1372.67,1388.47 1382.67,1388.59 1392.67,1388.59 \n",
       "  1402.68,1388.59 1412.68,1388.59 1422.69,1388.59 1432.69,1388.71 1442.69,1388.71 1452.7,1388.71 1462.7,1388.71 1472.71,1388.71 1482.71,1388.71 1492.71,1388.71 \n",
       "  1502.72,1388.71 1512.72,1388.71 1522.73,1388.71 1532.73,1388.71 1542.73,1388.71 1552.74,1388.71 1562.74,1388.71 1572.75,1388.71 1582.75,1388.71 1592.75,1388.71 \n",
       "  1602.76,1388.71 1612.76,1388.71 1622.77,1388.71 1632.77,1388.71 1642.77,1388.71 1652.78,1388.71 1662.78,1388.71 1672.79,1388.71 1682.79,1388.71 1692.79,1388.71 \n",
       "  1702.8,1388.71 1712.8,1388.71 1722.81,1388.71 1732.81,1388.71 1742.81,1388.71 1752.82,1388.71 1762.82,1388.71 1772.83,1388.71 1782.83,1388.71 1792.83,1388.71 \n",
       "  1802.84,1388.71 1812.84,1388.71 1822.85,1388.71 1832.85,1388.71 1842.85,1388.71 1852.86,1388.71 1862.86,1388.71 1872.86,1388.71 1882.87,1388.71 1892.87,1388.71 \n",
       "  1902.88,1388.71 1912.88,1388.71 1922.88,1388.71 1932.89,1388.71 1942.89,1388.71 1952.9,1388.71 1962.9,1388.71 1972.9,1388.71 1982.91,1388.71 1992.91,1388.71 \n",
       "  2002.92,1388.71 2012.92,1388.71 2022.92,1388.71 2032.93,1388.71 2042.93,1388.71 2052.94,1388.71 2062.94,1388.71 2072.94,1388.71 2082.95,1388.71 2092.95,1388.71 \n",
       "  2102.96,1388.71 2112.96,1388.71 2122.96,1388.71 2132.97,1388.71 2142.97,1388.71 2152.98,1388.71 2162.98,1388.71 2172.98,1388.71 2182.99,1388.71 2192.99,1388.71 \n",
       "  2203,1388.71 2213,1388.71 2223,1388.71 2233.01,1388.71 2243.01,1388.71 2253.02,1388.71 2263.02,1388.71 2273.02,1388.71 2283.03,1388.71 2293.03,1388.71 \n",
       "  \n",
       "  \"/>\n",
       "<polyline clip-path=\"url(#clip7902)\" style=\"stroke:#3da44d; stroke-width:4; stroke-opacity:1; fill:none\" points=\"\n",
       "  302.24,1388.71 312.244,1388.71 322.248,1361.16 332.252,1311.83 342.256,1251.55 352.26,1184.27 362.264,1115.62 372.268,1044.28 382.272,975.266 392.276,913.144 \n",
       "  402.28,857.05 412.284,797.881 422.288,748.675 432.292,701.192 442.296,662.197 452.3,627.015 462.304,590.48 472.308,564.032 482.312,541.766 492.316,522.33 \n",
       "  502.32,500.434 512.324,484.073 522.328,471.526 532.332,462.546 542.336,454.673 552.34,448.522 562.344,441.756 572.348,437.082 582.352,433.268 592.356,430.562 \n",
       "  602.36,432.653 612.364,434.745 622.368,434.007 632.372,438.312 642.375,443.356 652.379,447.538 662.383,451.228 672.387,455.657 682.391,458.609 692.395,465.006 \n",
       "  702.399,470.295 712.403,478.291 722.407,486.164 732.411,494.16 742.415,500.926 752.419,505.477 762.423,513.473 772.427,521.469 782.431,528.973 792.435,538.445 \n",
       "  802.439,546.441 812.443,554.56 822.447,561.079 832.451,569.936 842.455,576.579 852.459,582.238 862.463,588.881 872.467,595.277 882.471,603.396 892.475,610.285 \n",
       "  902.479,617.051 912.483,624.062 922.487,631.935 932.491,639.316 942.495,646.205 952.499,652.602 962.503,659.613 972.507,666.748 982.511,673.268 992.515,680.649 \n",
       "  1002.52,686.43 1012.52,694.672 1022.53,701.315 1032.53,708.204 1042.53,714.6 1052.54,721.243 1062.54,728.255 1072.55,732.437 1082.55,738.711 1092.55,744.37 \n",
       "  1102.56,750.889 1112.56,757.04 1122.57,763.56 1132.57,770.572 1142.57,776.722 1152.58,782.504 1162.58,790.131 1172.59,797.265 1182.59,804.523 1192.59,810.551 \n",
       "  1202.6,816.333 1212.6,821.376 1222.61,828.388 1232.61,834.662 1242.61,841.427 1252.62,847.824 1262.62,853.114 1272.63,858.28 1282.63,864.062 1292.63,868.244 \n",
       "  1302.64,873.288 1312.64,878.454 1322.65,884.605 1332.65,888.419 1342.65,894.323 1352.66,898.998 1362.66,904.656 1372.67,910.069 1382.67,915.974 1392.67,920.033 \n",
       "  1402.68,924.461 1412.68,929.259 1422.69,934.303 1432.69,938.977 1442.69,944.267 1452.7,949.679 1462.7,953.37 1472.71,956.445 1482.71,960.135 1492.71,964.441 \n",
       "  1502.72,968.254 1512.72,972.191 1522.73,976.619 1532.73,981.171 1542.73,984.492 1552.74,989.413 1562.74,993.349 1572.75,997.162 1582.75,1001.59 1592.75,1004.91 \n",
       "  1602.76,1008.97 1612.76,1013.03 1622.77,1016.6 1632.77,1020.17 1642.77,1023.12 1652.78,1026.44 1662.78,1028.78 1672.79,1033.21 1682.79,1036.9 1692.79,1040.46 \n",
       "  1702.8,1042.92 1712.8,1046.61 1722.81,1049.57 1732.81,1052.89 1742.81,1056.09 1752.82,1060.02 1762.82,1062.97 1772.83,1065.93 1782.83,1069.13 1792.83,1072.32 \n",
       "  1802.84,1075.03 1812.84,1078.35 1822.85,1080.93 1832.85,1083.89 1842.85,1088.32 1852.86,1090.65 1862.86,1093.97 1872.86,1098.16 1882.87,1100.99 1892.87,1104.8 \n",
       "  1902.88,1107.51 1912.88,1109.97 1922.88,1112.8 1932.89,1115.75 1942.89,1118.58 1952.9,1120.42 1962.9,1122.76 1972.9,1125.22 1982.91,1128.79 1992.91,1131.86 \n",
       "  2002.92,1135.06 2012.92,1136.66 2022.92,1139.37 2032.93,1142.93 2042.93,1145.52 2052.94,1148.35 2062.94,1149.95 2072.94,1152.53 2082.95,1154.87 2092.95,1157.82 \n",
       "  2102.96,1159.91 2112.96,1162.86 2122.96,1164.95 2132.97,1166.92 2142.97,1168.4 2152.98,1171.96 2162.98,1174.06 2172.98,1177.13 2182.99,1178.73 2192.99,1181.44 \n",
       "  2203,1182.54 2213,1184.76 2223,1186.73 2233.01,1188.82 2243.01,1191.15 2253.02,1193.12 2263.02,1194.97 2273.02,1197.43 2283.03,1198.78 2293.03,1200.5 \n",
       "  \n",
       "  \"/>\n",
       "<polyline clip-path=\"url(#clip7902)\" style=\"stroke:#c271d2; stroke-width:4; stroke-opacity:1; fill:none\" points=\"\n",
       "  302.24,1388.71 312.244,1388.71 322.248,1388.71 332.252,1388.59 342.256,1387.61 352.26,1386.62 362.264,1383.67 372.268,1380.6 382.272,1377.15 392.276,1372.85 \n",
       "  402.28,1368.42 412.284,1363.62 422.288,1357.72 432.292,1350.7 442.296,1341.72 452.3,1333.11 462.304,1325.61 472.308,1317.49 482.312,1309.12 492.316,1299.78 \n",
       "  502.32,1291.29 512.324,1282.43 522.328,1274.43 532.332,1265.33 542.336,1255 552.34,1246.26 562.344,1237.53 572.348,1229.9 582.352,1220.8 592.356,1211.21 \n",
       "  602.36,1199.89 612.364,1189.68 622.368,1181.31 632.372,1171.23 642.375,1160.77 652.379,1150.81 662.383,1141.21 672.387,1132.23 682.391,1123.74 692.395,1114.15 \n",
       "  702.399,1105.78 712.403,1095.08 722.407,1084.75 732.411,1075.03 742.415,1065.8 752.419,1058.18 762.423,1048.95 772.427,1040.59 782.431,1031.85 792.435,1020.9 \n",
       "  802.439,1011.56 812.443,1002.45 822.447,995.563 832.451,986.091 842.455,978.587 852.459,971.822 862.463,964.933 872.467,958.167 882.471,949.679 892.475,942.421 \n",
       "  902.479,935.287 912.483,927.537 922.487,919.541 932.491,912.037 942.495,904.656 952.499,898.014 962.503,890.633 972.507,883.252 982.511,876.732 992.515,868.859 \n",
       "  1002.52,862.586 1012.52,853.975 1022.53,847.086 1032.53,839.951 1042.53,833.431 1052.54,826.666 1062.54,819.654 1072.55,815.471 1082.55,809.075 1092.55,803.416 \n",
       "  1102.56,796.896 1112.56,790.623 1122.57,784.103 1132.57,776.968 1142.57,770.818 1152.58,765.036 1162.58,757.409 1172.59,750.274 1182.59,743.017 1192.59,736.989 \n",
       "  1202.6,731.207 1212.6,726.164 1222.61,719.152 1232.61,712.878 1242.61,706.112 1252.62,699.716 1262.62,694.426 1272.63,689.26 1282.63,683.478 1292.63,679.295 \n",
       "  1302.64,674.252 1312.64,669.085 1322.65,662.935 1332.65,659.121 1342.65,653.217 1352.66,648.542 1362.66,642.883 1372.67,637.471 1382.67,631.443 1392.67,627.384 \n",
       "  1402.68,622.955 1412.68,618.158 1422.69,613.114 1432.69,608.317 1442.69,603.027 1452.7,597.615 1462.7,593.924 1472.71,590.849 1482.71,587.158 1492.71,582.853 \n",
       "  1502.72,579.039 1512.72,575.103 1522.73,570.675 1532.73,566.123 1542.73,562.802 1552.74,557.881 1562.74,553.945 1572.75,550.131 1582.75,545.703 1592.75,542.381 \n",
       "  1602.76,538.322 1612.76,534.263 1622.77,530.695 1632.77,527.128 1642.77,524.175 1652.78,520.854 1662.78,518.517 1672.79,514.088 1682.79,510.398 1692.79,506.831 \n",
       "  1702.8,504.37 1712.8,500.68 1722.81,497.728 1732.81,494.406 1742.81,491.208 1752.82,487.271 1762.82,484.319 1772.83,481.367 1782.83,478.168 1792.83,474.97 \n",
       "  1802.84,472.264 1812.84,468.942 1822.85,466.359 1832.85,463.407 1842.85,458.978 1852.86,456.641 1862.86,453.32 1872.86,449.137 1882.87,446.308 1892.87,442.494 \n",
       "  1902.88,439.788 1912.88,437.328 1922.88,434.499 1932.89,431.546 1942.89,428.717 1952.9,426.872 1962.9,424.534 1972.9,422.074 1982.91,418.507 1992.91,415.431 \n",
       "  2002.92,412.233 2012.92,410.634 2022.92,407.928 2032.93,404.36 2042.93,401.777 2052.94,398.948 2062.94,397.348 2072.94,394.765 2082.95,392.428 2092.95,389.476 \n",
       "  2102.96,387.384 2112.96,384.432 2122.96,382.341 2132.97,380.373 2142.97,378.896 2152.98,375.329 2162.98,373.238 2172.98,370.162 2182.99,368.563 2192.99,365.857 \n",
       "  2203,364.75 2213,362.536 2223,360.567 2233.01,358.476 2243.01,356.139 2253.02,354.171 2263.02,352.326 2273.02,349.865 2283.03,348.512 2293.03,346.79 \n",
       "  \n",
       "  \"/>\n",
       "<path clip-path=\"url(#clip7900)\" d=\"\n",
       "M1799.99 507.595 L2280.76 507.595 L2280.76 205.195 L1799.99 205.195  Z\n",
       "  \" fill=\"#ffffff\" fill-rule=\"evenodd\" fill-opacity=\"1\"/>\n",
       "<polyline clip-path=\"url(#clip7900)\" style=\"stroke:#000000; stroke-width:4; stroke-opacity:1; fill:none\" points=\"\n",
       "  1799.99,507.595 2280.76,507.595 2280.76,205.195 1799.99,205.195 1799.99,507.595 \n",
       "  \"/>\n",
       "<polyline clip-path=\"url(#clip7900)\" style=\"stroke:#009af9; stroke-width:4; stroke-opacity:1; fill:none\" points=\"\n",
       "  1823.99,265.675 1967.99,265.675 \n",
       "  \"/>\n",
       "<g clip-path=\"url(#clip7900)\">\n",
       "<text style=\"fill:#000000; fill-opacity:1; font-family:Arial,Helvetica Neue,Helvetica,sans-serif; font-size:48px; text-anchor:start;\" transform=\"rotate(0, 1991.99, 283.175)\" x=\"1991.99\" y=\"283.175\">susceptible</text>\n",
       "</g>\n",
       "<polyline clip-path=\"url(#clip7900)\" style=\"stroke:#e26f46; stroke-width:4; stroke-opacity:1; fill:none\" points=\"\n",
       "  1823.99,326.155 1967.99,326.155 \n",
       "  \"/>\n",
       "<g clip-path=\"url(#clip7900)\">\n",
       "<text style=\"fill:#000000; fill-opacity:1; font-family:Arial,Helvetica Neue,Helvetica,sans-serif; font-size:48px; text-anchor:start;\" transform=\"rotate(0, 1991.99, 343.655)\" x=\"1991.99\" y=\"343.655\">exposed</text>\n",
       "</g>\n",
       "<polyline clip-path=\"url(#clip7900)\" style=\"stroke:#3da44d; stroke-width:4; stroke-opacity:1; fill:none\" points=\"\n",
       "  1823.99,386.635 1967.99,386.635 \n",
       "  \"/>\n",
       "<g clip-path=\"url(#clip7900)\">\n",
       "<text style=\"fill:#000000; fill-opacity:1; font-family:Arial,Helvetica Neue,Helvetica,sans-serif; font-size:48px; text-anchor:start;\" transform=\"rotate(0, 1991.99, 404.135)\" x=\"1991.99\" y=\"404.135\">infectious</text>\n",
       "</g>\n",
       "<polyline clip-path=\"url(#clip7900)\" style=\"stroke:#c271d2; stroke-width:4; stroke-opacity:1; fill:none\" points=\"\n",
       "  1823.99,447.115 1967.99,447.115 \n",
       "  \"/>\n",
       "<g clip-path=\"url(#clip7900)\">\n",
       "<text style=\"fill:#000000; fill-opacity:1; font-family:Arial,Helvetica Neue,Helvetica,sans-serif; font-size:48px; text-anchor:start;\" transform=\"rotate(0, 1991.99, 464.615)\" x=\"1991.99\" y=\"464.615\">recovered</text>\n",
       "</g>\n",
       "</svg>\n"
      ]
     },
     "execution_count": 104,
     "metadata": {},
     "output_type": "execute_result"
    }
   ],
   "source": [
    "p = plot()\n",
    "\n",
    "plot!(p, S_vals./N, label=\"susceptible\")\n",
    "plot!(p, E_vals./N, label=\"exposed\")\n",
    "plot!(p, I_vals./N, label=\"infectious\")\n",
    "plot!(p, R_vals./N, label=\"recovered\")\n",
    "\n",
    "xlabel!(p, \"time steps\")\n",
    "ylabel!(p, \"fraction of population\")\n",
    "title!(\"fraction of population S/E/I/R over time\")"
   ]
  },
  {
   "cell_type": "markdown",
   "metadata": {},
   "source": [
    "### Exercise 5: Helping with transcripts\n",
    "\n",
    "Correct another 10 + 20 lines of the transcripts (see problem set 1 for details) and report which ones you did."
   ]
  },
  {
   "cell_type": "markdown",
   "metadata": {},
   "source": [
    "I did lines 441-449 of lecture 4 (marked in green)"
   ]
  }
 ],
 "metadata": {
  "@webio": {
   "lastCommId": "192fbea6752b4af19c3811ce326124fd",
   "lastKernelId": "4d115337-4608-445b-823b-bef4c6686c86"
  },
  "kernelspec": {
   "display_name": "Julia 1.4.0",
   "language": "julia",
   "name": "julia-1.4"
  },
  "language_info": {
   "file_extension": ".jl",
   "mimetype": "application/julia",
   "name": "julia",
   "version": "1.4.0"
  }
 },
 "nbformat": 4,
 "nbformat_minor": 2
}
